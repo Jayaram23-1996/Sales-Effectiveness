{
 "cells": [
  {
   "cell_type": "markdown",
   "metadata": {},
   "source": [
    "# **PROJECT SUMMARY**"
   ]
  },
  {
   "cell_type": "markdown",
   "metadata": {},
   "source": [
    "**FicZon Inc is an IT solution provider with products ranging from on-premises products to SAS based solutions. FicZon major leads generation channel is digital and through their website**\n",
    "\n",
    "**FicZon business is majorly dependent on the sales force effectiveness. As the market is maturing and more new competitors entering the market, FicZon is experiencing the dip in sales. Effective sales is dependent on lead quality and as of now, this is based on manual categorization and highly depended on sales staff. Though there is a quality process, which continuously updates the lead categorization, it’s value is in for post analysis, rather than conversation.**\n",
    "\n"
   ]
  },
  {
   "cell_type": "markdown",
   "metadata": {},
   "source": [
    "# **PROBLEM STATEMENT**"
   ]
  },
  {
   "cell_type": "markdown",
   "metadata": {},
   "source": [
    "*FicZon wants to explore Machine Learning to pre-categorize the lead quality and as result, expecting significant increase in sales effectiveness*\n",
    "\n",
    "**PROJECT GOAL:**\n",
    "\n",
    "*Data exploration insights – Sales effectiveness.**\n",
    "\n",
    "*ML model to predict the Lead Category.**"
   ]
  },
  {
   "cell_type": "markdown",
   "metadata": {},
   "source": [
    "# **Business Case: Predicting the lead category whether it is Good or bad from the given sales dataset.**"
   ]
  },
  {
   "cell_type": "markdown",
   "metadata": {},
   "source": [
    "# **Connecting to the server**"
   ]
  },
  {
   "cell_type": "code",
   "execution_count": 1,
   "metadata": {
    "colab": {
     "base_uri": "https://localhost:8080/"
    },
    "id": "q-diF_pDFFtw",
    "outputId": "e5b58e87-f8d5-43cf-c577-bee56e0bf8d1"
   },
   "outputs": [
    {
     "name": "stdout",
     "output_type": "stream",
     "text": [
      "Requirement already satisfied: mysql-connector in c:\\users\\rog zephyrus\\anaconda3\\data science\\lib\\site-packages (2.2.9)\n",
      "Note: you may need to restart the kernel to use updated packages.\n"
     ]
    },
    {
     "name": "stderr",
     "output_type": "stream",
     "text": [
      "WARNING: Ignoring invalid distribution -tatsmodels (c:\\users\\rog zephyrus\\anaconda3\\data science\\lib\\site-packages)\n",
      "WARNING: Ignoring invalid distribution -tatsmodels (c:\\users\\rog zephyrus\\anaconda3\\data science\\lib\\site-packages)\n",
      "WARNING: Ignoring invalid distribution -tatsmodels (c:\\users\\rog zephyrus\\anaconda3\\data science\\lib\\site-packages)\n",
      "WARNING: Ignoring invalid distribution -tatsmodels (c:\\users\\rog zephyrus\\anaconda3\\data science\\lib\\site-packages)\n",
      "WARNING: Ignoring invalid distribution -tatsmodels (c:\\users\\rog zephyrus\\anaconda3\\data science\\lib\\site-packages)\n",
      "WARNING: Ignoring invalid distribution -tatsmodels (c:\\users\\rog zephyrus\\anaconda3\\data science\\lib\\site-packages)\n"
     ]
    }
   ],
   "source": [
    "pip install mysql-connector"
   ]
  },
  {
   "cell_type": "code",
   "execution_count": 2,
   "metadata": {
    "id": "lm2GIAPAQVS9"
   },
   "outputs": [],
   "source": [
    "import os\n",
    "import mysql.connector\n",
    "import pandas as pd\n",
    "import numpy as np"
   ]
  },
  {
   "cell_type": "code",
   "execution_count": 3,
   "metadata": {
    "colab": {
     "base_uri": "https://localhost:8080/"
    },
    "id": "DJrESEuGQVPu",
    "outputId": "e8915e88-9a9f-40b6-81fb-310a437921e1"
   },
   "outputs": [
    {
     "name": "stdout",
     "output_type": "stream",
     "text": [
      "<mysql.connector.connection.MySQLConnection object at 0x000002042F8F3B80>\n"
     ]
    }
   ],
   "source": [
    "## making connections\n",
    "connection=mysql.connector.connect(host = '18.136.157.135',\n",
    "                                  user='dm_team2',\n",
    "                                  password='DM!$Team&27@9!20!')\n",
    "print(connection)"
   ]
  },
  {
   "cell_type": "code",
   "execution_count": 4,
   "metadata": {
    "colab": {
     "base_uri": "https://localhost:8080/"
    },
    "id": "paeVFFpPQVMq",
    "outputId": "885ce723-5e22-45c1-e2ef-9cedd8b43e94"
   },
   "outputs": [
    {
     "name": "stdout",
     "output_type": "stream",
     "text": [
      "('information_schema',)\n",
      "('project_sales',)\n"
     ]
    }
   ],
   "source": [
    "## getting the database name\n",
    "cursor=connection.cursor()\n",
    "cursor.execute('show databases')\n",
    "for i in cursor:\n",
    "    print(i)\n",
    "\n"
   ]
  },
  {
   "cell_type": "code",
   "execution_count": 5,
   "metadata": {
    "id": "LLUNM9FPQtsQ"
   },
   "outputs": [],
   "source": [
    "## connecting the database\n",
    "connection=mysql.connector.connect(host='18.136.157.135',\n",
    "                                  user='dm_team2',\n",
    "                                  password='DM!$Team&27@9!20!',\n",
    "                                  database='project_sales')"
   ]
  },
  {
   "cell_type": "code",
   "execution_count": 6,
   "metadata": {
    "colab": {
     "base_uri": "https://localhost:8080/"
    },
    "id": "zKuyUO6nQxNE",
    "outputId": "0073205d-2a9a-4e4c-ecdc-73aed2e8d45d"
   },
   "outputs": [
    {
     "name": "stdout",
     "output_type": "stream",
     "text": [
      "  Tables_in_project_sales\n",
      "0                    data\n"
     ]
    }
   ],
   "source": [
    "db_tables=pd.read_sql_query('show tables',connection)\n",
    "print(db_tables)"
   ]
  },
  {
   "cell_type": "code",
   "execution_count": 7,
   "metadata": {
    "id": "28sd8aqhCPiZ"
   },
   "outputs": [],
   "source": [
    "query = \"select * from data\""
   ]
  },
  {
   "cell_type": "code",
   "execution_count": 8,
   "metadata": {
    "id": "A20oWvK8CPia"
   },
   "outputs": [],
   "source": [
    "Sales_Data = pd.read_sql(query,connection)"
   ]
  },
  {
   "cell_type": "code",
   "execution_count": 9,
   "metadata": {},
   "outputs": [
    {
     "data": {
      "text/html": [
       "<div>\n",
       "<style scoped>\n",
       "    .dataframe tbody tr th:only-of-type {\n",
       "        vertical-align: middle;\n",
       "    }\n",
       "\n",
       "    .dataframe tbody tr th {\n",
       "        vertical-align: top;\n",
       "    }\n",
       "\n",
       "    .dataframe thead th {\n",
       "        text-align: right;\n",
       "    }\n",
       "</style>\n",
       "<table border=\"1\" class=\"dataframe\">\n",
       "  <thead>\n",
       "    <tr style=\"text-align: right;\">\n",
       "      <th></th>\n",
       "      <th>Created</th>\n",
       "      <th>Product_ID</th>\n",
       "      <th>Source</th>\n",
       "      <th>Mobile</th>\n",
       "      <th>EMAIL</th>\n",
       "      <th>Sales_Agent</th>\n",
       "      <th>Location</th>\n",
       "      <th>Delivery_Mode</th>\n",
       "      <th>Status</th>\n",
       "    </tr>\n",
       "  </thead>\n",
       "  <tbody>\n",
       "    <tr>\n",
       "      <th>0</th>\n",
       "      <td>14-11-2018 10:05</td>\n",
       "      <td></td>\n",
       "      <td>Website</td>\n",
       "      <td>984XXXXXXX</td>\n",
       "      <td>aXXXXXXX@gmail.com</td>\n",
       "      <td>Sales-Agent-11</td>\n",
       "      <td></td>\n",
       "      <td>Mode-5</td>\n",
       "      <td>Open</td>\n",
       "    </tr>\n",
       "    <tr>\n",
       "      <th>1</th>\n",
       "      <td>14-11-2018 09:22</td>\n",
       "      <td></td>\n",
       "      <td>Website</td>\n",
       "      <td>XXXXXXX</td>\n",
       "      <td>#VALUE!</td>\n",
       "      <td>Sales-Agent-10</td>\n",
       "      <td></td>\n",
       "      <td>Mode-5</td>\n",
       "      <td>Open</td>\n",
       "    </tr>\n",
       "    <tr>\n",
       "      <th>2</th>\n",
       "      <td>14-11-2018 09:21</td>\n",
       "      <td></td>\n",
       "      <td>Website</td>\n",
       "      <td>XXXXXXX</td>\n",
       "      <td>dXXXXXXX@yahoo.com</td>\n",
       "      <td>Sales-Agent-10</td>\n",
       "      <td></td>\n",
       "      <td>Mode-5</td>\n",
       "      <td>Open</td>\n",
       "    </tr>\n",
       "    <tr>\n",
       "      <th>3</th>\n",
       "      <td>14-11-2018 08:46</td>\n",
       "      <td></td>\n",
       "      <td>Website</td>\n",
       "      <td>XXXXXXX</td>\n",
       "      <td>wXXXXXXX@gmail.com</td>\n",
       "      <td>Sales-Agent-10</td>\n",
       "      <td></td>\n",
       "      <td>Mode-5</td>\n",
       "      <td>Open</td>\n",
       "    </tr>\n",
       "    <tr>\n",
       "      <th>4</th>\n",
       "      <td>14-11-2018 07:34</td>\n",
       "      <td></td>\n",
       "      <td>Website</td>\n",
       "      <td>XXXXXXX</td>\n",
       "      <td>cXXXXXXX@gmail.com</td>\n",
       "      <td>Sales-Agent-10</td>\n",
       "      <td></td>\n",
       "      <td>Mode-5</td>\n",
       "      <td>Open</td>\n",
       "    </tr>\n",
       "    <tr>\n",
       "      <th>...</th>\n",
       "      <td>...</td>\n",
       "      <td>...</td>\n",
       "      <td>...</td>\n",
       "      <td>...</td>\n",
       "      <td>...</td>\n",
       "      <td>...</td>\n",
       "      <td>...</td>\n",
       "      <td>...</td>\n",
       "      <td>...</td>\n",
       "    </tr>\n",
       "    <tr>\n",
       "      <th>7417</th>\n",
       "      <td>28-04-2018 09:45</td>\n",
       "      <td>9</td>\n",
       "      <td>Call</td>\n",
       "      <td></td>\n",
       "      <td>aXXXXXXX@gmail.com</td>\n",
       "      <td>Sales-Agent-6</td>\n",
       "      <td>Mumbai</td>\n",
       "      <td>Mode-4</td>\n",
       "      <td>LOST</td>\n",
       "    </tr>\n",
       "    <tr>\n",
       "      <th>7418</th>\n",
       "      <td>28-04-2018 09:43</td>\n",
       "      <td>15</td>\n",
       "      <td>Call</td>\n",
       "      <td></td>\n",
       "      <td>#VALUE!</td>\n",
       "      <td>Sales-Agent-12</td>\n",
       "      <td>Other Locations</td>\n",
       "      <td>Mode-5</td>\n",
       "      <td>LOST</td>\n",
       "    </tr>\n",
       "    <tr>\n",
       "      <th>7419</th>\n",
       "      <td>28-04-2018 09:20</td>\n",
       "      <td>5</td>\n",
       "      <td>Live Chat-Direct</td>\n",
       "      <td></td>\n",
       "      <td>sXXXXXXX@gmail.com</td>\n",
       "      <td>Sales-Agent-11</td>\n",
       "      <td>Bangalore</td>\n",
       "      <td>Mode-1</td>\n",
       "      <td>Not Responding</td>\n",
       "    </tr>\n",
       "    <tr>\n",
       "      <th>7420</th>\n",
       "      <td>28-04-2018 08:04</td>\n",
       "      <td>21</td>\n",
       "      <td>CRM form</td>\n",
       "      <td></td>\n",
       "      <td>YXXXXXXX@gmail.com</td>\n",
       "      <td>Sales-Agent-4</td>\n",
       "      <td>Other Locations</td>\n",
       "      <td>Mode-1</td>\n",
       "      <td>Just Enquiry</td>\n",
       "    </tr>\n",
       "    <tr>\n",
       "      <th>7421</th>\n",
       "      <td>28-04-2018 07:54</td>\n",
       "      <td>25</td>\n",
       "      <td>Website</td>\n",
       "      <td></td>\n",
       "      <td>cXXXXXXX@gmail.com</td>\n",
       "      <td>Sales-Agent-3</td>\n",
       "      <td>Chennai</td>\n",
       "      <td>Mode-1</td>\n",
       "      <td>CONVERTED</td>\n",
       "    </tr>\n",
       "  </tbody>\n",
       "</table>\n",
       "<p>7422 rows × 9 columns</p>\n",
       "</div>"
      ],
      "text/plain": [
       "               Created Product_ID            Source      Mobile  \\\n",
       "0     14-11-2018 10:05                      Website  984XXXXXXX   \n",
       "1     14-11-2018 09:22                      Website     XXXXXXX   \n",
       "2     14-11-2018 09:21                      Website     XXXXXXX   \n",
       "3     14-11-2018 08:46                      Website     XXXXXXX   \n",
       "4     14-11-2018 07:34                      Website     XXXXXXX   \n",
       "...                ...        ...               ...         ...   \n",
       "7417  28-04-2018 09:45          9              Call               \n",
       "7418  28-04-2018 09:43         15              Call               \n",
       "7419  28-04-2018 09:20          5  Live Chat-Direct               \n",
       "7420  28-04-2018 08:04         21          CRM form               \n",
       "7421  28-04-2018 07:54         25           Website               \n",
       "\n",
       "                   EMAIL     Sales_Agent         Location Delivery_Mode  \\\n",
       "0     aXXXXXXX@gmail.com  Sales-Agent-11                         Mode-5   \n",
       "1                #VALUE!  Sales-Agent-10                         Mode-5   \n",
       "2     dXXXXXXX@yahoo.com  Sales-Agent-10                         Mode-5   \n",
       "3     wXXXXXXX@gmail.com  Sales-Agent-10                         Mode-5   \n",
       "4     cXXXXXXX@gmail.com  Sales-Agent-10                         Mode-5   \n",
       "...                  ...             ...              ...           ...   \n",
       "7417  aXXXXXXX@gmail.com   Sales-Agent-6           Mumbai        Mode-4   \n",
       "7418             #VALUE!  Sales-Agent-12  Other Locations        Mode-5   \n",
       "7419  sXXXXXXX@gmail.com  Sales-Agent-11        Bangalore        Mode-1   \n",
       "7420  YXXXXXXX@gmail.com   Sales-Agent-4  Other Locations        Mode-1   \n",
       "7421  cXXXXXXX@gmail.com   Sales-Agent-3          Chennai        Mode-1   \n",
       "\n",
       "              Status  \n",
       "0               Open  \n",
       "1               Open  \n",
       "2               Open  \n",
       "3               Open  \n",
       "4               Open  \n",
       "...              ...  \n",
       "7417            LOST  \n",
       "7418            LOST  \n",
       "7419  Not Responding  \n",
       "7420    Just Enquiry  \n",
       "7421       CONVERTED  \n",
       "\n",
       "[7422 rows x 9 columns]"
      ]
     },
     "execution_count": 9,
     "metadata": {},
     "output_type": "execute_result"
    }
   ],
   "source": [
    "Sales_Data"
   ]
  },
  {
   "cell_type": "markdown",
   "metadata": {},
   "source": [
    "# **DOMAIN ANALYSIS**"
   ]
  },
  {
   "cell_type": "markdown",
   "metadata": {},
   "source": [
    "Created -  date and time of lead generrated"
   ]
  },
  {
   "cell_type": "markdown",
   "metadata": {},
   "source": [
    "Product_ID - Product id of the each products "
   ]
  },
  {
   "cell_type": "markdown",
   "metadata": {},
   "source": [
    "Source - The channel through which a lead initially discovers the company"
   ]
  },
  {
   "cell_type": "markdown",
   "metadata": {},
   "source": [
    "Sales Agent - A person or a company that acts as a sales agent on behalf of the company, introducing its products to the leads."
   ]
  },
  {
   "cell_type": "markdown",
   "metadata": {},
   "source": [
    "Location - locations of the leads"
   ]
  },
  {
   "cell_type": "markdown",
   "metadata": {},
   "source": [
    "Delivery_Mode - mode of the delivery according to the location"
   ]
  },
  {
   "cell_type": "markdown",
   "metadata": {},
   "source": [
    "Status - (the target variable) The field is typically used to communicate the status of a record to both the reporting users and the sales rep who is working the lead. \n",
    "The reporting user wants to see explicit detail while the sales rep wants to update the record in a natural and efficient manner."
   ]
  },
  {
   "cell_type": "markdown",
   "metadata": {},
   "source": [
    "# **Basic Checks**"
   ]
  },
  {
   "cell_type": "code",
   "execution_count": 10,
   "metadata": {},
   "outputs": [
    {
     "data": {
      "text/html": [
       "<div>\n",
       "<style scoped>\n",
       "    .dataframe tbody tr th:only-of-type {\n",
       "        vertical-align: middle;\n",
       "    }\n",
       "\n",
       "    .dataframe tbody tr th {\n",
       "        vertical-align: top;\n",
       "    }\n",
       "\n",
       "    .dataframe thead th {\n",
       "        text-align: right;\n",
       "    }\n",
       "</style>\n",
       "<table border=\"1\" class=\"dataframe\">\n",
       "  <thead>\n",
       "    <tr style=\"text-align: right;\">\n",
       "      <th></th>\n",
       "      <th>Created</th>\n",
       "      <th>Product_ID</th>\n",
       "      <th>Source</th>\n",
       "      <th>Mobile</th>\n",
       "      <th>EMAIL</th>\n",
       "      <th>Sales_Agent</th>\n",
       "      <th>Location</th>\n",
       "      <th>Delivery_Mode</th>\n",
       "      <th>Status</th>\n",
       "    </tr>\n",
       "  </thead>\n",
       "  <tbody>\n",
       "    <tr>\n",
       "      <th>0</th>\n",
       "      <td>14-11-2018 10:05</td>\n",
       "      <td></td>\n",
       "      <td>Website</td>\n",
       "      <td>984XXXXXXX</td>\n",
       "      <td>aXXXXXXX@gmail.com</td>\n",
       "      <td>Sales-Agent-11</td>\n",
       "      <td></td>\n",
       "      <td>Mode-5</td>\n",
       "      <td>Open</td>\n",
       "    </tr>\n",
       "    <tr>\n",
       "      <th>1</th>\n",
       "      <td>14-11-2018 09:22</td>\n",
       "      <td></td>\n",
       "      <td>Website</td>\n",
       "      <td>XXXXXXX</td>\n",
       "      <td>#VALUE!</td>\n",
       "      <td>Sales-Agent-10</td>\n",
       "      <td></td>\n",
       "      <td>Mode-5</td>\n",
       "      <td>Open</td>\n",
       "    </tr>\n",
       "    <tr>\n",
       "      <th>2</th>\n",
       "      <td>14-11-2018 09:21</td>\n",
       "      <td></td>\n",
       "      <td>Website</td>\n",
       "      <td>XXXXXXX</td>\n",
       "      <td>dXXXXXXX@yahoo.com</td>\n",
       "      <td>Sales-Agent-10</td>\n",
       "      <td></td>\n",
       "      <td>Mode-5</td>\n",
       "      <td>Open</td>\n",
       "    </tr>\n",
       "    <tr>\n",
       "      <th>3</th>\n",
       "      <td>14-11-2018 08:46</td>\n",
       "      <td></td>\n",
       "      <td>Website</td>\n",
       "      <td>XXXXXXX</td>\n",
       "      <td>wXXXXXXX@gmail.com</td>\n",
       "      <td>Sales-Agent-10</td>\n",
       "      <td></td>\n",
       "      <td>Mode-5</td>\n",
       "      <td>Open</td>\n",
       "    </tr>\n",
       "    <tr>\n",
       "      <th>4</th>\n",
       "      <td>14-11-2018 07:34</td>\n",
       "      <td></td>\n",
       "      <td>Website</td>\n",
       "      <td>XXXXXXX</td>\n",
       "      <td>cXXXXXXX@gmail.com</td>\n",
       "      <td>Sales-Agent-10</td>\n",
       "      <td></td>\n",
       "      <td>Mode-5</td>\n",
       "      <td>Open</td>\n",
       "    </tr>\n",
       "  </tbody>\n",
       "</table>\n",
       "</div>"
      ],
      "text/plain": [
       "            Created Product_ID   Source      Mobile               EMAIL  \\\n",
       "0  14-11-2018 10:05             Website  984XXXXXXX  aXXXXXXX@gmail.com   \n",
       "1  14-11-2018 09:22             Website     XXXXXXX             #VALUE!   \n",
       "2  14-11-2018 09:21             Website     XXXXXXX  dXXXXXXX@yahoo.com   \n",
       "3  14-11-2018 08:46             Website     XXXXXXX  wXXXXXXX@gmail.com   \n",
       "4  14-11-2018 07:34             Website     XXXXXXX  cXXXXXXX@gmail.com   \n",
       "\n",
       "      Sales_Agent Location Delivery_Mode Status  \n",
       "0  Sales-Agent-11                 Mode-5   Open  \n",
       "1  Sales-Agent-10                 Mode-5   Open  \n",
       "2  Sales-Agent-10                 Mode-5   Open  \n",
       "3  Sales-Agent-10                 Mode-5   Open  \n",
       "4  Sales-Agent-10                 Mode-5   Open  "
      ]
     },
     "execution_count": 10,
     "metadata": {},
     "output_type": "execute_result"
    }
   ],
   "source": [
    "Sales_Data.head()"
   ]
  },
  {
   "cell_type": "code",
   "execution_count": 11,
   "metadata": {},
   "outputs": [
    {
     "data": {
      "text/html": [
       "<div>\n",
       "<style scoped>\n",
       "    .dataframe tbody tr th:only-of-type {\n",
       "        vertical-align: middle;\n",
       "    }\n",
       "\n",
       "    .dataframe tbody tr th {\n",
       "        vertical-align: top;\n",
       "    }\n",
       "\n",
       "    .dataframe thead th {\n",
       "        text-align: right;\n",
       "    }\n",
       "</style>\n",
       "<table border=\"1\" class=\"dataframe\">\n",
       "  <thead>\n",
       "    <tr style=\"text-align: right;\">\n",
       "      <th></th>\n",
       "      <th>Created</th>\n",
       "      <th>Product_ID</th>\n",
       "      <th>Source</th>\n",
       "      <th>Mobile</th>\n",
       "      <th>EMAIL</th>\n",
       "      <th>Sales_Agent</th>\n",
       "      <th>Location</th>\n",
       "      <th>Delivery_Mode</th>\n",
       "      <th>Status</th>\n",
       "    </tr>\n",
       "  </thead>\n",
       "  <tbody>\n",
       "    <tr>\n",
       "      <th>7417</th>\n",
       "      <td>28-04-2018 09:45</td>\n",
       "      <td>9</td>\n",
       "      <td>Call</td>\n",
       "      <td></td>\n",
       "      <td>aXXXXXXX@gmail.com</td>\n",
       "      <td>Sales-Agent-6</td>\n",
       "      <td>Mumbai</td>\n",
       "      <td>Mode-4</td>\n",
       "      <td>LOST</td>\n",
       "    </tr>\n",
       "    <tr>\n",
       "      <th>7418</th>\n",
       "      <td>28-04-2018 09:43</td>\n",
       "      <td>15</td>\n",
       "      <td>Call</td>\n",
       "      <td></td>\n",
       "      <td>#VALUE!</td>\n",
       "      <td>Sales-Agent-12</td>\n",
       "      <td>Other Locations</td>\n",
       "      <td>Mode-5</td>\n",
       "      <td>LOST</td>\n",
       "    </tr>\n",
       "    <tr>\n",
       "      <th>7419</th>\n",
       "      <td>28-04-2018 09:20</td>\n",
       "      <td>5</td>\n",
       "      <td>Live Chat-Direct</td>\n",
       "      <td></td>\n",
       "      <td>sXXXXXXX@gmail.com</td>\n",
       "      <td>Sales-Agent-11</td>\n",
       "      <td>Bangalore</td>\n",
       "      <td>Mode-1</td>\n",
       "      <td>Not Responding</td>\n",
       "    </tr>\n",
       "    <tr>\n",
       "      <th>7420</th>\n",
       "      <td>28-04-2018 08:04</td>\n",
       "      <td>21</td>\n",
       "      <td>CRM form</td>\n",
       "      <td></td>\n",
       "      <td>YXXXXXXX@gmail.com</td>\n",
       "      <td>Sales-Agent-4</td>\n",
       "      <td>Other Locations</td>\n",
       "      <td>Mode-1</td>\n",
       "      <td>Just Enquiry</td>\n",
       "    </tr>\n",
       "    <tr>\n",
       "      <th>7421</th>\n",
       "      <td>28-04-2018 07:54</td>\n",
       "      <td>25</td>\n",
       "      <td>Website</td>\n",
       "      <td></td>\n",
       "      <td>cXXXXXXX@gmail.com</td>\n",
       "      <td>Sales-Agent-3</td>\n",
       "      <td>Chennai</td>\n",
       "      <td>Mode-1</td>\n",
       "      <td>CONVERTED</td>\n",
       "    </tr>\n",
       "  </tbody>\n",
       "</table>\n",
       "</div>"
      ],
      "text/plain": [
       "               Created Product_ID            Source Mobile  \\\n",
       "7417  28-04-2018 09:45          9              Call          \n",
       "7418  28-04-2018 09:43         15              Call          \n",
       "7419  28-04-2018 09:20          5  Live Chat-Direct          \n",
       "7420  28-04-2018 08:04         21          CRM form          \n",
       "7421  28-04-2018 07:54         25           Website          \n",
       "\n",
       "                   EMAIL     Sales_Agent         Location Delivery_Mode  \\\n",
       "7417  aXXXXXXX@gmail.com   Sales-Agent-6           Mumbai        Mode-4   \n",
       "7418             #VALUE!  Sales-Agent-12  Other Locations        Mode-5   \n",
       "7419  sXXXXXXX@gmail.com  Sales-Agent-11        Bangalore        Mode-1   \n",
       "7420  YXXXXXXX@gmail.com   Sales-Agent-4  Other Locations        Mode-1   \n",
       "7421  cXXXXXXX@gmail.com   Sales-Agent-3          Chennai        Mode-1   \n",
       "\n",
       "              Status  \n",
       "7417            LOST  \n",
       "7418            LOST  \n",
       "7419  Not Responding  \n",
       "7420    Just Enquiry  \n",
       "7421       CONVERTED  "
      ]
     },
     "execution_count": 11,
     "metadata": {},
     "output_type": "execute_result"
    }
   ],
   "source": [
    "Sales_Data.tail()"
   ]
  },
  {
   "cell_type": "code",
   "execution_count": 12,
   "metadata": {},
   "outputs": [
    {
     "data": {
      "text/plain": [
       "0                Website\n",
       "1                Website\n",
       "2                Website\n",
       "3                Website\n",
       "4                Website\n",
       "              ...       \n",
       "7417                Call\n",
       "7418                Call\n",
       "7419    Live Chat-Direct\n",
       "7420            CRM form\n",
       "7421             Website\n",
       "Name: Source, Length: 7422, dtype: object"
      ]
     },
     "execution_count": 12,
     "metadata": {},
     "output_type": "execute_result"
    }
   ],
   "source": [
    "Sales_Data.Source"
   ]
  },
  {
   "cell_type": "code",
   "execution_count": 13,
   "metadata": {},
   "outputs": [
    {
     "data": {
      "text/html": [
       "<div>\n",
       "<style scoped>\n",
       "    .dataframe tbody tr th:only-of-type {\n",
       "        vertical-align: middle;\n",
       "    }\n",
       "\n",
       "    .dataframe tbody tr th {\n",
       "        vertical-align: top;\n",
       "    }\n",
       "\n",
       "    .dataframe thead th {\n",
       "        text-align: right;\n",
       "    }\n",
       "</style>\n",
       "<table border=\"1\" class=\"dataframe\">\n",
       "  <thead>\n",
       "    <tr style=\"text-align: right;\">\n",
       "      <th></th>\n",
       "      <th>Created</th>\n",
       "      <th>Product_ID</th>\n",
       "      <th>Source</th>\n",
       "      <th>Mobile</th>\n",
       "      <th>EMAIL</th>\n",
       "      <th>Sales_Agent</th>\n",
       "      <th>Location</th>\n",
       "      <th>Delivery_Mode</th>\n",
       "      <th>Status</th>\n",
       "    </tr>\n",
       "  </thead>\n",
       "  <tbody>\n",
       "    <tr>\n",
       "      <th>count</th>\n",
       "      <td>7422</td>\n",
       "      <td>7422</td>\n",
       "      <td>7422</td>\n",
       "      <td>7422</td>\n",
       "      <td>7422</td>\n",
       "      <td>7422</td>\n",
       "      <td>7422</td>\n",
       "      <td>7422</td>\n",
       "      <td>7422</td>\n",
       "    </tr>\n",
       "    <tr>\n",
       "      <th>unique</th>\n",
       "      <td>6752</td>\n",
       "      <td>30</td>\n",
       "      <td>26</td>\n",
       "      <td>487</td>\n",
       "      <td>883</td>\n",
       "      <td>13</td>\n",
       "      <td>18</td>\n",
       "      <td>5</td>\n",
       "      <td>11</td>\n",
       "    </tr>\n",
       "    <tr>\n",
       "      <th>top</th>\n",
       "      <td>26-09-2018 11:30</td>\n",
       "      <td>18</td>\n",
       "      <td>Call</td>\n",
       "      <td></td>\n",
       "      <td>#VALUE!</td>\n",
       "      <td>Sales-Agent-4</td>\n",
       "      <td>Other Locations</td>\n",
       "      <td>Mode-5</td>\n",
       "      <td>Junk Lead</td>\n",
       "    </tr>\n",
       "    <tr>\n",
       "      <th>freq</th>\n",
       "      <td>4</td>\n",
       "      <td>1711</td>\n",
       "      <td>2547</td>\n",
       "      <td>1810</td>\n",
       "      <td>1701</td>\n",
       "      <td>1500</td>\n",
       "      <td>2500</td>\n",
       "      <td>2975</td>\n",
       "      <td>1536</td>\n",
       "    </tr>\n",
       "  </tbody>\n",
       "</table>\n",
       "</div>"
      ],
      "text/plain": [
       "                 Created Product_ID Source Mobile    EMAIL    Sales_Agent  \\\n",
       "count               7422       7422   7422   7422     7422           7422   \n",
       "unique              6752         30     26    487      883             13   \n",
       "top     26-09-2018 11:30         18   Call         #VALUE!  Sales-Agent-4   \n",
       "freq                   4       1711   2547   1810     1701           1500   \n",
       "\n",
       "               Location Delivery_Mode     Status  \n",
       "count              7422          7422       7422  \n",
       "unique               18             5         11  \n",
       "top     Other Locations        Mode-5  Junk Lead  \n",
       "freq               2500          2975       1536  "
      ]
     },
     "execution_count": 13,
     "metadata": {},
     "output_type": "execute_result"
    }
   ],
   "source": [
    "Sales_Data.describe()"
   ]
  },
  {
   "cell_type": "code",
   "execution_count": 14,
   "metadata": {},
   "outputs": [
    {
     "name": "stdout",
     "output_type": "stream",
     "text": [
      "<class 'pandas.core.frame.DataFrame'>\n",
      "RangeIndex: 7422 entries, 0 to 7421\n",
      "Data columns (total 9 columns):\n",
      " #   Column         Non-Null Count  Dtype \n",
      "---  ------         --------------  ----- \n",
      " 0   Created        7422 non-null   object\n",
      " 1   Product_ID     7422 non-null   object\n",
      " 2   Source         7422 non-null   object\n",
      " 3   Mobile         7422 non-null   object\n",
      " 4   EMAIL          7422 non-null   object\n",
      " 5   Sales_Agent    7422 non-null   object\n",
      " 6   Location       7422 non-null   object\n",
      " 7   Delivery_Mode  7422 non-null   object\n",
      " 8   Status         7422 non-null   object\n",
      "dtypes: object(9)\n",
      "memory usage: 522.0+ KB\n"
     ]
    }
   ],
   "source": [
    "Sales_Data.info()"
   ]
  },
  {
   "cell_type": "code",
   "execution_count": 15,
   "metadata": {},
   "outputs": [
    {
     "data": {
      "text/plain": [
       "Junk Lead               1536\n",
       "Not Responding          1129\n",
       "CONVERTED                834\n",
       "Just Enquiry             760\n",
       "Potential                708\n",
       "Long Term                646\n",
       "In Progress Positive     643\n",
       "In Progress Negative     626\n",
       "LOST                     440\n",
       "Open                      82\n",
       "converted                 18\n",
       "Name: Status, dtype: int64"
      ]
     },
     "execution_count": 15,
     "metadata": {},
     "output_type": "execute_result"
    }
   ],
   "source": [
    "# target class count\n",
    "Sales_Data[\"Status\"].value_counts()"
   ]
  },
  {
   "cell_type": "code",
   "execution_count": 16,
   "metadata": {},
   "outputs": [
    {
     "data": {
      "text/plain": [
       "Call                             2547\n",
       "Live Chat-Direct                 1834\n",
       "Website                          1594\n",
       "Live Chat-Google Organic          274\n",
       "Live Chat -PPC                    249\n",
       "Live Chat-Blog                    237\n",
       "Customer Referral                 180\n",
       "US Website                        137\n",
       "Just Dial                          56\n",
       "Existing Client                    51\n",
       "Personal Contact                   50\n",
       "Live Chat-CPC                      50\n",
       "By Recommendation                  32\n",
       "CRM form                           23\n",
       "Existing Customer                  22\n",
       "Live Chat-Google Ads               21\n",
       "Campaign                           19\n",
       "                                   17\n",
       "E-mail Campaign                    12\n",
       "Live Chat-Adwords Remarketing       7\n",
       "Live Chat-Quora                     2\n",
       "Other                               2\n",
       "SMS Campaign                        2\n",
       "Live Chat-Youtube                   2\n",
       "E-Mail Message                      1\n",
       "Live Chat-Justdial                  1\n",
       "Name: Source, dtype: int64"
      ]
     },
     "execution_count": 16,
     "metadata": {},
     "output_type": "execute_result"
    }
   ],
   "source": [
    "Sales_Data[\"Source\"].value_counts()"
   ]
  },
  {
   "cell_type": "markdown",
   "metadata": {},
   "source": [
    "# **Exploratory Data Analysis**"
   ]
  },
  {
   "cell_type": "code",
   "execution_count": 17,
   "metadata": {},
   "outputs": [
    {
     "data": {
      "text/html": [
       "<div>\n",
       "<style scoped>\n",
       "    .dataframe tbody tr th:only-of-type {\n",
       "        vertical-align: middle;\n",
       "    }\n",
       "\n",
       "    .dataframe tbody tr th {\n",
       "        vertical-align: top;\n",
       "    }\n",
       "\n",
       "    .dataframe thead th {\n",
       "        text-align: right;\n",
       "    }\n",
       "</style>\n",
       "<table border=\"1\" class=\"dataframe\">\n",
       "  <thead>\n",
       "    <tr style=\"text-align: right;\">\n",
       "      <th></th>\n",
       "      <th>Created</th>\n",
       "      <th>Product_ID</th>\n",
       "      <th>Source</th>\n",
       "      <th>Mobile</th>\n",
       "      <th>EMAIL</th>\n",
       "      <th>Sales_Agent</th>\n",
       "      <th>Location</th>\n",
       "      <th>Delivery_Mode</th>\n",
       "      <th>Status</th>\n",
       "    </tr>\n",
       "  </thead>\n",
       "  <tbody>\n",
       "    <tr>\n",
       "      <th>0</th>\n",
       "      <td>14-11-2018 10:05</td>\n",
       "      <td></td>\n",
       "      <td>Website</td>\n",
       "      <td>984XXXXXXX</td>\n",
       "      <td>aXXXXXXX@gmail.com</td>\n",
       "      <td>Sales-Agent-11</td>\n",
       "      <td></td>\n",
       "      <td>Mode-5</td>\n",
       "      <td>Open</td>\n",
       "    </tr>\n",
       "    <tr>\n",
       "      <th>1</th>\n",
       "      <td>14-11-2018 09:22</td>\n",
       "      <td></td>\n",
       "      <td>Website</td>\n",
       "      <td>XXXXXXX</td>\n",
       "      <td>#VALUE!</td>\n",
       "      <td>Sales-Agent-10</td>\n",
       "      <td></td>\n",
       "      <td>Mode-5</td>\n",
       "      <td>Open</td>\n",
       "    </tr>\n",
       "    <tr>\n",
       "      <th>2</th>\n",
       "      <td>14-11-2018 09:21</td>\n",
       "      <td></td>\n",
       "      <td>Website</td>\n",
       "      <td>XXXXXXX</td>\n",
       "      <td>dXXXXXXX@yahoo.com</td>\n",
       "      <td>Sales-Agent-10</td>\n",
       "      <td></td>\n",
       "      <td>Mode-5</td>\n",
       "      <td>Open</td>\n",
       "    </tr>\n",
       "    <tr>\n",
       "      <th>3</th>\n",
       "      <td>14-11-2018 08:46</td>\n",
       "      <td></td>\n",
       "      <td>Website</td>\n",
       "      <td>XXXXXXX</td>\n",
       "      <td>wXXXXXXX@gmail.com</td>\n",
       "      <td>Sales-Agent-10</td>\n",
       "      <td></td>\n",
       "      <td>Mode-5</td>\n",
       "      <td>Open</td>\n",
       "    </tr>\n",
       "    <tr>\n",
       "      <th>4</th>\n",
       "      <td>14-11-2018 07:34</td>\n",
       "      <td></td>\n",
       "      <td>Website</td>\n",
       "      <td>XXXXXXX</td>\n",
       "      <td>cXXXXXXX@gmail.com</td>\n",
       "      <td>Sales-Agent-10</td>\n",
       "      <td></td>\n",
       "      <td>Mode-5</td>\n",
       "      <td>Open</td>\n",
       "    </tr>\n",
       "  </tbody>\n",
       "</table>\n",
       "</div>"
      ],
      "text/plain": [
       "            Created Product_ID   Source      Mobile               EMAIL  \\\n",
       "0  14-11-2018 10:05             Website  984XXXXXXX  aXXXXXXX@gmail.com   \n",
       "1  14-11-2018 09:22             Website     XXXXXXX             #VALUE!   \n",
       "2  14-11-2018 09:21             Website     XXXXXXX  dXXXXXXX@yahoo.com   \n",
       "3  14-11-2018 08:46             Website     XXXXXXX  wXXXXXXX@gmail.com   \n",
       "4  14-11-2018 07:34             Website     XXXXXXX  cXXXXXXX@gmail.com   \n",
       "\n",
       "      Sales_Agent Location Delivery_Mode Status  \n",
       "0  Sales-Agent-11                 Mode-5   Open  \n",
       "1  Sales-Agent-10                 Mode-5   Open  \n",
       "2  Sales-Agent-10                 Mode-5   Open  \n",
       "3  Sales-Agent-10                 Mode-5   Open  \n",
       "4  Sales-Agent-10                 Mode-5   Open  "
      ]
     },
     "execution_count": 17,
     "metadata": {},
     "output_type": "execute_result"
    }
   ],
   "source": [
    "Sales_Data.head()"
   ]
  },
  {
   "cell_type": "code",
   "execution_count": 18,
   "metadata": {},
   "outputs": [
    {
     "data": {
      "text/plain": [
       "array(['Open', 'Potential', 'In Progress Positive', 'Not Responding',\n",
       "       'Just Enquiry', 'Junk Lead', 'CONVERTED', 'In Progress Negative',\n",
       "       'LOST', 'Long Term', 'converted'], dtype=object)"
      ]
     },
     "execution_count": 18,
     "metadata": {},
     "output_type": "execute_result"
    }
   ],
   "source": [
    "Sales_Data.Status.unique()"
   ]
  },
  {
   "cell_type": "code",
   "execution_count": 19,
   "metadata": {},
   "outputs": [
    {
     "data": {
      "text/plain": [
       "Created          0\n",
       "Product_ID       0\n",
       "Source           0\n",
       "Mobile           0\n",
       "EMAIL            0\n",
       "Sales_Agent      0\n",
       "Location         0\n",
       "Delivery_Mode    0\n",
       "Status           0\n",
       "dtype: int64"
      ]
     },
     "execution_count": 19,
     "metadata": {},
     "output_type": "execute_result"
    }
   ],
   "source": [
    "Sales_Data.isnull().sum()"
   ]
  },
  {
   "cell_type": "code",
   "execution_count": 20,
   "metadata": {},
   "outputs": [
    {
     "data": {
      "text/html": [
       "<div>\n",
       "<style scoped>\n",
       "    .dataframe tbody tr th:only-of-type {\n",
       "        vertical-align: middle;\n",
       "    }\n",
       "\n",
       "    .dataframe tbody tr th {\n",
       "        vertical-align: top;\n",
       "    }\n",
       "\n",
       "    .dataframe thead th {\n",
       "        text-align: right;\n",
       "    }\n",
       "</style>\n",
       "<table border=\"1\" class=\"dataframe\">\n",
       "  <thead>\n",
       "    <tr style=\"text-align: right;\">\n",
       "      <th></th>\n",
       "      <th>Created</th>\n",
       "      <th>Product_ID</th>\n",
       "      <th>Source</th>\n",
       "      <th>Mobile</th>\n",
       "      <th>EMAIL</th>\n",
       "      <th>Sales_Agent</th>\n",
       "      <th>Location</th>\n",
       "      <th>Delivery_Mode</th>\n",
       "      <th>Status</th>\n",
       "      <th>Created_date</th>\n",
       "      <th>Created_time</th>\n",
       "    </tr>\n",
       "  </thead>\n",
       "  <tbody>\n",
       "    <tr>\n",
       "      <th>0</th>\n",
       "      <td>14-11-2018 10:05</td>\n",
       "      <td></td>\n",
       "      <td>Website</td>\n",
       "      <td>984XXXXXXX</td>\n",
       "      <td>aXXXXXXX@gmail.com</td>\n",
       "      <td>Sales-Agent-11</td>\n",
       "      <td></td>\n",
       "      <td>Mode-5</td>\n",
       "      <td>Open</td>\n",
       "      <td>14-11-2018</td>\n",
       "      <td>10:05</td>\n",
       "    </tr>\n",
       "    <tr>\n",
       "      <th>1</th>\n",
       "      <td>14-11-2018 09:22</td>\n",
       "      <td></td>\n",
       "      <td>Website</td>\n",
       "      <td>XXXXXXX</td>\n",
       "      <td>#VALUE!</td>\n",
       "      <td>Sales-Agent-10</td>\n",
       "      <td></td>\n",
       "      <td>Mode-5</td>\n",
       "      <td>Open</td>\n",
       "      <td>14-11-2018</td>\n",
       "      <td>09:22</td>\n",
       "    </tr>\n",
       "    <tr>\n",
       "      <th>2</th>\n",
       "      <td>14-11-2018 09:21</td>\n",
       "      <td></td>\n",
       "      <td>Website</td>\n",
       "      <td>XXXXXXX</td>\n",
       "      <td>dXXXXXXX@yahoo.com</td>\n",
       "      <td>Sales-Agent-10</td>\n",
       "      <td></td>\n",
       "      <td>Mode-5</td>\n",
       "      <td>Open</td>\n",
       "      <td>14-11-2018</td>\n",
       "      <td>09:21</td>\n",
       "    </tr>\n",
       "    <tr>\n",
       "      <th>3</th>\n",
       "      <td>14-11-2018 08:46</td>\n",
       "      <td></td>\n",
       "      <td>Website</td>\n",
       "      <td>XXXXXXX</td>\n",
       "      <td>wXXXXXXX@gmail.com</td>\n",
       "      <td>Sales-Agent-10</td>\n",
       "      <td></td>\n",
       "      <td>Mode-5</td>\n",
       "      <td>Open</td>\n",
       "      <td>14-11-2018</td>\n",
       "      <td>08:46</td>\n",
       "    </tr>\n",
       "    <tr>\n",
       "      <th>4</th>\n",
       "      <td>14-11-2018 07:34</td>\n",
       "      <td></td>\n",
       "      <td>Website</td>\n",
       "      <td>XXXXXXX</td>\n",
       "      <td>cXXXXXXX@gmail.com</td>\n",
       "      <td>Sales-Agent-10</td>\n",
       "      <td></td>\n",
       "      <td>Mode-5</td>\n",
       "      <td>Open</td>\n",
       "      <td>14-11-2018</td>\n",
       "      <td>07:34</td>\n",
       "    </tr>\n",
       "    <tr>\n",
       "      <th>...</th>\n",
       "      <td>...</td>\n",
       "      <td>...</td>\n",
       "      <td>...</td>\n",
       "      <td>...</td>\n",
       "      <td>...</td>\n",
       "      <td>...</td>\n",
       "      <td>...</td>\n",
       "      <td>...</td>\n",
       "      <td>...</td>\n",
       "      <td>...</td>\n",
       "      <td>...</td>\n",
       "    </tr>\n",
       "    <tr>\n",
       "      <th>7417</th>\n",
       "      <td>28-04-2018 09:45</td>\n",
       "      <td>9</td>\n",
       "      <td>Call</td>\n",
       "      <td></td>\n",
       "      <td>aXXXXXXX@gmail.com</td>\n",
       "      <td>Sales-Agent-6</td>\n",
       "      <td>Mumbai</td>\n",
       "      <td>Mode-4</td>\n",
       "      <td>LOST</td>\n",
       "      <td>28-04-2018</td>\n",
       "      <td>09:45</td>\n",
       "    </tr>\n",
       "    <tr>\n",
       "      <th>7418</th>\n",
       "      <td>28-04-2018 09:43</td>\n",
       "      <td>15</td>\n",
       "      <td>Call</td>\n",
       "      <td></td>\n",
       "      <td>#VALUE!</td>\n",
       "      <td>Sales-Agent-12</td>\n",
       "      <td>Other Locations</td>\n",
       "      <td>Mode-5</td>\n",
       "      <td>LOST</td>\n",
       "      <td>28-04-2018</td>\n",
       "      <td>09:43</td>\n",
       "    </tr>\n",
       "    <tr>\n",
       "      <th>7419</th>\n",
       "      <td>28-04-2018 09:20</td>\n",
       "      <td>5</td>\n",
       "      <td>Live Chat-Direct</td>\n",
       "      <td></td>\n",
       "      <td>sXXXXXXX@gmail.com</td>\n",
       "      <td>Sales-Agent-11</td>\n",
       "      <td>Bangalore</td>\n",
       "      <td>Mode-1</td>\n",
       "      <td>Not Responding</td>\n",
       "      <td>28-04-2018</td>\n",
       "      <td>09:20</td>\n",
       "    </tr>\n",
       "    <tr>\n",
       "      <th>7420</th>\n",
       "      <td>28-04-2018 08:04</td>\n",
       "      <td>21</td>\n",
       "      <td>CRM form</td>\n",
       "      <td></td>\n",
       "      <td>YXXXXXXX@gmail.com</td>\n",
       "      <td>Sales-Agent-4</td>\n",
       "      <td>Other Locations</td>\n",
       "      <td>Mode-1</td>\n",
       "      <td>Just Enquiry</td>\n",
       "      <td>28-04-2018</td>\n",
       "      <td>08:04</td>\n",
       "    </tr>\n",
       "    <tr>\n",
       "      <th>7421</th>\n",
       "      <td>28-04-2018 07:54</td>\n",
       "      <td>25</td>\n",
       "      <td>Website</td>\n",
       "      <td></td>\n",
       "      <td>cXXXXXXX@gmail.com</td>\n",
       "      <td>Sales-Agent-3</td>\n",
       "      <td>Chennai</td>\n",
       "      <td>Mode-1</td>\n",
       "      <td>CONVERTED</td>\n",
       "      <td>28-04-2018</td>\n",
       "      <td>07:54</td>\n",
       "    </tr>\n",
       "  </tbody>\n",
       "</table>\n",
       "<p>7422 rows × 11 columns</p>\n",
       "</div>"
      ],
      "text/plain": [
       "               Created Product_ID            Source      Mobile  \\\n",
       "0     14-11-2018 10:05                      Website  984XXXXXXX   \n",
       "1     14-11-2018 09:22                      Website     XXXXXXX   \n",
       "2     14-11-2018 09:21                      Website     XXXXXXX   \n",
       "3     14-11-2018 08:46                      Website     XXXXXXX   \n",
       "4     14-11-2018 07:34                      Website     XXXXXXX   \n",
       "...                ...        ...               ...         ...   \n",
       "7417  28-04-2018 09:45          9              Call               \n",
       "7418  28-04-2018 09:43         15              Call               \n",
       "7419  28-04-2018 09:20          5  Live Chat-Direct               \n",
       "7420  28-04-2018 08:04         21          CRM form               \n",
       "7421  28-04-2018 07:54         25           Website               \n",
       "\n",
       "                   EMAIL     Sales_Agent         Location Delivery_Mode  \\\n",
       "0     aXXXXXXX@gmail.com  Sales-Agent-11                         Mode-5   \n",
       "1                #VALUE!  Sales-Agent-10                         Mode-5   \n",
       "2     dXXXXXXX@yahoo.com  Sales-Agent-10                         Mode-5   \n",
       "3     wXXXXXXX@gmail.com  Sales-Agent-10                         Mode-5   \n",
       "4     cXXXXXXX@gmail.com  Sales-Agent-10                         Mode-5   \n",
       "...                  ...             ...              ...           ...   \n",
       "7417  aXXXXXXX@gmail.com   Sales-Agent-6           Mumbai        Mode-4   \n",
       "7418             #VALUE!  Sales-Agent-12  Other Locations        Mode-5   \n",
       "7419  sXXXXXXX@gmail.com  Sales-Agent-11        Bangalore        Mode-1   \n",
       "7420  YXXXXXXX@gmail.com   Sales-Agent-4  Other Locations        Mode-1   \n",
       "7421  cXXXXXXX@gmail.com   Sales-Agent-3          Chennai        Mode-1   \n",
       "\n",
       "              Status Created_date Created_time  \n",
       "0               Open   14-11-2018        10:05  \n",
       "1               Open   14-11-2018        09:22  \n",
       "2               Open   14-11-2018        09:21  \n",
       "3               Open   14-11-2018        08:46  \n",
       "4               Open   14-11-2018        07:34  \n",
       "...              ...          ...          ...  \n",
       "7417            LOST   28-04-2018        09:45  \n",
       "7418            LOST   28-04-2018        09:43  \n",
       "7419  Not Responding   28-04-2018        09:20  \n",
       "7420    Just Enquiry   28-04-2018        08:04  \n",
       "7421       CONVERTED   28-04-2018        07:54  \n",
       "\n",
       "[7422 rows x 11 columns]"
      ]
     },
     "execution_count": 20,
     "metadata": {},
     "output_type": "execute_result"
    }
   ],
   "source": [
    "# Splitting Created Column to to convert date and time, so that our model will work efficiently.\n",
    "Sales_Data[['Created_date','Created_time']] = Sales_Data['Created'].str.split(' ', n=1, expand=True)\n",
    "Sales_Data"
   ]
  },
  {
   "cell_type": "code",
   "execution_count": 21,
   "metadata": {},
   "outputs": [],
   "source": [
    "# Extracting Hours\n",
    "Sales_Data[\"Created_hour\"] = pd.to_datetime(Sales_Data[\"Created_time\"]).dt.hour\n",
    "\n",
    "# Extracting Minutes\n",
    "Sales_Data[\"Created_min\"] = pd.to_datetime(Sales_Data[\"Created_time\"]).dt.minute"
   ]
  },
  {
   "cell_type": "code",
   "execution_count": 22,
   "metadata": {},
   "outputs": [],
   "source": [
    "Sales_Data[\"Created_day\"] = pd.to_datetime(Sales_Data.Created_date, format=\"%d-%m-%Y\").dt.day\n",
    "Sales_Data[\"Created_month\"] = pd.to_datetime(Sales_Data[\"Created_date\"], format = \"%d-%m-%Y\").dt.month\n",
    "Sales_Data[\"Created_year\"] = pd.to_datetime(Sales_Data.Created_date, format=\"%d-%m-%Y\").dt.year"
   ]
  },
  {
   "cell_type": "code",
   "execution_count": 23,
   "metadata": {},
   "outputs": [
    {
     "data": {
      "text/plain": [
       "Index(['Created', 'Product_ID', 'Source', 'Mobile', 'EMAIL', 'Sales_Agent',\n",
       "       'Location', 'Delivery_Mode', 'Status', 'Created_date', 'Created_time',\n",
       "       'Created_hour', 'Created_min', 'Created_day', 'Created_month',\n",
       "       'Created_year'],\n",
       "      dtype='object')"
      ]
     },
     "execution_count": 23,
     "metadata": {},
     "output_type": "execute_result"
    }
   ],
   "source": [
    "Sales_Data.columns"
   ]
  },
  {
   "cell_type": "code",
   "execution_count": 24,
   "metadata": {},
   "outputs": [],
   "source": [
    "Sales_Data.drop(['Created','Created_date','Created_time'], axis=1, inplace=True) # Dropping columns after conversion."
   ]
  },
  {
   "cell_type": "code",
   "execution_count": 25,
   "metadata": {},
   "outputs": [
    {
     "data": {
      "text/html": [
       "<div>\n",
       "<style scoped>\n",
       "    .dataframe tbody tr th:only-of-type {\n",
       "        vertical-align: middle;\n",
       "    }\n",
       "\n",
       "    .dataframe tbody tr th {\n",
       "        vertical-align: top;\n",
       "    }\n",
       "\n",
       "    .dataframe thead th {\n",
       "        text-align: right;\n",
       "    }\n",
       "</style>\n",
       "<table border=\"1\" class=\"dataframe\">\n",
       "  <thead>\n",
       "    <tr style=\"text-align: right;\">\n",
       "      <th></th>\n",
       "      <th>Product_ID</th>\n",
       "      <th>Source</th>\n",
       "      <th>Mobile</th>\n",
       "      <th>EMAIL</th>\n",
       "      <th>Sales_Agent</th>\n",
       "      <th>Location</th>\n",
       "      <th>Delivery_Mode</th>\n",
       "      <th>Status</th>\n",
       "      <th>Created_hour</th>\n",
       "      <th>Created_min</th>\n",
       "      <th>Created_day</th>\n",
       "      <th>Created_month</th>\n",
       "      <th>Created_year</th>\n",
       "    </tr>\n",
       "  </thead>\n",
       "  <tbody>\n",
       "    <tr>\n",
       "      <th>0</th>\n",
       "      <td></td>\n",
       "      <td>Website</td>\n",
       "      <td>984XXXXXXX</td>\n",
       "      <td>aXXXXXXX@gmail.com</td>\n",
       "      <td>Sales-Agent-11</td>\n",
       "      <td></td>\n",
       "      <td>Mode-5</td>\n",
       "      <td>Open</td>\n",
       "      <td>10</td>\n",
       "      <td>5</td>\n",
       "      <td>14</td>\n",
       "      <td>11</td>\n",
       "      <td>2018</td>\n",
       "    </tr>\n",
       "    <tr>\n",
       "      <th>1</th>\n",
       "      <td></td>\n",
       "      <td>Website</td>\n",
       "      <td>XXXXXXX</td>\n",
       "      <td>#VALUE!</td>\n",
       "      <td>Sales-Agent-10</td>\n",
       "      <td></td>\n",
       "      <td>Mode-5</td>\n",
       "      <td>Open</td>\n",
       "      <td>9</td>\n",
       "      <td>22</td>\n",
       "      <td>14</td>\n",
       "      <td>11</td>\n",
       "      <td>2018</td>\n",
       "    </tr>\n",
       "    <tr>\n",
       "      <th>2</th>\n",
       "      <td></td>\n",
       "      <td>Website</td>\n",
       "      <td>XXXXXXX</td>\n",
       "      <td>dXXXXXXX@yahoo.com</td>\n",
       "      <td>Sales-Agent-10</td>\n",
       "      <td></td>\n",
       "      <td>Mode-5</td>\n",
       "      <td>Open</td>\n",
       "      <td>9</td>\n",
       "      <td>21</td>\n",
       "      <td>14</td>\n",
       "      <td>11</td>\n",
       "      <td>2018</td>\n",
       "    </tr>\n",
       "    <tr>\n",
       "      <th>3</th>\n",
       "      <td></td>\n",
       "      <td>Website</td>\n",
       "      <td>XXXXXXX</td>\n",
       "      <td>wXXXXXXX@gmail.com</td>\n",
       "      <td>Sales-Agent-10</td>\n",
       "      <td></td>\n",
       "      <td>Mode-5</td>\n",
       "      <td>Open</td>\n",
       "      <td>8</td>\n",
       "      <td>46</td>\n",
       "      <td>14</td>\n",
       "      <td>11</td>\n",
       "      <td>2018</td>\n",
       "    </tr>\n",
       "    <tr>\n",
       "      <th>4</th>\n",
       "      <td></td>\n",
       "      <td>Website</td>\n",
       "      <td>XXXXXXX</td>\n",
       "      <td>cXXXXXXX@gmail.com</td>\n",
       "      <td>Sales-Agent-10</td>\n",
       "      <td></td>\n",
       "      <td>Mode-5</td>\n",
       "      <td>Open</td>\n",
       "      <td>7</td>\n",
       "      <td>34</td>\n",
       "      <td>14</td>\n",
       "      <td>11</td>\n",
       "      <td>2018</td>\n",
       "    </tr>\n",
       "  </tbody>\n",
       "</table>\n",
       "</div>"
      ],
      "text/plain": [
       "  Product_ID   Source      Mobile               EMAIL     Sales_Agent  \\\n",
       "0             Website  984XXXXXXX  aXXXXXXX@gmail.com  Sales-Agent-11   \n",
       "1             Website     XXXXXXX             #VALUE!  Sales-Agent-10   \n",
       "2             Website     XXXXXXX  dXXXXXXX@yahoo.com  Sales-Agent-10   \n",
       "3             Website     XXXXXXX  wXXXXXXX@gmail.com  Sales-Agent-10   \n",
       "4             Website     XXXXXXX  cXXXXXXX@gmail.com  Sales-Agent-10   \n",
       "\n",
       "  Location Delivery_Mode Status  Created_hour  Created_min  Created_day  \\\n",
       "0                 Mode-5   Open            10            5           14   \n",
       "1                 Mode-5   Open             9           22           14   \n",
       "2                 Mode-5   Open             9           21           14   \n",
       "3                 Mode-5   Open             8           46           14   \n",
       "4                 Mode-5   Open             7           34           14   \n",
       "\n",
       "   Created_month  Created_year  \n",
       "0             11          2018  \n",
       "1             11          2018  \n",
       "2             11          2018  \n",
       "3             11          2018  \n",
       "4             11          2018  "
      ]
     },
     "execution_count": 25,
     "metadata": {},
     "output_type": "execute_result"
    }
   ],
   "source": [
    "Sales_Data.head()"
   ]
  },
  {
   "cell_type": "code",
   "execution_count": 26,
   "metadata": {},
   "outputs": [],
   "source": [
    "# Dropping Mobile and Email because it contains all unique & unspecified values and dropping Created_year also because its all 2018.\n",
    "Sales_Data.drop(['Mobile','EMAIL','Created_year'], axis=1, inplace=True)"
   ]
  },
  {
   "cell_type": "code",
   "execution_count": 27,
   "metadata": {},
   "outputs": [
    {
     "data": {
      "text/html": [
       "<div>\n",
       "<style scoped>\n",
       "    .dataframe tbody tr th:only-of-type {\n",
       "        vertical-align: middle;\n",
       "    }\n",
       "\n",
       "    .dataframe tbody tr th {\n",
       "        vertical-align: top;\n",
       "    }\n",
       "\n",
       "    .dataframe thead th {\n",
       "        text-align: right;\n",
       "    }\n",
       "</style>\n",
       "<table border=\"1\" class=\"dataframe\">\n",
       "  <thead>\n",
       "    <tr style=\"text-align: right;\">\n",
       "      <th></th>\n",
       "      <th>Product_ID</th>\n",
       "      <th>Source</th>\n",
       "      <th>Sales_Agent</th>\n",
       "      <th>Location</th>\n",
       "      <th>Delivery_Mode</th>\n",
       "      <th>Status</th>\n",
       "      <th>Created_hour</th>\n",
       "      <th>Created_min</th>\n",
       "      <th>Created_day</th>\n",
       "      <th>Created_month</th>\n",
       "    </tr>\n",
       "  </thead>\n",
       "  <tbody>\n",
       "    <tr>\n",
       "      <th>0</th>\n",
       "      <td></td>\n",
       "      <td>Website</td>\n",
       "      <td>Sales-Agent-11</td>\n",
       "      <td></td>\n",
       "      <td>Mode-5</td>\n",
       "      <td>Open</td>\n",
       "      <td>10</td>\n",
       "      <td>5</td>\n",
       "      <td>14</td>\n",
       "      <td>11</td>\n",
       "    </tr>\n",
       "    <tr>\n",
       "      <th>1</th>\n",
       "      <td></td>\n",
       "      <td>Website</td>\n",
       "      <td>Sales-Agent-10</td>\n",
       "      <td></td>\n",
       "      <td>Mode-5</td>\n",
       "      <td>Open</td>\n",
       "      <td>9</td>\n",
       "      <td>22</td>\n",
       "      <td>14</td>\n",
       "      <td>11</td>\n",
       "    </tr>\n",
       "    <tr>\n",
       "      <th>2</th>\n",
       "      <td></td>\n",
       "      <td>Website</td>\n",
       "      <td>Sales-Agent-10</td>\n",
       "      <td></td>\n",
       "      <td>Mode-5</td>\n",
       "      <td>Open</td>\n",
       "      <td>9</td>\n",
       "      <td>21</td>\n",
       "      <td>14</td>\n",
       "      <td>11</td>\n",
       "    </tr>\n",
       "    <tr>\n",
       "      <th>3</th>\n",
       "      <td></td>\n",
       "      <td>Website</td>\n",
       "      <td>Sales-Agent-10</td>\n",
       "      <td></td>\n",
       "      <td>Mode-5</td>\n",
       "      <td>Open</td>\n",
       "      <td>8</td>\n",
       "      <td>46</td>\n",
       "      <td>14</td>\n",
       "      <td>11</td>\n",
       "    </tr>\n",
       "    <tr>\n",
       "      <th>4</th>\n",
       "      <td></td>\n",
       "      <td>Website</td>\n",
       "      <td>Sales-Agent-10</td>\n",
       "      <td></td>\n",
       "      <td>Mode-5</td>\n",
       "      <td>Open</td>\n",
       "      <td>7</td>\n",
       "      <td>34</td>\n",
       "      <td>14</td>\n",
       "      <td>11</td>\n",
       "    </tr>\n",
       "  </tbody>\n",
       "</table>\n",
       "</div>"
      ],
      "text/plain": [
       "  Product_ID   Source     Sales_Agent Location Delivery_Mode Status  \\\n",
       "0             Website  Sales-Agent-11                 Mode-5   Open   \n",
       "1             Website  Sales-Agent-10                 Mode-5   Open   \n",
       "2             Website  Sales-Agent-10                 Mode-5   Open   \n",
       "3             Website  Sales-Agent-10                 Mode-5   Open   \n",
       "4             Website  Sales-Agent-10                 Mode-5   Open   \n",
       "\n",
       "   Created_hour  Created_min  Created_day  Created_month  \n",
       "0            10            5           14             11  \n",
       "1             9           22           14             11  \n",
       "2             9           21           14             11  \n",
       "3             8           46           14             11  \n",
       "4             7           34           14             11  "
      ]
     },
     "execution_count": 27,
     "metadata": {},
     "output_type": "execute_result"
    }
   ],
   "source": [
    "Sales_Data.head()"
   ]
  },
  {
   "cell_type": "markdown",
   "metadata": {},
   "source": [
    "# **Univariate Analysis**"
   ]
  },
  {
   "cell_type": "code",
   "execution_count": 28,
   "metadata": {},
   "outputs": [
    {
     "name": "stdout",
     "output_type": "stream",
     "text": [
      "Requirement already satisfied: sweetviz in c:\\users\\rog zephyrus\\anaconda3\\data science\\lib\\site-packages (2.1.4)\n",
      "Requirement already satisfied: numpy>=1.16.0 in c:\\users\\rog zephyrus\\anaconda3\\data science\\lib\\site-packages (from sweetviz) (1.22.4)\n",
      "Requirement already satisfied: matplotlib>=3.1.3 in c:\\users\\rog zephyrus\\anaconda3\\data science\\lib\\site-packages (from sweetviz) (3.4.3)\n",
      "Requirement already satisfied: pandas!=1.0.0,!=1.0.1,!=1.0.2,>=0.25.3 in c:\\users\\rog zephyrus\\anaconda3\\data science\\lib\\site-packages (from sweetviz) (1.3.4)\n",
      "Requirement already satisfied: scipy>=1.3.2 in c:\\users\\rog zephyrus\\anaconda3\\data science\\lib\\site-packages (from sweetviz) (1.7.1)\n",
      "Requirement already satisfied: jinja2>=2.11.1 in c:\\users\\rog zephyrus\\anaconda3\\data science\\lib\\site-packages (from sweetviz) (2.11.3)\n",
      "Requirement already satisfied: importlib-resources>=1.2.0 in c:\\users\\rog zephyrus\\anaconda3\\data science\\lib\\site-packages (from sweetviz) (5.9.0)\n",
      "Requirement already satisfied: tqdm>=4.43.0 in c:\\users\\rog zephyrus\\anaconda3\\data science\\lib\\site-packages (from sweetviz) (4.62.3)\n",
      "Requirement already satisfied: zipp>=3.1.0 in c:\\users\\rog zephyrus\\anaconda3\\data science\\lib\\site-packages (from importlib-resources>=1.2.0->sweetviz) (3.6.0)\n",
      "Requirement already satisfied: MarkupSafe>=0.23 in c:\\users\\rog zephyrus\\anaconda3\\data science\\lib\\site-packages (from jinja2>=2.11.1->sweetviz) (1.1.1)\n",
      "Requirement already satisfied: pyparsing>=2.2.1 in c:\\users\\rog zephyrus\\anaconda3\\data science\\lib\\site-packages (from matplotlib>=3.1.3->sweetviz) (3.0.4)\n",
      "Requirement already satisfied: python-dateutil>=2.7 in c:\\users\\rog zephyrus\\anaconda3\\data science\\lib\\site-packages (from matplotlib>=3.1.3->sweetviz) (2.8.2)\n",
      "Requirement already satisfied: cycler>=0.10 in c:\\users\\rog zephyrus\\anaconda3\\data science\\lib\\site-packages (from matplotlib>=3.1.3->sweetviz) (0.10.0)\n",
      "Requirement already satisfied: pillow>=6.2.0 in c:\\users\\rog zephyrus\\anaconda3\\data science\\lib\\site-packages (from matplotlib>=3.1.3->sweetviz) (8.4.0)\n",
      "Requirement already satisfied: kiwisolver>=1.0.1 in c:\\users\\rog zephyrus\\anaconda3\\data science\\lib\\site-packages (from matplotlib>=3.1.3->sweetviz) (1.3.1)\n",
      "Requirement already satisfied: six in c:\\users\\rog zephyrus\\anaconda3\\data science\\lib\\site-packages (from cycler>=0.10->matplotlib>=3.1.3->sweetviz) (1.16.0)\n",
      "Requirement already satisfied: pytz>=2017.3 in c:\\users\\rog zephyrus\\anaconda3\\data science\\lib\\site-packages (from pandas!=1.0.0,!=1.0.1,!=1.0.2,>=0.25.3->sweetviz) (2021.3)\n",
      "Requirement already satisfied: colorama in c:\\users\\rog zephyrus\\anaconda3\\data science\\lib\\site-packages (from tqdm>=4.43.0->sweetviz) (0.4.4)\n"
     ]
    },
    {
     "name": "stderr",
     "output_type": "stream",
     "text": [
      "WARNING: Ignoring invalid distribution -tatsmodels (c:\\users\\rog zephyrus\\anaconda3\\data science\\lib\\site-packages)\n",
      "WARNING: Ignoring invalid distribution -tatsmodels (c:\\users\\rog zephyrus\\anaconda3\\data science\\lib\\site-packages)\n",
      "WARNING: Ignoring invalid distribution -tatsmodels (c:\\users\\rog zephyrus\\anaconda3\\data science\\lib\\site-packages)\n",
      "WARNING: Ignoring invalid distribution -tatsmodels (c:\\users\\rog zephyrus\\anaconda3\\data science\\lib\\site-packages)\n",
      "WARNING: Ignoring invalid distribution -tatsmodels (c:\\users\\rog zephyrus\\anaconda3\\data science\\lib\\site-packages)\n",
      "WARNING: Ignoring invalid distribution -tatsmodels (c:\\users\\rog zephyrus\\anaconda3\\data science\\lib\\site-packages)\n"
     ]
    }
   ],
   "source": [
    "! pip install sweetviz"
   ]
  },
  {
   "cell_type": "code",
   "execution_count": 29,
   "metadata": {},
   "outputs": [
    {
     "data": {
      "application/vnd.jupyter.widget-view+json": {
       "model_id": "1e408033af8f426bbd3d192d1a09d351",
       "version_major": 2,
       "version_minor": 0
      },
      "text/plain": [
       "                                             |                                             | [  0%]   00:00 ->…"
      ]
     },
     "metadata": {},
     "output_type": "display_data"
    },
    {
     "name": "stdout",
     "output_type": "stream",
     "text": [
      "Report SWEETVIZ_REPORT.html was generated! NOTEBOOK/COLAB USERS: the web browser MAY not pop up, regardless, the report IS saved in your notebook/colab files.\n"
     ]
    }
   ],
   "source": [
    "import sweetviz as sv\n",
    "my_report=sv.analyze(Sales_Data)\n",
    "my_report.show_html()"
   ]
  },
  {
   "cell_type": "code",
   "execution_count": 30,
   "metadata": {},
   "outputs": [],
   "source": [
    "# Defining 'Status' as 'Good' or 'Bad'\n",
    "Sales_Data.Status.replace(['CONVERTED','converted','In Progress Positive','Potential','Long Term','Open'],'Good',inplace=True)\n",
    "Sales_Data.Status.replace(['LOST','In Progress Negative','Not Responding','Junk Lead','Just Enquiry'],'Bad',inplace=True)"
   ]
  },
  {
   "cell_type": "code",
   "execution_count": 31,
   "metadata": {},
   "outputs": [
    {
     "data": {
      "text/html": [
       "<div>\n",
       "<style scoped>\n",
       "    .dataframe tbody tr th:only-of-type {\n",
       "        vertical-align: middle;\n",
       "    }\n",
       "\n",
       "    .dataframe tbody tr th {\n",
       "        vertical-align: top;\n",
       "    }\n",
       "\n",
       "    .dataframe thead th {\n",
       "        text-align: right;\n",
       "    }\n",
       "</style>\n",
       "<table border=\"1\" class=\"dataframe\">\n",
       "  <thead>\n",
       "    <tr style=\"text-align: right;\">\n",
       "      <th></th>\n",
       "      <th>Product_ID</th>\n",
       "      <th>Source</th>\n",
       "      <th>Sales_Agent</th>\n",
       "      <th>Location</th>\n",
       "      <th>Delivery_Mode</th>\n",
       "      <th>Status</th>\n",
       "      <th>Created_hour</th>\n",
       "      <th>Created_min</th>\n",
       "      <th>Created_day</th>\n",
       "      <th>Created_month</th>\n",
       "    </tr>\n",
       "  </thead>\n",
       "  <tbody>\n",
       "    <tr>\n",
       "      <th>0</th>\n",
       "      <td></td>\n",
       "      <td>Website</td>\n",
       "      <td>Sales-Agent-11</td>\n",
       "      <td></td>\n",
       "      <td>Mode-5</td>\n",
       "      <td>Good</td>\n",
       "      <td>10</td>\n",
       "      <td>5</td>\n",
       "      <td>14</td>\n",
       "      <td>11</td>\n",
       "    </tr>\n",
       "    <tr>\n",
       "      <th>1</th>\n",
       "      <td></td>\n",
       "      <td>Website</td>\n",
       "      <td>Sales-Agent-10</td>\n",
       "      <td></td>\n",
       "      <td>Mode-5</td>\n",
       "      <td>Good</td>\n",
       "      <td>9</td>\n",
       "      <td>22</td>\n",
       "      <td>14</td>\n",
       "      <td>11</td>\n",
       "    </tr>\n",
       "    <tr>\n",
       "      <th>2</th>\n",
       "      <td></td>\n",
       "      <td>Website</td>\n",
       "      <td>Sales-Agent-10</td>\n",
       "      <td></td>\n",
       "      <td>Mode-5</td>\n",
       "      <td>Good</td>\n",
       "      <td>9</td>\n",
       "      <td>21</td>\n",
       "      <td>14</td>\n",
       "      <td>11</td>\n",
       "    </tr>\n",
       "    <tr>\n",
       "      <th>3</th>\n",
       "      <td></td>\n",
       "      <td>Website</td>\n",
       "      <td>Sales-Agent-10</td>\n",
       "      <td></td>\n",
       "      <td>Mode-5</td>\n",
       "      <td>Good</td>\n",
       "      <td>8</td>\n",
       "      <td>46</td>\n",
       "      <td>14</td>\n",
       "      <td>11</td>\n",
       "    </tr>\n",
       "    <tr>\n",
       "      <th>4</th>\n",
       "      <td></td>\n",
       "      <td>Website</td>\n",
       "      <td>Sales-Agent-10</td>\n",
       "      <td></td>\n",
       "      <td>Mode-5</td>\n",
       "      <td>Good</td>\n",
       "      <td>7</td>\n",
       "      <td>34</td>\n",
       "      <td>14</td>\n",
       "      <td>11</td>\n",
       "    </tr>\n",
       "    <tr>\n",
       "      <th>...</th>\n",
       "      <td>...</td>\n",
       "      <td>...</td>\n",
       "      <td>...</td>\n",
       "      <td>...</td>\n",
       "      <td>...</td>\n",
       "      <td>...</td>\n",
       "      <td>...</td>\n",
       "      <td>...</td>\n",
       "      <td>...</td>\n",
       "      <td>...</td>\n",
       "    </tr>\n",
       "    <tr>\n",
       "      <th>7417</th>\n",
       "      <td>9</td>\n",
       "      <td>Call</td>\n",
       "      <td>Sales-Agent-6</td>\n",
       "      <td>Mumbai</td>\n",
       "      <td>Mode-4</td>\n",
       "      <td>Bad</td>\n",
       "      <td>9</td>\n",
       "      <td>45</td>\n",
       "      <td>28</td>\n",
       "      <td>4</td>\n",
       "    </tr>\n",
       "    <tr>\n",
       "      <th>7418</th>\n",
       "      <td>15</td>\n",
       "      <td>Call</td>\n",
       "      <td>Sales-Agent-12</td>\n",
       "      <td>Other Locations</td>\n",
       "      <td>Mode-5</td>\n",
       "      <td>Bad</td>\n",
       "      <td>9</td>\n",
       "      <td>43</td>\n",
       "      <td>28</td>\n",
       "      <td>4</td>\n",
       "    </tr>\n",
       "    <tr>\n",
       "      <th>7419</th>\n",
       "      <td>5</td>\n",
       "      <td>Live Chat-Direct</td>\n",
       "      <td>Sales-Agent-11</td>\n",
       "      <td>Bangalore</td>\n",
       "      <td>Mode-1</td>\n",
       "      <td>Bad</td>\n",
       "      <td>9</td>\n",
       "      <td>20</td>\n",
       "      <td>28</td>\n",
       "      <td>4</td>\n",
       "    </tr>\n",
       "    <tr>\n",
       "      <th>7420</th>\n",
       "      <td>21</td>\n",
       "      <td>CRM form</td>\n",
       "      <td>Sales-Agent-4</td>\n",
       "      <td>Other Locations</td>\n",
       "      <td>Mode-1</td>\n",
       "      <td>Bad</td>\n",
       "      <td>8</td>\n",
       "      <td>4</td>\n",
       "      <td>28</td>\n",
       "      <td>4</td>\n",
       "    </tr>\n",
       "    <tr>\n",
       "      <th>7421</th>\n",
       "      <td>25</td>\n",
       "      <td>Website</td>\n",
       "      <td>Sales-Agent-3</td>\n",
       "      <td>Chennai</td>\n",
       "      <td>Mode-1</td>\n",
       "      <td>Good</td>\n",
       "      <td>7</td>\n",
       "      <td>54</td>\n",
       "      <td>28</td>\n",
       "      <td>4</td>\n",
       "    </tr>\n",
       "  </tbody>\n",
       "</table>\n",
       "<p>7422 rows × 10 columns</p>\n",
       "</div>"
      ],
      "text/plain": [
       "     Product_ID            Source     Sales_Agent         Location  \\\n",
       "0                         Website  Sales-Agent-11                    \n",
       "1                         Website  Sales-Agent-10                    \n",
       "2                         Website  Sales-Agent-10                    \n",
       "3                         Website  Sales-Agent-10                    \n",
       "4                         Website  Sales-Agent-10                    \n",
       "...         ...               ...             ...              ...   \n",
       "7417          9              Call   Sales-Agent-6           Mumbai   \n",
       "7418         15              Call  Sales-Agent-12  Other Locations   \n",
       "7419          5  Live Chat-Direct  Sales-Agent-11        Bangalore   \n",
       "7420         21          CRM form   Sales-Agent-4  Other Locations   \n",
       "7421         25           Website   Sales-Agent-3          Chennai   \n",
       "\n",
       "     Delivery_Mode Status  Created_hour  Created_min  Created_day  \\\n",
       "0           Mode-5   Good            10            5           14   \n",
       "1           Mode-5   Good             9           22           14   \n",
       "2           Mode-5   Good             9           21           14   \n",
       "3           Mode-5   Good             8           46           14   \n",
       "4           Mode-5   Good             7           34           14   \n",
       "...            ...    ...           ...          ...          ...   \n",
       "7417        Mode-4    Bad             9           45           28   \n",
       "7418        Mode-5    Bad             9           43           28   \n",
       "7419        Mode-1    Bad             9           20           28   \n",
       "7420        Mode-1    Bad             8            4           28   \n",
       "7421        Mode-1   Good             7           54           28   \n",
       "\n",
       "      Created_month  \n",
       "0                11  \n",
       "1                11  \n",
       "2                11  \n",
       "3                11  \n",
       "4                11  \n",
       "...             ...  \n",
       "7417              4  \n",
       "7418              4  \n",
       "7419              4  \n",
       "7420              4  \n",
       "7421              4  \n",
       "\n",
       "[7422 rows x 10 columns]"
      ]
     },
     "execution_count": 31,
     "metadata": {},
     "output_type": "execute_result"
    }
   ],
   "source": [
    "Sales_Data"
   ]
  },
  {
   "cell_type": "code",
   "execution_count": 32,
   "metadata": {},
   "outputs": [
    {
     "data": {
      "text/plain": [
       "Other Locations    2500\n",
       "Bangalore          2084\n",
       "Chennai             909\n",
       "Hyderabad           528\n",
       "Delhi               471\n",
       "Mumbai              402\n",
       "Pune                142\n",
       "UAE                  79\n",
       "                     58\n",
       "Trivandrum           58\n",
       "Kolkata              55\n",
       "USA                  45\n",
       "UK                   41\n",
       "AUSTRALIA            25\n",
       "Singapore            17\n",
       "Malaysia              4\n",
       "EUROPE                3\n",
       "Howrah                1\n",
       "Name: Location, dtype: int64"
      ]
     },
     "execution_count": 32,
     "metadata": {},
     "output_type": "execute_result"
    }
   ],
   "source": [
    "Sales_Data['Location'].value_counts()"
   ]
  },
  {
   "cell_type": "code",
   "execution_count": 33,
   "metadata": {},
   "outputs": [],
   "source": [
    "Sales_Data.Location.replace(['UAE','USA','UK','AUSTRALIA','Singapore','Malaysia','EUROPE'],'Foreign',inplace=True)\n",
    "Sales_Data.Location.replace(['Howrah','Kolkata','Trivandrum'],'Other Locations',inplace=True)"
   ]
  },
  {
   "cell_type": "code",
   "execution_count": 34,
   "metadata": {},
   "outputs": [
    {
     "data": {
      "text/html": [
       "<div>\n",
       "<style scoped>\n",
       "    .dataframe tbody tr th:only-of-type {\n",
       "        vertical-align: middle;\n",
       "    }\n",
       "\n",
       "    .dataframe tbody tr th {\n",
       "        vertical-align: top;\n",
       "    }\n",
       "\n",
       "    .dataframe thead th {\n",
       "        text-align: right;\n",
       "    }\n",
       "</style>\n",
       "<table border=\"1\" class=\"dataframe\">\n",
       "  <thead>\n",
       "    <tr style=\"text-align: right;\">\n",
       "      <th></th>\n",
       "      <th>Product_ID</th>\n",
       "      <th>Source</th>\n",
       "      <th>Sales_Agent</th>\n",
       "      <th>Location</th>\n",
       "      <th>Delivery_Mode</th>\n",
       "      <th>Status</th>\n",
       "      <th>Created_hour</th>\n",
       "      <th>Created_min</th>\n",
       "      <th>Created_day</th>\n",
       "      <th>Created_month</th>\n",
       "    </tr>\n",
       "  </thead>\n",
       "  <tbody>\n",
       "    <tr>\n",
       "      <th>0</th>\n",
       "      <td></td>\n",
       "      <td>Website</td>\n",
       "      <td>Sales-Agent-11</td>\n",
       "      <td></td>\n",
       "      <td>Mode-5</td>\n",
       "      <td>Good</td>\n",
       "      <td>10</td>\n",
       "      <td>5</td>\n",
       "      <td>14</td>\n",
       "      <td>11</td>\n",
       "    </tr>\n",
       "    <tr>\n",
       "      <th>1</th>\n",
       "      <td></td>\n",
       "      <td>Website</td>\n",
       "      <td>Sales-Agent-10</td>\n",
       "      <td></td>\n",
       "      <td>Mode-5</td>\n",
       "      <td>Good</td>\n",
       "      <td>9</td>\n",
       "      <td>22</td>\n",
       "      <td>14</td>\n",
       "      <td>11</td>\n",
       "    </tr>\n",
       "    <tr>\n",
       "      <th>2</th>\n",
       "      <td></td>\n",
       "      <td>Website</td>\n",
       "      <td>Sales-Agent-10</td>\n",
       "      <td></td>\n",
       "      <td>Mode-5</td>\n",
       "      <td>Good</td>\n",
       "      <td>9</td>\n",
       "      <td>21</td>\n",
       "      <td>14</td>\n",
       "      <td>11</td>\n",
       "    </tr>\n",
       "    <tr>\n",
       "      <th>3</th>\n",
       "      <td></td>\n",
       "      <td>Website</td>\n",
       "      <td>Sales-Agent-10</td>\n",
       "      <td></td>\n",
       "      <td>Mode-5</td>\n",
       "      <td>Good</td>\n",
       "      <td>8</td>\n",
       "      <td>46</td>\n",
       "      <td>14</td>\n",
       "      <td>11</td>\n",
       "    </tr>\n",
       "    <tr>\n",
       "      <th>4</th>\n",
       "      <td></td>\n",
       "      <td>Website</td>\n",
       "      <td>Sales-Agent-10</td>\n",
       "      <td></td>\n",
       "      <td>Mode-5</td>\n",
       "      <td>Good</td>\n",
       "      <td>7</td>\n",
       "      <td>34</td>\n",
       "      <td>14</td>\n",
       "      <td>11</td>\n",
       "    </tr>\n",
       "    <tr>\n",
       "      <th>...</th>\n",
       "      <td>...</td>\n",
       "      <td>...</td>\n",
       "      <td>...</td>\n",
       "      <td>...</td>\n",
       "      <td>...</td>\n",
       "      <td>...</td>\n",
       "      <td>...</td>\n",
       "      <td>...</td>\n",
       "      <td>...</td>\n",
       "      <td>...</td>\n",
       "    </tr>\n",
       "    <tr>\n",
       "      <th>7417</th>\n",
       "      <td>9</td>\n",
       "      <td>Call</td>\n",
       "      <td>Sales-Agent-6</td>\n",
       "      <td>Mumbai</td>\n",
       "      <td>Mode-4</td>\n",
       "      <td>Bad</td>\n",
       "      <td>9</td>\n",
       "      <td>45</td>\n",
       "      <td>28</td>\n",
       "      <td>4</td>\n",
       "    </tr>\n",
       "    <tr>\n",
       "      <th>7418</th>\n",
       "      <td>15</td>\n",
       "      <td>Call</td>\n",
       "      <td>Sales-Agent-12</td>\n",
       "      <td>Other Locations</td>\n",
       "      <td>Mode-5</td>\n",
       "      <td>Bad</td>\n",
       "      <td>9</td>\n",
       "      <td>43</td>\n",
       "      <td>28</td>\n",
       "      <td>4</td>\n",
       "    </tr>\n",
       "    <tr>\n",
       "      <th>7419</th>\n",
       "      <td>5</td>\n",
       "      <td>Live Chat-Direct</td>\n",
       "      <td>Sales-Agent-11</td>\n",
       "      <td>Bangalore</td>\n",
       "      <td>Mode-1</td>\n",
       "      <td>Bad</td>\n",
       "      <td>9</td>\n",
       "      <td>20</td>\n",
       "      <td>28</td>\n",
       "      <td>4</td>\n",
       "    </tr>\n",
       "    <tr>\n",
       "      <th>7420</th>\n",
       "      <td>21</td>\n",
       "      <td>CRM form</td>\n",
       "      <td>Sales-Agent-4</td>\n",
       "      <td>Other Locations</td>\n",
       "      <td>Mode-1</td>\n",
       "      <td>Bad</td>\n",
       "      <td>8</td>\n",
       "      <td>4</td>\n",
       "      <td>28</td>\n",
       "      <td>4</td>\n",
       "    </tr>\n",
       "    <tr>\n",
       "      <th>7421</th>\n",
       "      <td>25</td>\n",
       "      <td>Website</td>\n",
       "      <td>Sales-Agent-3</td>\n",
       "      <td>Chennai</td>\n",
       "      <td>Mode-1</td>\n",
       "      <td>Good</td>\n",
       "      <td>7</td>\n",
       "      <td>54</td>\n",
       "      <td>28</td>\n",
       "      <td>4</td>\n",
       "    </tr>\n",
       "  </tbody>\n",
       "</table>\n",
       "<p>7422 rows × 10 columns</p>\n",
       "</div>"
      ],
      "text/plain": [
       "     Product_ID            Source     Sales_Agent         Location  \\\n",
       "0                         Website  Sales-Agent-11                    \n",
       "1                         Website  Sales-Agent-10                    \n",
       "2                         Website  Sales-Agent-10                    \n",
       "3                         Website  Sales-Agent-10                    \n",
       "4                         Website  Sales-Agent-10                    \n",
       "...         ...               ...             ...              ...   \n",
       "7417          9              Call   Sales-Agent-6           Mumbai   \n",
       "7418         15              Call  Sales-Agent-12  Other Locations   \n",
       "7419          5  Live Chat-Direct  Sales-Agent-11        Bangalore   \n",
       "7420         21          CRM form   Sales-Agent-4  Other Locations   \n",
       "7421         25           Website   Sales-Agent-3          Chennai   \n",
       "\n",
       "     Delivery_Mode Status  Created_hour  Created_min  Created_day  \\\n",
       "0           Mode-5   Good            10            5           14   \n",
       "1           Mode-5   Good             9           22           14   \n",
       "2           Mode-5   Good             9           21           14   \n",
       "3           Mode-5   Good             8           46           14   \n",
       "4           Mode-5   Good             7           34           14   \n",
       "...            ...    ...           ...          ...          ...   \n",
       "7417        Mode-4    Bad             9           45           28   \n",
       "7418        Mode-5    Bad             9           43           28   \n",
       "7419        Mode-1    Bad             9           20           28   \n",
       "7420        Mode-1    Bad             8            4           28   \n",
       "7421        Mode-1   Good             7           54           28   \n",
       "\n",
       "      Created_month  \n",
       "0                11  \n",
       "1                11  \n",
       "2                11  \n",
       "3                11  \n",
       "4                11  \n",
       "...             ...  \n",
       "7417              4  \n",
       "7418              4  \n",
       "7419              4  \n",
       "7420              4  \n",
       "7421              4  \n",
       "\n",
       "[7422 rows x 10 columns]"
      ]
     },
     "execution_count": 34,
     "metadata": {},
     "output_type": "execute_result"
    }
   ],
   "source": [
    "Sales_Data"
   ]
  },
  {
   "cell_type": "code",
   "execution_count": 35,
   "metadata": {},
   "outputs": [
    {
     "data": {
      "text/plain": [
       "array(['Website', '', 'Live Chat-Google Organic', 'Call',\n",
       "       'Live Chat-Direct', 'By Recommendation', 'Customer Referral',\n",
       "       'Live Chat-Blog', 'Live Chat -PPC', 'Live Chat-Google Ads',\n",
       "       'Live Chat-Adwords Remarketing', 'E-Mail Message',\n",
       "       'Existing Client', 'Live Chat-CPC', 'Existing Customer',\n",
       "       'Live Chat-Quora', 'US Website', 'Just Dial', 'Campaign', 'Other',\n",
       "       'E-mail Campaign', 'CRM form', 'SMS Campaign', 'Personal Contact',\n",
       "       'Live Chat-Youtube', 'Live Chat-Justdial'], dtype=object)"
      ]
     },
     "execution_count": 35,
     "metadata": {},
     "output_type": "execute_result"
    }
   ],
   "source": [
    "Sales_Data.Source.unique()"
   ]
  },
  {
   "cell_type": "code",
   "execution_count": 36,
   "metadata": {},
   "outputs": [],
   "source": [
    "Sales_Data.Source.replace(['Live Chat-Direct','Live Chat-Google Organic','Live Chat -PPC','Live Chat-Blog','Live Chat-Quora',\n",
    "                    'Live Chat-CPC','Live Chat-Google Ads','Live Chat-Adwords Remarketing','Live Chat-Youtube',\n",
    "                    'Live Chat-Justdial'],'Live Chat',inplace=True)\n",
    "Sales_Data.Source.replace(['Existing Client','CRM form','Personal Contact'],'Existing Customer',inplace=True)\n",
    "Sales_Data.replace('By Recommendation','Customer Referral',inplace=True)\n",
    "Sales_Data.replace(['US Website','Just Dial'],'Website',inplace=True)\n",
    "Sales_Data.replace(['E-mail Campaign','SMS Campaign','E-Mail Message','Other'],'Campaign',inplace=True)"
   ]
  },
  {
   "cell_type": "code",
   "execution_count": 37,
   "metadata": {},
   "outputs": [
    {
     "data": {
      "text/html": [
       "<div>\n",
       "<style scoped>\n",
       "    .dataframe tbody tr th:only-of-type {\n",
       "        vertical-align: middle;\n",
       "    }\n",
       "\n",
       "    .dataframe tbody tr th {\n",
       "        vertical-align: top;\n",
       "    }\n",
       "\n",
       "    .dataframe thead th {\n",
       "        text-align: right;\n",
       "    }\n",
       "</style>\n",
       "<table border=\"1\" class=\"dataframe\">\n",
       "  <thead>\n",
       "    <tr style=\"text-align: right;\">\n",
       "      <th></th>\n",
       "      <th>Product_ID</th>\n",
       "      <th>Source</th>\n",
       "      <th>Sales_Agent</th>\n",
       "      <th>Location</th>\n",
       "      <th>Delivery_Mode</th>\n",
       "      <th>Status</th>\n",
       "      <th>Created_hour</th>\n",
       "      <th>Created_min</th>\n",
       "      <th>Created_day</th>\n",
       "      <th>Created_month</th>\n",
       "    </tr>\n",
       "  </thead>\n",
       "  <tbody>\n",
       "    <tr>\n",
       "      <th>0</th>\n",
       "      <td></td>\n",
       "      <td>Website</td>\n",
       "      <td>Sales-Agent-11</td>\n",
       "      <td></td>\n",
       "      <td>Mode-5</td>\n",
       "      <td>Good</td>\n",
       "      <td>10</td>\n",
       "      <td>5</td>\n",
       "      <td>14</td>\n",
       "      <td>11</td>\n",
       "    </tr>\n",
       "    <tr>\n",
       "      <th>1</th>\n",
       "      <td></td>\n",
       "      <td>Website</td>\n",
       "      <td>Sales-Agent-10</td>\n",
       "      <td></td>\n",
       "      <td>Mode-5</td>\n",
       "      <td>Good</td>\n",
       "      <td>9</td>\n",
       "      <td>22</td>\n",
       "      <td>14</td>\n",
       "      <td>11</td>\n",
       "    </tr>\n",
       "    <tr>\n",
       "      <th>2</th>\n",
       "      <td></td>\n",
       "      <td>Website</td>\n",
       "      <td>Sales-Agent-10</td>\n",
       "      <td></td>\n",
       "      <td>Mode-5</td>\n",
       "      <td>Good</td>\n",
       "      <td>9</td>\n",
       "      <td>21</td>\n",
       "      <td>14</td>\n",
       "      <td>11</td>\n",
       "    </tr>\n",
       "    <tr>\n",
       "      <th>3</th>\n",
       "      <td></td>\n",
       "      <td>Website</td>\n",
       "      <td>Sales-Agent-10</td>\n",
       "      <td></td>\n",
       "      <td>Mode-5</td>\n",
       "      <td>Good</td>\n",
       "      <td>8</td>\n",
       "      <td>46</td>\n",
       "      <td>14</td>\n",
       "      <td>11</td>\n",
       "    </tr>\n",
       "    <tr>\n",
       "      <th>4</th>\n",
       "      <td></td>\n",
       "      <td>Website</td>\n",
       "      <td>Sales-Agent-10</td>\n",
       "      <td></td>\n",
       "      <td>Mode-5</td>\n",
       "      <td>Good</td>\n",
       "      <td>7</td>\n",
       "      <td>34</td>\n",
       "      <td>14</td>\n",
       "      <td>11</td>\n",
       "    </tr>\n",
       "  </tbody>\n",
       "</table>\n",
       "</div>"
      ],
      "text/plain": [
       "  Product_ID   Source     Sales_Agent Location Delivery_Mode Status  \\\n",
       "0             Website  Sales-Agent-11                 Mode-5   Good   \n",
       "1             Website  Sales-Agent-10                 Mode-5   Good   \n",
       "2             Website  Sales-Agent-10                 Mode-5   Good   \n",
       "3             Website  Sales-Agent-10                 Mode-5   Good   \n",
       "4             Website  Sales-Agent-10                 Mode-5   Good   \n",
       "\n",
       "   Created_hour  Created_min  Created_day  Created_month  \n",
       "0            10            5           14             11  \n",
       "1             9           22           14             11  \n",
       "2             9           21           14             11  \n",
       "3             8           46           14             11  \n",
       "4             7           34           14             11  "
      ]
     },
     "execution_count": 37,
     "metadata": {},
     "output_type": "execute_result"
    }
   ],
   "source": [
    "Sales_Data.head()"
   ]
  },
  {
   "cell_type": "code",
   "execution_count": 38,
   "metadata": {},
   "outputs": [],
   "source": [
    "#From the graph we can say that these are the product id's of less sold product so we replace with less sold product\n",
    "Sales_Data.Product_ID.replace(['8','6','3','17','22','11','7','28','0','23','24','16','13','4','14','26','12','2','21','25'],\n",
    "                        'Less Sold Product',inplace=True)"
   ]
  },
  {
   "cell_type": "code",
   "execution_count": 39,
   "metadata": {},
   "outputs": [
    {
     "data": {
      "text/plain": [
       "(7328, 10)"
      ]
     },
     "execution_count": 39,
     "metadata": {},
     "output_type": "execute_result"
    }
   ],
   "source": [
    "# Dropping rows with missing data because they are few\n",
    "Sales_Data.replace('',np.nan,inplace=True)\n",
    "Sales_Data.dropna(inplace=True)\n",
    "Sales_Data.reset_index(inplace=True,drop=True)\n",
    "Sales_Data.shape"
   ]
  },
  {
   "cell_type": "code",
   "execution_count": 40,
   "metadata": {},
   "outputs": [
    {
     "data": {
      "text/html": [
       "<div>\n",
       "<style scoped>\n",
       "    .dataframe tbody tr th:only-of-type {\n",
       "        vertical-align: middle;\n",
       "    }\n",
       "\n",
       "    .dataframe tbody tr th {\n",
       "        vertical-align: top;\n",
       "    }\n",
       "\n",
       "    .dataframe thead th {\n",
       "        text-align: right;\n",
       "    }\n",
       "</style>\n",
       "<table border=\"1\" class=\"dataframe\">\n",
       "  <thead>\n",
       "    <tr style=\"text-align: right;\">\n",
       "      <th></th>\n",
       "      <th>Product_ID</th>\n",
       "      <th>Source</th>\n",
       "      <th>Sales_Agent</th>\n",
       "      <th>Location</th>\n",
       "      <th>Delivery_Mode</th>\n",
       "      <th>Status</th>\n",
       "      <th>Created_hour</th>\n",
       "      <th>Created_min</th>\n",
       "      <th>Created_day</th>\n",
       "      <th>Created_month</th>\n",
       "    </tr>\n",
       "  </thead>\n",
       "  <tbody>\n",
       "    <tr>\n",
       "      <th>0</th>\n",
       "      <td>9</td>\n",
       "      <td>Live Chat</td>\n",
       "      <td>Sales-Agent-3</td>\n",
       "      <td>Bangalore</td>\n",
       "      <td>Mode-1</td>\n",
       "      <td>Good</td>\n",
       "      <td>18</td>\n",
       "      <td>51</td>\n",
       "      <td>13</td>\n",
       "      <td>11</td>\n",
       "    </tr>\n",
       "    <tr>\n",
       "      <th>1</th>\n",
       "      <td>19</td>\n",
       "      <td>Call</td>\n",
       "      <td>Sales-Agent-4</td>\n",
       "      <td>Other Locations</td>\n",
       "      <td>Mode-5</td>\n",
       "      <td>Good</td>\n",
       "      <td>18</td>\n",
       "      <td>48</td>\n",
       "      <td>13</td>\n",
       "      <td>11</td>\n",
       "    </tr>\n",
       "    <tr>\n",
       "      <th>2</th>\n",
       "      <td>18</td>\n",
       "      <td>Website</td>\n",
       "      <td>Sales-Agent-11</td>\n",
       "      <td>Other Locations</td>\n",
       "      <td>Mode-1</td>\n",
       "      <td>Good</td>\n",
       "      <td>17</td>\n",
       "      <td>9</td>\n",
       "      <td>13</td>\n",
       "      <td>11</td>\n",
       "    </tr>\n",
       "    <tr>\n",
       "      <th>3</th>\n",
       "      <td>15</td>\n",
       "      <td>Website</td>\n",
       "      <td>Sales-Agent-7</td>\n",
       "      <td>Hyderabad</td>\n",
       "      <td>Mode-1</td>\n",
       "      <td>Bad</td>\n",
       "      <td>16</td>\n",
       "      <td>49</td>\n",
       "      <td>13</td>\n",
       "      <td>11</td>\n",
       "    </tr>\n",
       "    <tr>\n",
       "      <th>4</th>\n",
       "      <td>18</td>\n",
       "      <td>Call</td>\n",
       "      <td>Sales-Agent-7</td>\n",
       "      <td>Bangalore</td>\n",
       "      <td>Mode-1</td>\n",
       "      <td>Good</td>\n",
       "      <td>16</td>\n",
       "      <td>37</td>\n",
       "      <td>13</td>\n",
       "      <td>11</td>\n",
       "    </tr>\n",
       "    <tr>\n",
       "      <th>...</th>\n",
       "      <td>...</td>\n",
       "      <td>...</td>\n",
       "      <td>...</td>\n",
       "      <td>...</td>\n",
       "      <td>...</td>\n",
       "      <td>...</td>\n",
       "      <td>...</td>\n",
       "      <td>...</td>\n",
       "      <td>...</td>\n",
       "      <td>...</td>\n",
       "    </tr>\n",
       "    <tr>\n",
       "      <th>7323</th>\n",
       "      <td>9</td>\n",
       "      <td>Call</td>\n",
       "      <td>Sales-Agent-6</td>\n",
       "      <td>Mumbai</td>\n",
       "      <td>Mode-4</td>\n",
       "      <td>Bad</td>\n",
       "      <td>9</td>\n",
       "      <td>45</td>\n",
       "      <td>28</td>\n",
       "      <td>4</td>\n",
       "    </tr>\n",
       "    <tr>\n",
       "      <th>7324</th>\n",
       "      <td>15</td>\n",
       "      <td>Call</td>\n",
       "      <td>Sales-Agent-12</td>\n",
       "      <td>Other Locations</td>\n",
       "      <td>Mode-5</td>\n",
       "      <td>Bad</td>\n",
       "      <td>9</td>\n",
       "      <td>43</td>\n",
       "      <td>28</td>\n",
       "      <td>4</td>\n",
       "    </tr>\n",
       "    <tr>\n",
       "      <th>7325</th>\n",
       "      <td>5</td>\n",
       "      <td>Live Chat</td>\n",
       "      <td>Sales-Agent-11</td>\n",
       "      <td>Bangalore</td>\n",
       "      <td>Mode-1</td>\n",
       "      <td>Bad</td>\n",
       "      <td>9</td>\n",
       "      <td>20</td>\n",
       "      <td>28</td>\n",
       "      <td>4</td>\n",
       "    </tr>\n",
       "    <tr>\n",
       "      <th>7326</th>\n",
       "      <td>Less Sold Product</td>\n",
       "      <td>Existing Customer</td>\n",
       "      <td>Sales-Agent-4</td>\n",
       "      <td>Other Locations</td>\n",
       "      <td>Mode-1</td>\n",
       "      <td>Bad</td>\n",
       "      <td>8</td>\n",
       "      <td>4</td>\n",
       "      <td>28</td>\n",
       "      <td>4</td>\n",
       "    </tr>\n",
       "    <tr>\n",
       "      <th>7327</th>\n",
       "      <td>Less Sold Product</td>\n",
       "      <td>Website</td>\n",
       "      <td>Sales-Agent-3</td>\n",
       "      <td>Chennai</td>\n",
       "      <td>Mode-1</td>\n",
       "      <td>Good</td>\n",
       "      <td>7</td>\n",
       "      <td>54</td>\n",
       "      <td>28</td>\n",
       "      <td>4</td>\n",
       "    </tr>\n",
       "  </tbody>\n",
       "</table>\n",
       "<p>7328 rows × 10 columns</p>\n",
       "</div>"
      ],
      "text/plain": [
       "             Product_ID             Source     Sales_Agent         Location  \\\n",
       "0                     9          Live Chat   Sales-Agent-3        Bangalore   \n",
       "1                    19               Call   Sales-Agent-4  Other Locations   \n",
       "2                    18            Website  Sales-Agent-11  Other Locations   \n",
       "3                    15            Website   Sales-Agent-7        Hyderabad   \n",
       "4                    18               Call   Sales-Agent-7        Bangalore   \n",
       "...                 ...                ...             ...              ...   \n",
       "7323                  9               Call   Sales-Agent-6           Mumbai   \n",
       "7324                 15               Call  Sales-Agent-12  Other Locations   \n",
       "7325                  5          Live Chat  Sales-Agent-11        Bangalore   \n",
       "7326  Less Sold Product  Existing Customer   Sales-Agent-4  Other Locations   \n",
       "7327  Less Sold Product            Website   Sales-Agent-3          Chennai   \n",
       "\n",
       "     Delivery_Mode Status  Created_hour  Created_min  Created_day  \\\n",
       "0           Mode-1   Good            18           51           13   \n",
       "1           Mode-5   Good            18           48           13   \n",
       "2           Mode-1   Good            17            9           13   \n",
       "3           Mode-1    Bad            16           49           13   \n",
       "4           Mode-1   Good            16           37           13   \n",
       "...            ...    ...           ...          ...          ...   \n",
       "7323        Mode-4    Bad             9           45           28   \n",
       "7324        Mode-5    Bad             9           43           28   \n",
       "7325        Mode-1    Bad             9           20           28   \n",
       "7326        Mode-1    Bad             8            4           28   \n",
       "7327        Mode-1   Good             7           54           28   \n",
       "\n",
       "      Created_month  \n",
       "0                11  \n",
       "1                11  \n",
       "2                11  \n",
       "3                11  \n",
       "4                11  \n",
       "...             ...  \n",
       "7323              4  \n",
       "7324              4  \n",
       "7325              4  \n",
       "7326              4  \n",
       "7327              4  \n",
       "\n",
       "[7328 rows x 10 columns]"
      ]
     },
     "execution_count": 40,
     "metadata": {},
     "output_type": "execute_result"
    }
   ],
   "source": [
    "Sales_Data"
   ]
  },
  {
   "cell_type": "markdown",
   "metadata": {},
   "source": [
    "# **Univariate analysis of categorical variables**"
   ]
  },
  {
   "cell_type": "code",
   "execution_count": 41,
   "metadata": {},
   "outputs": [],
   "source": [
    "import matplotlib.pyplot as plt\n",
    "import seaborn as sns\n",
    "%matplotlib inline\n",
    "import warnings\n",
    "warnings.filterwarnings('ignore')"
   ]
  },
  {
   "cell_type": "code",
   "execution_count": 42,
   "metadata": {},
   "outputs": [
    {
     "data": {
      "image/png": "[encoded data removed]",
      "text/plain": [
       "<Figure size 2160x2160 with 10 Axes>"
      ]
     },
     "metadata": {},
     "output_type": "display_data"
    }
   ],
   "source": [
    "plt.figure(figsize=(30,30), facecolor='white')\n",
    "plotnumber = 1\n",
    "\n",
    "for column in Sales_Data:\n",
    "    if plotnumber<=10 : # as there are 10 columns in the dataset.\n",
    "        ax = plt.subplot(5,2,plotnumber)\n",
    "        sns.histplot(x=Sales_Data[column],hue=Sales_Data.Status)\n",
    "        plt.xlabel(column,fontsize=30)\n",
    "        plt.ylabel('Status',fontsize=30)\n",
    "    plotnumber+=1\n",
    "plt.show()"
   ]
  },
  {
   "cell_type": "markdown",
   "metadata": {},
   "source": [
    "# **From Above graphical representation and from sweetviz analysis we get insights:-**"
   ]
  },
  {
   "cell_type": "markdown",
   "metadata": {},
   "source": [
    "1) Product ID 15 has highest number of Nonpotential lead.\n",
    "\n",
    "2) Delivery_Mode Mode-1 has only Potential Lead and Mode-4 also but having really less amount of deliveries from Mode-4.\n",
    "\n",
    "3) There are most number of lead from Other Locations and having most number of Nonpotential Lead.\n",
    "\n",
    "4) Sales_Agent 4,5 and 11 provides maximum no. of lead but most of them are Nonpotential.\n",
    "\n",
    "5) From Source Call, Live Chat-Direct and Website we are getting highest no. of lead."
   ]
  },
  {
   "cell_type": "markdown",
   "metadata": {},
   "source": [
    "# **Handling Categorical Data**"
   ]
  },
  {
   "cell_type": "code",
   "execution_count": 43,
   "metadata": {},
   "outputs": [],
   "source": [
    "# Converting Source using Frequency encoder\n",
    "# grouping by frequency\n",
    "fq = Sales_Data.groupby('Source').size()/len(Sales_Data)\n",
    "# mapping values to dataframe\n",
    "Sales_Data.loc[:, \"{}_freq_encode\".format('Source')] = Sales_Data['Source'].map(fq)\n",
    "# drop original column.\n",
    "Sales_Data = Sales_Data.drop(['Source'], axis = 1)"
   ]
  },
  {
   "cell_type": "code",
   "execution_count": 44,
   "metadata": {},
   "outputs": [
    {
     "data": {
      "text/plain": [
       "array(['Sales-Agent-3', 'Sales-Agent-4', 'Sales-Agent-11',\n",
       "       'Sales-Agent-7', 'Sales-Agent-9', 'Sales-Agent-8', 'Sales-Agent-5',\n",
       "       'Sales-Agent-2', 'Sales-Agent-12', 'Sales-Agent-10',\n",
       "       'Sales-Agent-6'], dtype=object)"
      ]
     },
     "execution_count": 44,
     "metadata": {},
     "output_type": "execute_result"
    }
   ],
   "source": [
    "Sales_Data.Sales_Agent.unique()"
   ]
  },
  {
   "cell_type": "code",
   "execution_count": 45,
   "metadata": {},
   "outputs": [],
   "source": [
    "# Handling Sales_Agent using Label Encoder.\n",
    "Sales_Data.replace({'Sales-Agent-1': 1, 'Sales-Agent-2': 2, 'Sales-Agent-3': 3, 'Sales-Agent-4': 4, 'Sales-Agent-5': 5, 'Sales-Agent-6': 6, 'Sales-Agent-7': 7,'Sales-Agent-8': 8,'Sales-Agent-9': 9,'Sales-Agent-10': 10,'Sales-Agent-11': 11,'Sales-Agent-12': 12},inplace=True) "
   ]
  },
  {
   "cell_type": "code",
   "execution_count": 46,
   "metadata": {},
   "outputs": [],
   "source": [
    "# Converting Location using Frequency encoder\n",
    "# grouping by frequency\n",
    "fq1 = Sales_Data.groupby('Location').size()/len(Sales_Data)\n",
    "# mapping values to dataframe\n",
    "Sales_Data.loc[:, \"{}_freq_encode\".format('Location')] = Sales_Data['Location'].map(fq1)\n",
    "# drop original column.\n",
    "Sales_Data = Sales_Data.drop(['Location'], axis = 1)"
   ]
  },
  {
   "cell_type": "code",
   "execution_count": 47,
   "metadata": {},
   "outputs": [],
   "source": [
    "# As Delivery_Mode is Nominal Categorical data we will perform OneHotEncoding\n",
    "\n",
    "Delivery_Mode = Sales_Data[[\"Delivery_Mode\"]]\n",
    "\n",
    "Delivery_Mode = pd.get_dummies(Delivery_Mode)\n",
    "\n",
    "Sales_Data = pd.concat([Sales_Data,Delivery_Mode],axis=1)"
   ]
  },
  {
   "cell_type": "code",
   "execution_count": 48,
   "metadata": {},
   "outputs": [],
   "source": [
    "Sales_Data.drop(['Delivery_Mode'], axis =1, inplace= True)"
   ]
  },
  {
   "cell_type": "code",
   "execution_count": 49,
   "metadata": {},
   "outputs": [],
   "source": [
    "# Converting Status\n",
    "Sales_Data.replace({'Bad': 0, 'Good': 1}, inplace = True)"
   ]
  },
  {
   "cell_type": "code",
   "execution_count": 50,
   "metadata": {},
   "outputs": [
    {
     "data": {
      "text/html": [
       "<div>\n",
       "<style scoped>\n",
       "    .dataframe tbody tr th:only-of-type {\n",
       "        vertical-align: middle;\n",
       "    }\n",
       "\n",
       "    .dataframe tbody tr th {\n",
       "        vertical-align: top;\n",
       "    }\n",
       "\n",
       "    .dataframe thead th {\n",
       "        text-align: right;\n",
       "    }\n",
       "</style>\n",
       "<table border=\"1\" class=\"dataframe\">\n",
       "  <thead>\n",
       "    <tr style=\"text-align: right;\">\n",
       "      <th></th>\n",
       "      <th>Product_ID</th>\n",
       "      <th>Sales_Agent</th>\n",
       "      <th>Status</th>\n",
       "      <th>Created_hour</th>\n",
       "      <th>Created_min</th>\n",
       "      <th>Created_day</th>\n",
       "      <th>Created_month</th>\n",
       "      <th>Source_freq_encode</th>\n",
       "      <th>Location_freq_encode</th>\n",
       "      <th>Delivery_Mode_Mode-1</th>\n",
       "      <th>Delivery_Mode_Mode-2</th>\n",
       "      <th>Delivery_Mode_Mode-3</th>\n",
       "      <th>Delivery_Mode_Mode-4</th>\n",
       "      <th>Delivery_Mode_Mode-5</th>\n",
       "    </tr>\n",
       "  </thead>\n",
       "  <tbody>\n",
       "    <tr>\n",
       "      <th>0</th>\n",
       "      <td>9</td>\n",
       "      <td>3</td>\n",
       "      <td>1</td>\n",
       "      <td>18</td>\n",
       "      <td>51</td>\n",
       "      <td>13</td>\n",
       "      <td>11</td>\n",
       "      <td>0.363401</td>\n",
       "      <td>0.283706</td>\n",
       "      <td>1</td>\n",
       "      <td>0</td>\n",
       "      <td>0</td>\n",
       "      <td>0</td>\n",
       "      <td>0</td>\n",
       "    </tr>\n",
       "    <tr>\n",
       "      <th>1</th>\n",
       "      <td>19</td>\n",
       "      <td>4</td>\n",
       "      <td>1</td>\n",
       "      <td>18</td>\n",
       "      <td>48</td>\n",
       "      <td>13</td>\n",
       "      <td>11</td>\n",
       "      <td>0.346070</td>\n",
       "      <td>0.354121</td>\n",
       "      <td>0</td>\n",
       "      <td>0</td>\n",
       "      <td>0</td>\n",
       "      <td>0</td>\n",
       "      <td>1</td>\n",
       "    </tr>\n",
       "    <tr>\n",
       "      <th>2</th>\n",
       "      <td>18</td>\n",
       "      <td>11</td>\n",
       "      <td>1</td>\n",
       "      <td>17</td>\n",
       "      <td>9</td>\n",
       "      <td>13</td>\n",
       "      <td>11</td>\n",
       "      <td>0.236900</td>\n",
       "      <td>0.354121</td>\n",
       "      <td>1</td>\n",
       "      <td>0</td>\n",
       "      <td>0</td>\n",
       "      <td>0</td>\n",
       "      <td>0</td>\n",
       "    </tr>\n",
       "    <tr>\n",
       "      <th>3</th>\n",
       "      <td>15</td>\n",
       "      <td>7</td>\n",
       "      <td>0</td>\n",
       "      <td>16</td>\n",
       "      <td>49</td>\n",
       "      <td>13</td>\n",
       "      <td>11</td>\n",
       "      <td>0.236900</td>\n",
       "      <td>0.071916</td>\n",
       "      <td>1</td>\n",
       "      <td>0</td>\n",
       "      <td>0</td>\n",
       "      <td>0</td>\n",
       "      <td>0</td>\n",
       "    </tr>\n",
       "    <tr>\n",
       "      <th>4</th>\n",
       "      <td>18</td>\n",
       "      <td>7</td>\n",
       "      <td>1</td>\n",
       "      <td>16</td>\n",
       "      <td>37</td>\n",
       "      <td>13</td>\n",
       "      <td>11</td>\n",
       "      <td>0.346070</td>\n",
       "      <td>0.283706</td>\n",
       "      <td>1</td>\n",
       "      <td>0</td>\n",
       "      <td>0</td>\n",
       "      <td>0</td>\n",
       "      <td>0</td>\n",
       "    </tr>\n",
       "    <tr>\n",
       "      <th>...</th>\n",
       "      <td>...</td>\n",
       "      <td>...</td>\n",
       "      <td>...</td>\n",
       "      <td>...</td>\n",
       "      <td>...</td>\n",
       "      <td>...</td>\n",
       "      <td>...</td>\n",
       "      <td>...</td>\n",
       "      <td>...</td>\n",
       "      <td>...</td>\n",
       "      <td>...</td>\n",
       "      <td>...</td>\n",
       "      <td>...</td>\n",
       "      <td>...</td>\n",
       "    </tr>\n",
       "    <tr>\n",
       "      <th>7323</th>\n",
       "      <td>9</td>\n",
       "      <td>6</td>\n",
       "      <td>0</td>\n",
       "      <td>9</td>\n",
       "      <td>45</td>\n",
       "      <td>28</td>\n",
       "      <td>4</td>\n",
       "      <td>0.346070</td>\n",
       "      <td>0.054449</td>\n",
       "      <td>0</td>\n",
       "      <td>0</td>\n",
       "      <td>0</td>\n",
       "      <td>1</td>\n",
       "      <td>0</td>\n",
       "    </tr>\n",
       "    <tr>\n",
       "      <th>7324</th>\n",
       "      <td>15</td>\n",
       "      <td>12</td>\n",
       "      <td>0</td>\n",
       "      <td>9</td>\n",
       "      <td>43</td>\n",
       "      <td>28</td>\n",
       "      <td>4</td>\n",
       "      <td>0.346070</td>\n",
       "      <td>0.354121</td>\n",
       "      <td>0</td>\n",
       "      <td>0</td>\n",
       "      <td>0</td>\n",
       "      <td>0</td>\n",
       "      <td>1</td>\n",
       "    </tr>\n",
       "    <tr>\n",
       "      <th>7325</th>\n",
       "      <td>5</td>\n",
       "      <td>11</td>\n",
       "      <td>0</td>\n",
       "      <td>9</td>\n",
       "      <td>20</td>\n",
       "      <td>28</td>\n",
       "      <td>4</td>\n",
       "      <td>0.363401</td>\n",
       "      <td>0.283706</td>\n",
       "      <td>1</td>\n",
       "      <td>0</td>\n",
       "      <td>0</td>\n",
       "      <td>0</td>\n",
       "      <td>0</td>\n",
       "    </tr>\n",
       "    <tr>\n",
       "      <th>7326</th>\n",
       "      <td>Less Sold Product</td>\n",
       "      <td>4</td>\n",
       "      <td>0</td>\n",
       "      <td>8</td>\n",
       "      <td>4</td>\n",
       "      <td>28</td>\n",
       "      <td>4</td>\n",
       "      <td>0.019787</td>\n",
       "      <td>0.354121</td>\n",
       "      <td>1</td>\n",
       "      <td>0</td>\n",
       "      <td>0</td>\n",
       "      <td>0</td>\n",
       "      <td>0</td>\n",
       "    </tr>\n",
       "    <tr>\n",
       "      <th>7327</th>\n",
       "      <td>Less Sold Product</td>\n",
       "      <td>3</td>\n",
       "      <td>1</td>\n",
       "      <td>7</td>\n",
       "      <td>54</td>\n",
       "      <td>28</td>\n",
       "      <td>4</td>\n",
       "      <td>0.236900</td>\n",
       "      <td>0.123772</td>\n",
       "      <td>1</td>\n",
       "      <td>0</td>\n",
       "      <td>0</td>\n",
       "      <td>0</td>\n",
       "      <td>0</td>\n",
       "    </tr>\n",
       "  </tbody>\n",
       "</table>\n",
       "<p>7328 rows × 14 columns</p>\n",
       "</div>"
      ],
      "text/plain": [
       "             Product_ID  Sales_Agent  Status  Created_hour  Created_min  \\\n",
       "0                     9            3       1            18           51   \n",
       "1                    19            4       1            18           48   \n",
       "2                    18           11       1            17            9   \n",
       "3                    15            7       0            16           49   \n",
       "4                    18            7       1            16           37   \n",
       "...                 ...          ...     ...           ...          ...   \n",
       "7323                  9            6       0             9           45   \n",
       "7324                 15           12       0             9           43   \n",
       "7325                  5           11       0             9           20   \n",
       "7326  Less Sold Product            4       0             8            4   \n",
       "7327  Less Sold Product            3       1             7           54   \n",
       "\n",
       "      Created_day  Created_month  Source_freq_encode  Location_freq_encode  \\\n",
       "0              13             11            0.363401              0.283706   \n",
       "1              13             11            0.346070              0.354121   \n",
       "2              13             11            0.236900              0.354121   \n",
       "3              13             11            0.236900              0.071916   \n",
       "4              13             11            0.346070              0.283706   \n",
       "...           ...            ...                 ...                   ...   \n",
       "7323           28              4            0.346070              0.054449   \n",
       "7324           28              4            0.346070              0.354121   \n",
       "7325           28              4            0.363401              0.283706   \n",
       "7326           28              4            0.019787              0.354121   \n",
       "7327           28              4            0.236900              0.123772   \n",
       "\n",
       "      Delivery_Mode_Mode-1  Delivery_Mode_Mode-2  Delivery_Mode_Mode-3  \\\n",
       "0                        1                     0                     0   \n",
       "1                        0                     0                     0   \n",
       "2                        1                     0                     0   \n",
       "3                        1                     0                     0   \n",
       "4                        1                     0                     0   \n",
       "...                    ...                   ...                   ...   \n",
       "7323                     0                     0                     0   \n",
       "7324                     0                     0                     0   \n",
       "7325                     1                     0                     0   \n",
       "7326                     1                     0                     0   \n",
       "7327                     1                     0                     0   \n",
       "\n",
       "      Delivery_Mode_Mode-4  Delivery_Mode_Mode-5  \n",
       "0                        0                     0  \n",
       "1                        0                     1  \n",
       "2                        0                     0  \n",
       "3                        0                     0  \n",
       "4                        0                     0  \n",
       "...                    ...                   ...  \n",
       "7323                     1                     0  \n",
       "7324                     0                     1  \n",
       "7325                     0                     0  \n",
       "7326                     0                     0  \n",
       "7327                     0                     0  \n",
       "\n",
       "[7328 rows x 14 columns]"
      ]
     },
     "execution_count": 50,
     "metadata": {},
     "output_type": "execute_result"
    }
   ],
   "source": [
    "Sales_Data"
   ]
  },
  {
   "cell_type": "code",
   "execution_count": 51,
   "metadata": {},
   "outputs": [],
   "source": [
    "Sales_Data.replace({'Less Sold Product':1},inplace=True)"
   ]
  },
  {
   "cell_type": "markdown",
   "metadata": {},
   "source": [
    "# **Feature Selection**"
   ]
  },
  {
   "cell_type": "code",
   "execution_count": 52,
   "metadata": {},
   "outputs": [
    {
     "data": {
      "image/png": "[encoded data removed]",
      "text/plain": [
       "<Figure size 1296x1296 with 2 Axes>"
      ]
     },
     "metadata": {
      "needs_background": "light"
     },
     "output_type": "display_data"
    }
   ],
   "source": [
    "# Finds correlation between Independent and dependent attributes\n",
    "\n",
    "plt.figure(figsize = (18,18))\n",
    "sns.heatmap(Sales_Data.corr(), annot = True, cmap = \"RdYlGn\")\n",
    "\n",
    "plt.show()"
   ]
  },
  {
   "cell_type": "code",
   "execution_count": 53,
   "metadata": {},
   "outputs": [],
   "source": [
    "# Creating Dependent and independent variable\n",
    "x=Sales_Data.drop(columns = ['Status']) ## independent varable\n",
    "y=Sales_Data['Status'] ## dependent or target variable"
   ]
  },
  {
   "cell_type": "code",
   "execution_count": 54,
   "metadata": {},
   "outputs": [
    {
     "data": {
      "text/html": [
       "<style>#sk-container-id-1 {color: black;background-color: white;}#sk-container-id-1 pre{padding: 0;}#sk-container-id-1 div.sk-toggleable {background-color: white;}#sk-container-id-1 label.sk-toggleable__label {cursor: pointer;display: block;width: 100%;margin-bottom: 0;padding: 0.3em;box-sizing: border-box;text-align: center;}#sk-container-id-1 label.sk-toggleable__label-arrow:before {content: \"▸\";float: left;margin-right: 0.25em;color: #696969;}#sk-container-id-1 label.sk-toggleable__label-arrow:hover:before {color: black;}#sk-container-id-1 div.sk-estimator:hover label.sk-toggleable__label-arrow:before {color: black;}#sk-container-id-1 div.sk-toggleable__content {max-height: 0;max-width: 0;overflow: hidden;text-align: left;background-color: #f0f8ff;}#sk-container-id-1 div.sk-toggleable__content pre {margin: 0.2em;color: black;border-radius: 0.25em;background-color: #f0f8ff;}#sk-container-id-1 input.sk-toggleable__control:checked~div.sk-toggleable__content {max-height: 200px;max-width: 100%;overflow: auto;}#sk-container-id-1 input.sk-toggleable__control:checked~label.sk-toggleable__label-arrow:before {content: \"▾\";}#sk-container-id-1 div.sk-estimator input.sk-toggleable__control:checked~label.sk-toggleable__label {background-color: #d4ebff;}#sk-container-id-1 div.sk-label input.sk-toggleable__control:checked~label.sk-toggleable__label {background-color: #d4ebff;}#sk-container-id-1 input.sk-hidden--visually {border: 0;clip: rect(1px 1px 1px 1px);clip: rect(1px, 1px, 1px, 1px);height: 1px;margin: -1px;overflow: hidden;padding: 0;position: absolute;width: 1px;}#sk-container-id-1 div.sk-estimator {font-family: monospace;background-color: #f0f8ff;border: 1px dotted black;border-radius: 0.25em;box-sizing: border-box;margin-bottom: 0.5em;}#sk-container-id-1 div.sk-estimator:hover {background-color: #d4ebff;}#sk-container-id-1 div.sk-parallel-item::after {content: \"\";width: 100%;border-bottom: 1px solid gray;flex-grow: 1;}#sk-container-id-1 div.sk-label:hover label.sk-toggleable__label {background-color: #d4ebff;}#sk-container-id-1 div.sk-serial::before {content: \"\";position: absolute;border-left: 1px solid gray;box-sizing: border-box;top: 0;bottom: 0;left: 50%;z-index: 0;}#sk-container-id-1 div.sk-serial {display: flex;flex-direction: column;align-items: center;background-color: white;padding-right: 0.2em;padding-left: 0.2em;position: relative;}#sk-container-id-1 div.sk-item {position: relative;z-index: 1;}#sk-container-id-1 div.sk-parallel {display: flex;align-items: stretch;justify-content: center;background-color: white;position: relative;}#sk-container-id-1 div.sk-item::before, #sk-container-id-1 div.sk-parallel-item::before {content: \"\";position: absolute;border-left: 1px solid gray;box-sizing: border-box;top: 0;bottom: 0;left: 50%;z-index: -1;}#sk-container-id-1 div.sk-parallel-item {display: flex;flex-direction: column;z-index: 1;position: relative;background-color: white;}#sk-container-id-1 div.sk-parallel-item:first-child::after {align-self: flex-end;width: 50%;}#sk-container-id-1 div.sk-parallel-item:last-child::after {align-self: flex-start;width: 50%;}#sk-container-id-1 div.sk-parallel-item:only-child::after {width: 0;}#sk-container-id-1 div.sk-dashed-wrapped {border: 1px dashed gray;margin: 0 0.4em 0.5em 0.4em;box-sizing: border-box;padding-bottom: 0.4em;background-color: white;}#sk-container-id-1 div.sk-label label {font-family: monospace;font-weight: bold;display: inline-block;line-height: 1.2em;}#sk-container-id-1 div.sk-label-container {text-align: center;}#sk-container-id-1 div.sk-container {/* jupyter's `normalize.less` sets `[hidden] { display: none; }` but bootstrap.min.css set `[hidden] { display: none !important; }` so we also need the `!important` here to be able to override the default hidden behavior on the sphinx rendered scikit-learn.org. See: https://github.com/scikit-learn/scikit-learn/issues/21755 */display: inline-block !important;position: relative;}#sk-container-id-1 div.sk-text-repr-fallback {display: none;}</style><div id=\"sk-container-id-1\" class=\"sk-top-container\"><div class=\"sk-text-repr-fallback\"><pre>ExtraTreesRegressor()</pre><b>In a Jupyter environment, please rerun this cell to show the HTML representation or trust the notebook. <br />On GitHub, the HTML representation is unable to render, please try loading this page with nbviewer.org.</b></div><div class=\"sk-container\" hidden><div class=\"sk-item\"><div class=\"sk-estimator sk-toggleable\"><input class=\"sk-toggleable__control sk-hidden--visually\" id=\"sk-estimator-id-1\" type=\"checkbox\" checked><label for=\"sk-estimator-id-1\" class=\"sk-toggleable__label sk-toggleable__label-arrow\">ExtraTreesRegressor</label><div class=\"sk-toggleable__content\"><pre>ExtraTreesRegressor()</pre></div></div></div></div></div>"
      ],
      "text/plain": [
       "ExtraTreesRegressor()"
      ]
     },
     "execution_count": 54,
     "metadata": {},
     "output_type": "execute_result"
    }
   ],
   "source": [
    "# Important feature using ExtraTreesRegressor\n",
    "\n",
    "from sklearn.ensemble import ExtraTreesRegressor\n",
    "selection = ExtraTreesRegressor()\n",
    "selection.fit(x, y)"
   ]
  },
  {
   "cell_type": "code",
   "execution_count": 55,
   "metadata": {},
   "outputs": [
    {
     "data": {
      "image/png": "[encoded data removed]",
      "text/plain": [
       "<Figure size 864x576 with 1 Axes>"
      ]
     },
     "metadata": {
      "needs_background": "light"
     },
     "output_type": "display_data"
    }
   ],
   "source": [
    "#plot graph of feature importances for better visualization\n",
    "\n",
    "plt.figure(figsize = (12,8))\n",
    "feat_importances = pd.Series(selection.feature_importances_, index=x.columns)\n",
    "feat_importances.nlargest(20).plot(kind='barh')\n",
    "plt.show()"
   ]
  },
  {
   "cell_type": "markdown",
   "metadata": {},
   "source": [
    "From Above Representation it is concluded that Creation Period, Product_ID, Location and Sales_Agent really effects the Status of lead."
   ]
  },
  {
   "cell_type": "markdown",
   "metadata": {},
   "source": [
    "# **Checking the dataset**"
   ]
  },
  {
   "cell_type": "code",
   "execution_count": 56,
   "metadata": {},
   "outputs": [
    {
     "data": {
      "text/plain": [
       "0    4466\n",
       "1    2862\n",
       "Name: Status, dtype: int64"
      ]
     },
     "execution_count": 56,
     "metadata": {},
     "output_type": "execute_result"
    }
   ],
   "source": [
    "# target class count\n",
    "Sales_Data[\"Status\"].value_counts()"
   ]
  },
  {
   "cell_type": "code",
   "execution_count": 57,
   "metadata": {},
   "outputs": [
    {
     "data": {
      "text/plain": [
       "Text(0.5, 1.0, 'target variable')"
      ]
     },
     "execution_count": 57,
     "metadata": {},
     "output_type": "execute_result"
    },
    {
     "data": {
      "image/png": "[encoded data removed]",
      "text/plain": [
       "<Figure size 432x288 with 1 Axes>"
      ]
     },
     "metadata": {
      "needs_background": "light"
     },
     "output_type": "display_data"
    }
   ],
   "source": [
    "sns.countplot(Sales_Data[\"Status\"])\n",
    "plt.title(\"target variable\")"
   ]
  },
  {
   "cell_type": "markdown",
   "metadata": {},
   "source": [
    "from the graph it is shown that dataset is imbalance"
   ]
  },
  {
   "cell_type": "markdown",
   "metadata": {},
   "source": [
    "# **Handling the Inbalanced dataset**"
   ]
  },
  {
   "cell_type": "code",
   "execution_count": 58,
   "metadata": {},
   "outputs": [
    {
     "name": "stdout",
     "output_type": "stream",
     "text": [
      "Requirement already satisfied: imblearn in c:\\users\\rog zephyrus\\anaconda3\\data science\\lib\\site-packages (0.0)\n",
      "Requirement already satisfied: imbalanced-learn in c:\\users\\rog zephyrus\\anaconda3\\data science\\lib\\site-packages (from imblearn) (0.9.1)\n",
      "Requirement already satisfied: numpy>=1.17.3 in c:\\users\\rog zephyrus\\anaconda3\\data science\\lib\\site-packages (from imbalanced-learn->imblearn) (1.22.4)\n",
      "Requirement already satisfied: scipy>=1.3.2 in c:\\users\\rog zephyrus\\anaconda3\\data science\\lib\\site-packages (from imbalanced-learn->imblearn) (1.7.1)\n",
      "Requirement already satisfied: threadpoolctl>=2.0.0 in c:\\users\\rog zephyrus\\anaconda3\\data science\\lib\\site-packages (from imbalanced-learn->imblearn) (2.2.0)\n",
      "Requirement already satisfied: scikit-learn>=1.1.0 in c:\\users\\rog zephyrus\\anaconda3\\data science\\lib\\site-packages (from imbalanced-learn->imblearn) (1.1.1)\n",
      "Requirement already satisfied: joblib>=1.0.0 in c:\\users\\rog zephyrus\\anaconda3\\data science\\lib\\site-packages (from imbalanced-learn->imblearn) (1.1.0)\n"
     ]
    },
    {
     "name": "stderr",
     "output_type": "stream",
     "text": [
      "WARNING: Ignoring invalid distribution -tatsmodels (c:\\users\\rog zephyrus\\anaconda3\\data science\\lib\\site-packages)\n",
      "WARNING: Ignoring invalid distribution -tatsmodels (c:\\users\\rog zephyrus\\anaconda3\\data science\\lib\\site-packages)\n",
      "WARNING: Ignoring invalid distribution -tatsmodels (c:\\users\\rog zephyrus\\anaconda3\\data science\\lib\\site-packages)\n",
      "WARNING: Ignoring invalid distribution -tatsmodels (c:\\users\\rog zephyrus\\anaconda3\\data science\\lib\\site-packages)\n",
      "WARNING: Ignoring invalid distribution -tatsmodels (c:\\users\\rog zephyrus\\anaconda3\\data science\\lib\\site-packages)\n",
      "WARNING: Ignoring invalid distribution -tatsmodels (c:\\users\\rog zephyrus\\anaconda3\\data science\\lib\\site-packages)\n"
     ]
    }
   ],
   "source": [
    "!pip install imblearn"
   ]
  },
  {
   "cell_type": "code",
   "execution_count": 59,
   "metadata": {},
   "outputs": [
    {
     "name": "stdout",
     "output_type": "stream",
     "text": [
      "Counter({0: 4466, 1: 2862})\n",
      "Counter({1: 4466, 0: 4466})\n"
     ]
    }
   ],
   "source": [
    "## Balacing the data\n",
    "from collections import Counter# importing counter to check count of each label\n",
    "from imblearn.over_sampling import SMOTE #for balancing the data\n",
    "sm=SMOTE()#object creation\n",
    "print(Counter(y))# checking count for each class \n",
    "x_sm,y_sm=sm.fit_resample(x,y)#applying sampling on target variable \n",
    "print(Counter(y_sm))# checking count after sampling for  each class"
   ]
  },
  {
   "cell_type": "markdown",
   "metadata": {},
   "source": [
    "# **Model Creation**"
   ]
  },
  {
   "cell_type": "code",
   "execution_count": 60,
   "metadata": {},
   "outputs": [],
   "source": [
    "## creating training and testing data\n",
    "from sklearn.model_selection import train_test_split\n",
    "x_train,x_test,y_train,y_test =train_test_split(x, y, test_size= 0.25,random_state=42)"
   ]
  },
  {
   "cell_type": "markdown",
   "metadata": {},
   "source": [
    "# **Using Logistic Regression**"
   ]
  },
  {
   "cell_type": "code",
   "execution_count": 61,
   "metadata": {},
   "outputs": [
    {
     "data": {
      "text/html": [
       "<style>#sk-container-id-2 {color: black;background-color: white;}#sk-container-id-2 pre{padding: 0;}#sk-container-id-2 div.sk-toggleable {background-color: white;}#sk-container-id-2 label.sk-toggleable__label {cursor: pointer;display: block;width: 100%;margin-bottom: 0;padding: 0.3em;box-sizing: border-box;text-align: center;}#sk-container-id-2 label.sk-toggleable__label-arrow:before {content: \"▸\";float: left;margin-right: 0.25em;color: #696969;}#sk-container-id-2 label.sk-toggleable__label-arrow:hover:before {color: black;}#sk-container-id-2 div.sk-estimator:hover label.sk-toggleable__label-arrow:before {color: black;}#sk-container-id-2 div.sk-toggleable__content {max-height: 0;max-width: 0;overflow: hidden;text-align: left;background-color: #f0f8ff;}#sk-container-id-2 div.sk-toggleable__content pre {margin: 0.2em;color: black;border-radius: 0.25em;background-color: #f0f8ff;}#sk-container-id-2 input.sk-toggleable__control:checked~div.sk-toggleable__content {max-height: 200px;max-width: 100%;overflow: auto;}#sk-container-id-2 input.sk-toggleable__control:checked~label.sk-toggleable__label-arrow:before {content: \"▾\";}#sk-container-id-2 div.sk-estimator input.sk-toggleable__control:checked~label.sk-toggleable__label {background-color: #d4ebff;}#sk-container-id-2 div.sk-label input.sk-toggleable__control:checked~label.sk-toggleable__label {background-color: #d4ebff;}#sk-container-id-2 input.sk-hidden--visually {border: 0;clip: rect(1px 1px 1px 1px);clip: rect(1px, 1px, 1px, 1px);height: 1px;margin: -1px;overflow: hidden;padding: 0;position: absolute;width: 1px;}#sk-container-id-2 div.sk-estimator {font-family: monospace;background-color: #f0f8ff;border: 1px dotted black;border-radius: 0.25em;box-sizing: border-box;margin-bottom: 0.5em;}#sk-container-id-2 div.sk-estimator:hover {background-color: #d4ebff;}#sk-container-id-2 div.sk-parallel-item::after {content: \"\";width: 100%;border-bottom: 1px solid gray;flex-grow: 1;}#sk-container-id-2 div.sk-label:hover label.sk-toggleable__label {background-color: #d4ebff;}#sk-container-id-2 div.sk-serial::before {content: \"\";position: absolute;border-left: 1px solid gray;box-sizing: border-box;top: 0;bottom: 0;left: 50%;z-index: 0;}#sk-container-id-2 div.sk-serial {display: flex;flex-direction: column;align-items: center;background-color: white;padding-right: 0.2em;padding-left: 0.2em;position: relative;}#sk-container-id-2 div.sk-item {position: relative;z-index: 1;}#sk-container-id-2 div.sk-parallel {display: flex;align-items: stretch;justify-content: center;background-color: white;position: relative;}#sk-container-id-2 div.sk-item::before, #sk-container-id-2 div.sk-parallel-item::before {content: \"\";position: absolute;border-left: 1px solid gray;box-sizing: border-box;top: 0;bottom: 0;left: 50%;z-index: -1;}#sk-container-id-2 div.sk-parallel-item {display: flex;flex-direction: column;z-index: 1;position: relative;background-color: white;}#sk-container-id-2 div.sk-parallel-item:first-child::after {align-self: flex-end;width: 50%;}#sk-container-id-2 div.sk-parallel-item:last-child::after {align-self: flex-start;width: 50%;}#sk-container-id-2 div.sk-parallel-item:only-child::after {width: 0;}#sk-container-id-2 div.sk-dashed-wrapped {border: 1px dashed gray;margin: 0 0.4em 0.5em 0.4em;box-sizing: border-box;padding-bottom: 0.4em;background-color: white;}#sk-container-id-2 div.sk-label label {font-family: monospace;font-weight: bold;display: inline-block;line-height: 1.2em;}#sk-container-id-2 div.sk-label-container {text-align: center;}#sk-container-id-2 div.sk-container {/* jupyter's `normalize.less` sets `[hidden] { display: none; }` but bootstrap.min.css set `[hidden] { display: none !important; }` so we also need the `!important` here to be able to override the default hidden behavior on the sphinx rendered scikit-learn.org. See: https://github.com/scikit-learn/scikit-learn/issues/21755 */display: inline-block !important;position: relative;}#sk-container-id-2 div.sk-text-repr-fallback {display: none;}</style><div id=\"sk-container-id-2\" class=\"sk-top-container\"><div class=\"sk-text-repr-fallback\"><pre>LogisticRegression()</pre><b>In a Jupyter environment, please rerun this cell to show the HTML representation or trust the notebook. <br />On GitHub, the HTML representation is unable to render, please try loading this page with nbviewer.org.</b></div><div class=\"sk-container\" hidden><div class=\"sk-item\"><div class=\"sk-estimator sk-toggleable\"><input class=\"sk-toggleable__control sk-hidden--visually\" id=\"sk-estimator-id-2\" type=\"checkbox\" checked><label for=\"sk-estimator-id-2\" class=\"sk-toggleable__label sk-toggleable__label-arrow\">LogisticRegression</label><div class=\"sk-toggleable__content\"><pre>LogisticRegression()</pre></div></div></div></div></div>"
      ],
      "text/plain": [
       "LogisticRegression()"
      ]
     },
     "execution_count": 61,
     "metadata": {},
     "output_type": "execute_result"
    }
   ],
   "source": [
    "## model creation\n",
    "from sklearn.linear_model import LogisticRegression\n",
    "log_reg = LogisticRegression()\n",
    "\n",
    "log_reg.fit(x_train,y_train)"
   ]
  },
  {
   "cell_type": "code",
   "execution_count": 62,
   "metadata": {},
   "outputs": [],
   "source": [
    "y_pred = log_reg.predict(x_test)"
   ]
  },
  {
   "cell_type": "code",
   "execution_count": 63,
   "metadata": {},
   "outputs": [
    {
     "name": "stdout",
     "output_type": "stream",
     "text": [
      "              precision    recall  f1-score   support\n",
      "\n",
      "           0       0.65      0.86      0.74      1081\n",
      "           1       0.62      0.34      0.44       751\n",
      "\n",
      "    accuracy                           0.65      1832\n",
      "   macro avg       0.64      0.60      0.59      1832\n",
      "weighted avg       0.64      0.65      0.62      1832\n",
      "\n"
     ]
    }
   ],
   "source": [
    "from sklearn.metrics import accuracy_score,classification_report,f1_score\n",
    "print(classification_report(y_test,y_pred))"
   ]
  },
  {
   "cell_type": "code",
   "execution_count": 64,
   "metadata": {},
   "outputs": [
    {
     "data": {
      "text/plain": [
       "0.5985432928774584"
      ]
     },
     "execution_count": 64,
     "metadata": {},
     "output_type": "execute_result"
    }
   ],
   "source": [
    "from sklearn.metrics import roc_auc_score\n",
    "score=roc_auc_score(y_test,y_pred)\n",
    "score"
   ]
  },
  {
   "cell_type": "code",
   "execution_count": 65,
   "metadata": {},
   "outputs": [
    {
     "name": "stdout",
     "output_type": "stream",
     "text": [
      "[0.72806138 0.74728595 0.6908469  0.67262273 0.61456824]\n",
      "Cross validation Score: 0.6906770414821869\n",
      "Std : 0.04630484545033092\n"
     ]
    }
   ],
   "source": [
    "from sklearn.model_selection import cross_val_score\n",
    "scores = cross_val_score(log_reg,x,y,cv=5,scoring='roc_auc')\n",
    "print(scores)\n",
    "print(\"Cross validation Score:\",scores.mean())\n",
    "print(\"Std :\",scores.std())"
   ]
  },
  {
   "cell_type": "markdown",
   "metadata": {},
   "source": [
    "# Using Decision Tree Classifier "
   ]
  },
  {
   "cell_type": "code",
   "execution_count": 66,
   "metadata": {},
   "outputs": [
    {
     "data": {
      "text/plain": [
       "array([0, 0, 0, ..., 0, 0, 0], dtype=int64)"
      ]
     },
     "execution_count": 66,
     "metadata": {},
     "output_type": "execute_result"
    }
   ],
   "source": [
    "from sklearn.tree import DecisionTreeClassifier#importing decision tree from sklearn.tree\n",
    "\n",
    "dt=DecisionTreeClassifier(criterion='entropy', max_depth=10, min_samples_leaf= 1, min_samples_split= 3, splitter= 'random')#object creation for decision tree  \n",
    "dt.fit(x_train,y_train)#training the model\n",
    "y_hat=dt.predict(x_test)#prediction\n",
    "y_hat#predicted values "
   ]
  },
  {
   "cell_type": "code",
   "execution_count": 67,
   "metadata": {},
   "outputs": [
    {
     "data": {
      "text/plain": [
       "0.7727438136826783"
      ]
     },
     "execution_count": 67,
     "metadata": {},
     "output_type": "execute_result"
    }
   ],
   "source": [
    "## Evalauting the model\n",
    "from sklearn.metrics import accuracy_score,classification_report,f1_score    #importing mertics to check model performance\n",
    "##Training score\n",
    "y_train_predict=dt.predict(x_train)#passing X_train to predict Y_train\n",
    "acc_train=accuracy_score(y_train,y_train_predict)#checking accuracy\n",
    "acc_train"
   ]
  },
  {
   "cell_type": "code",
   "execution_count": 68,
   "metadata": {},
   "outputs": [
    {
     "name": "stdout",
     "output_type": "stream",
     "text": [
      "              precision    recall  f1-score   support\n",
      "\n",
      "           0       0.77      0.90      0.83      3385\n",
      "           1       0.78      0.57      0.66      2111\n",
      "\n",
      "    accuracy                           0.77      5496\n",
      "   macro avg       0.77      0.74      0.74      5496\n",
      "weighted avg       0.77      0.77      0.76      5496\n",
      "\n"
     ]
    }
   ],
   "source": [
    "print(classification_report(y_train,y_train_predict))# it will give precision,recall,f1 scores and accur"
   ]
  },
  {
   "cell_type": "code",
   "execution_count": 69,
   "metadata": {},
   "outputs": [
    {
     "data": {
      "text/html": [
       "<div>\n",
       "<style scoped>\n",
       "    .dataframe tbody tr th:only-of-type {\n",
       "        vertical-align: middle;\n",
       "    }\n",
       "\n",
       "    .dataframe tbody tr th {\n",
       "        vertical-align: top;\n",
       "    }\n",
       "\n",
       "    .dataframe thead th {\n",
       "        text-align: right;\n",
       "    }\n",
       "</style>\n",
       "<table border=\"1\" class=\"dataframe\">\n",
       "  <thead>\n",
       "    <tr style=\"text-align: right;\">\n",
       "      <th>col_0</th>\n",
       "      <th>0</th>\n",
       "      <th>1</th>\n",
       "    </tr>\n",
       "    <tr>\n",
       "      <th>Status</th>\n",
       "      <th></th>\n",
       "      <th></th>\n",
       "    </tr>\n",
       "  </thead>\n",
       "  <tbody>\n",
       "    <tr>\n",
       "      <th>0</th>\n",
       "      <td>3035</td>\n",
       "      <td>350</td>\n",
       "    </tr>\n",
       "    <tr>\n",
       "      <th>1</th>\n",
       "      <td>899</td>\n",
       "      <td>1212</td>\n",
       "    </tr>\n",
       "  </tbody>\n",
       "</table>\n",
       "</div>"
      ],
      "text/plain": [
       "col_0      0     1\n",
       "Status            \n",
       "0       3035   350\n",
       "1        899  1212"
      ]
     },
     "execution_count": 69,
     "metadata": {},
     "output_type": "execute_result"
    }
   ],
   "source": [
    "pd.crosstab(y_train,y_train_predict)#it will show you confusion matrix"
   ]
  },
  {
   "cell_type": "code",
   "execution_count": 70,
   "metadata": {},
   "outputs": [
    {
     "data": {
      "text/plain": [
       "0.6599509937380887"
      ]
     },
     "execution_count": 70,
     "metadata": {},
     "output_type": "execute_result"
    }
   ],
   "source": [
    "train_f1=f1_score(y_train,y_train_predict)\n",
    "train_f1"
   ]
  },
  {
   "cell_type": "code",
   "execution_count": 71,
   "metadata": {},
   "outputs": [
    {
     "data": {
      "text/plain": [
       "0.6708515283842795"
      ]
     },
     "execution_count": 71,
     "metadata": {},
     "output_type": "execute_result"
    }
   ],
   "source": [
    "## test acc\n",
    "test_acc=accuracy_score(y_test,y_hat)#testing accuracy \n",
    "test_acc"
   ]
  },
  {
   "cell_type": "code",
   "execution_count": 72,
   "metadata": {},
   "outputs": [
    {
     "data": {
      "text/plain": [
       "0.5314685314685315"
      ]
     },
     "execution_count": 72,
     "metadata": {},
     "output_type": "execute_result"
    }
   ],
   "source": [
    "## test score\n",
    "test_f1=f1_score(y_test,y_hat)#f1 score\n",
    "test_f1"
   ]
  },
  {
   "cell_type": "code",
   "execution_count": 73,
   "metadata": {},
   "outputs": [
    {
     "name": "stdout",
     "output_type": "stream",
     "text": [
      "              precision    recall  f1-score   support\n",
      "\n",
      "           0       0.68      0.82      0.75      1081\n",
      "           1       0.64      0.46      0.53       751\n",
      "\n",
      "    accuracy                           0.67      1832\n",
      "   macro avg       0.66      0.64      0.64      1832\n",
      "weighted avg       0.67      0.67      0.66      1832\n",
      "\n"
     ]
    }
   ],
   "source": [
    "print(classification_report(y_test,y_hat))# for  testing"
   ]
  },
  {
   "cell_type": "code",
   "execution_count": 74,
   "metadata": {},
   "outputs": [
    {
     "data": {
      "text/html": [
       "<div>\n",
       "<style scoped>\n",
       "    .dataframe tbody tr th:only-of-type {\n",
       "        vertical-align: middle;\n",
       "    }\n",
       "\n",
       "    .dataframe tbody tr th {\n",
       "        vertical-align: top;\n",
       "    }\n",
       "\n",
       "    .dataframe thead th {\n",
       "        text-align: right;\n",
       "    }\n",
       "</style>\n",
       "<table border=\"1\" class=\"dataframe\">\n",
       "  <thead>\n",
       "    <tr style=\"text-align: right;\">\n",
       "      <th>col_0</th>\n",
       "      <th>0</th>\n",
       "      <th>1</th>\n",
       "    </tr>\n",
       "    <tr>\n",
       "      <th>Status</th>\n",
       "      <th></th>\n",
       "      <th></th>\n",
       "    </tr>\n",
       "  </thead>\n",
       "  <tbody>\n",
       "    <tr>\n",
       "      <th>0</th>\n",
       "      <td>887</td>\n",
       "      <td>194</td>\n",
       "    </tr>\n",
       "    <tr>\n",
       "      <th>1</th>\n",
       "      <td>409</td>\n",
       "      <td>342</td>\n",
       "    </tr>\n",
       "  </tbody>\n",
       "</table>\n",
       "</div>"
      ],
      "text/plain": [
       "col_0     0    1\n",
       "Status          \n",
       "0       887  194\n",
       "1       409  342"
      ]
     },
     "execution_count": 74,
     "metadata": {},
     "output_type": "execute_result"
    }
   ],
   "source": [
    "pd.crosstab(y_test,y_hat)# confusion matrix for"
   ]
  },
  {
   "cell_type": "markdown",
   "metadata": {},
   "source": [
    "# **Hyperparameter Tuning for Decision Tree**"
   ]
  },
  {
   "cell_type": "code",
   "execution_count": 75,
   "metadata": {},
   "outputs": [],
   "source": [
    "from sklearn.model_selection import GridSearchCV\n",
    "#It helps to loop through predefined hyperparameters and fit your estimator (model) on your training set. \n",
    "#So,in the end, you can select the best parameters from the listed hyperparameters."
   ]
  },
  {
   "cell_type": "code",
   "execution_count": 76,
   "metadata": {},
   "outputs": [
    {
     "name": "stdout",
     "output_type": "stream",
     "text": [
      "Fitting 3 folds for each of 4332 candidates, totalling 12996 fits\n",
      "Best paramters: {'criterion': 'gini', 'max_depth': 6, 'min_samples_leaf': 11, 'min_samples_split': 2, 'splitter': 'best'})\n"
     ]
    }
   ],
   "source": [
    "#creating dictionary--> key value pair of hyperparameters having key as parameter and values as its values\n",
    "params = {\n",
    "    \"criterion\":(\"gini\", \"entropy\"), #quality of split\n",
    "    \"splitter\":(\"best\", \"random\"), # searches the features for a split\n",
    "    \"max_depth\":(list(range(1, 20))), #depth of tree range from 1 to 19\n",
    "    \"min_samples_split\":[2, 3, 4],    #the minimum number of samples required to split internal node\n",
    "    \"min_samples_leaf\":list(range(1, 20)),#minimum number of samples required to be at a leaf node,we are passing list which is range from 1 to 19 \n",
    "}\n",
    "\n",
    "\n",
    "tree_clf = DecisionTreeClassifier(random_state=3)#object creation for decision tree with random state 3\n",
    "tree_cv = GridSearchCV(tree_clf, params, scoring=\"f1\", n_jobs=-1, verbose=1, cv=3)\n",
    "#passing model to gridsearchCV ,\n",
    "#tree_clf-->model\n",
    "#params---->hyperparametes(dictionary we created)\n",
    "#scoring--->performance matrix to check performance\n",
    "#n_jobs---->Number of jobs to run in parallel,-1 means using all processors.\n",
    "#verbose=Controls the verbosity: the higher, the more messages.\n",
    "#>1 : the computation time for each fold and parameter candidate is displayed;\n",
    "#>2 : the score is also displayed;\n",
    "#>3 : the fold and candidate parameter indexes are also displayed together with the starting time of the computation.\n",
    "#cv------> number of folds\n",
    "\n",
    "\n",
    "\n",
    "\n",
    "tree_cv.fit(x_train,y_train)#training data on gridsearch cv\n",
    "best_params = tree_cv.best_params_#it will give you best parameters \n",
    "print(f\"Best paramters: {best_params})\")#printing  best parameters"
   ]
  },
  {
   "cell_type": "code",
   "execution_count": 77,
   "metadata": {},
   "outputs": [
    {
     "data": {
      "text/plain": [
       "{'criterion': 'gini',\n",
       " 'max_depth': 6,\n",
       " 'min_samples_leaf': 11,\n",
       " 'min_samples_split': 2,\n",
       " 'splitter': 'best'}"
      ]
     },
     "execution_count": 77,
     "metadata": {},
     "output_type": "execute_result"
    }
   ],
   "source": [
    "tree_cv.best_params_#getting best parameters from cv"
   ]
  },
  {
   "cell_type": "code",
   "execution_count": 78,
   "metadata": {},
   "outputs": [
    {
     "data": {
      "text/plain": [
       "0.5928134870924974"
      ]
     },
     "execution_count": 78,
     "metadata": {},
     "output_type": "execute_result"
    }
   ],
   "source": [
    "tree_cv.best_score_#getting best score from cv"
   ]
  },
  {
   "cell_type": "code",
   "execution_count": 79,
   "metadata": {},
   "outputs": [
    {
     "data": {
      "text/html": [
       "<style>#sk-container-id-3 {color: black;background-color: white;}#sk-container-id-3 pre{padding: 0;}#sk-container-id-3 div.sk-toggleable {background-color: white;}#sk-container-id-3 label.sk-toggleable__label {cursor: pointer;display: block;width: 100%;margin-bottom: 0;padding: 0.3em;box-sizing: border-box;text-align: center;}#sk-container-id-3 label.sk-toggleable__label-arrow:before {content: \"▸\";float: left;margin-right: 0.25em;color: #696969;}#sk-container-id-3 label.sk-toggleable__label-arrow:hover:before {color: black;}#sk-container-id-3 div.sk-estimator:hover label.sk-toggleable__label-arrow:before {color: black;}#sk-container-id-3 div.sk-toggleable__content {max-height: 0;max-width: 0;overflow: hidden;text-align: left;background-color: #f0f8ff;}#sk-container-id-3 div.sk-toggleable__content pre {margin: 0.2em;color: black;border-radius: 0.25em;background-color: #f0f8ff;}#sk-container-id-3 input.sk-toggleable__control:checked~div.sk-toggleable__content {max-height: 200px;max-width: 100%;overflow: auto;}#sk-container-id-3 input.sk-toggleable__control:checked~label.sk-toggleable__label-arrow:before {content: \"▾\";}#sk-container-id-3 div.sk-estimator input.sk-toggleable__control:checked~label.sk-toggleable__label {background-color: #d4ebff;}#sk-container-id-3 div.sk-label input.sk-toggleable__control:checked~label.sk-toggleable__label {background-color: #d4ebff;}#sk-container-id-3 input.sk-hidden--visually {border: 0;clip: rect(1px 1px 1px 1px);clip: rect(1px, 1px, 1px, 1px);height: 1px;margin: -1px;overflow: hidden;padding: 0;position: absolute;width: 1px;}#sk-container-id-3 div.sk-estimator {font-family: monospace;background-color: #f0f8ff;border: 1px dotted black;border-radius: 0.25em;box-sizing: border-box;margin-bottom: 0.5em;}#sk-container-id-3 div.sk-estimator:hover {background-color: #d4ebff;}#sk-container-id-3 div.sk-parallel-item::after {content: \"\";width: 100%;border-bottom: 1px solid gray;flex-grow: 1;}#sk-container-id-3 div.sk-label:hover label.sk-toggleable__label {background-color: #d4ebff;}#sk-container-id-3 div.sk-serial::before {content: \"\";position: absolute;border-left: 1px solid gray;box-sizing: border-box;top: 0;bottom: 0;left: 50%;z-index: 0;}#sk-container-id-3 div.sk-serial {display: flex;flex-direction: column;align-items: center;background-color: white;padding-right: 0.2em;padding-left: 0.2em;position: relative;}#sk-container-id-3 div.sk-item {position: relative;z-index: 1;}#sk-container-id-3 div.sk-parallel {display: flex;align-items: stretch;justify-content: center;background-color: white;position: relative;}#sk-container-id-3 div.sk-item::before, #sk-container-id-3 div.sk-parallel-item::before {content: \"\";position: absolute;border-left: 1px solid gray;box-sizing: border-box;top: 0;bottom: 0;left: 50%;z-index: -1;}#sk-container-id-3 div.sk-parallel-item {display: flex;flex-direction: column;z-index: 1;position: relative;background-color: white;}#sk-container-id-3 div.sk-parallel-item:first-child::after {align-self: flex-end;width: 50%;}#sk-container-id-3 div.sk-parallel-item:last-child::after {align-self: flex-start;width: 50%;}#sk-container-id-3 div.sk-parallel-item:only-child::after {width: 0;}#sk-container-id-3 div.sk-dashed-wrapped {border: 1px dashed gray;margin: 0 0.4em 0.5em 0.4em;box-sizing: border-box;padding-bottom: 0.4em;background-color: white;}#sk-container-id-3 div.sk-label label {font-family: monospace;font-weight: bold;display: inline-block;line-height: 1.2em;}#sk-container-id-3 div.sk-label-container {text-align: center;}#sk-container-id-3 div.sk-container {/* jupyter's `normalize.less` sets `[hidden] { display: none; }` but bootstrap.min.css set `[hidden] { display: none !important; }` so we also need the `!important` here to be able to override the default hidden behavior on the sphinx rendered scikit-learn.org. See: https://github.com/scikit-learn/scikit-learn/issues/21755 */display: inline-block !important;position: relative;}#sk-container-id-3 div.sk-text-repr-fallback {display: none;}</style><div id=\"sk-container-id-3\" class=\"sk-top-container\"><div class=\"sk-text-repr-fallback\"><pre>DecisionTreeClassifier(criterion=&#x27;entropy&#x27;, max_depth=10, min_samples_split=3,\n",
       "                       splitter=&#x27;random&#x27;)</pre><b>In a Jupyter environment, please rerun this cell to show the HTML representation or trust the notebook. <br />On GitHub, the HTML representation is unable to render, please try loading this page with nbviewer.org.</b></div><div class=\"sk-container\" hidden><div class=\"sk-item\"><div class=\"sk-estimator sk-toggleable\"><input class=\"sk-toggleable__control sk-hidden--visually\" id=\"sk-estimator-id-3\" type=\"checkbox\" checked><label for=\"sk-estimator-id-3\" class=\"sk-toggleable__label sk-toggleable__label-arrow\">DecisionTreeClassifier</label><div class=\"sk-toggleable__content\"><pre>DecisionTreeClassifier(criterion=&#x27;entropy&#x27;, max_depth=10, min_samples_split=3,\n",
       "                       splitter=&#x27;random&#x27;)</pre></div></div></div></div></div>"
      ],
      "text/plain": [
       "DecisionTreeClassifier(criterion='entropy', max_depth=10, min_samples_split=3,\n",
       "                       splitter='random')"
      ]
     },
     "execution_count": 79,
     "metadata": {},
     "output_type": "execute_result"
    }
   ],
   "source": [
    "dt.fit(x_train,y_train)#traing model with best parameter"
   ]
  },
  {
   "cell_type": "code",
   "execution_count": 80,
   "metadata": {},
   "outputs": [],
   "source": [
    "y_hat=dt.predict(x_test)#predicting\n",
    "#y_hat1"
   ]
  },
  {
   "cell_type": "code",
   "execution_count": 81,
   "metadata": {},
   "outputs": [
    {
     "data": {
      "text/plain": [
       "0.6855895196506551"
      ]
     },
     "execution_count": 81,
     "metadata": {},
     "output_type": "execute_result"
    }
   ],
   "source": [
    "acc_test=accuracy_score(y_test,y_hat)#checking accuracy\n",
    "acc_test"
   ]
  },
  {
   "cell_type": "code",
   "execution_count": 82,
   "metadata": {},
   "outputs": [
    {
     "data": {
      "text/plain": [
       "0.585014409221902"
      ]
     },
     "execution_count": 82,
     "metadata": {},
     "output_type": "execute_result"
    }
   ],
   "source": [
    "test_f1=f1_score(y_test,y_hat)#f1_score\n",
    "test_f1"
   ]
  },
  {
   "cell_type": "code",
   "execution_count": 83,
   "metadata": {},
   "outputs": [
    {
     "name": "stdout",
     "output_type": "stream",
     "text": [
      "              precision    recall  f1-score   support\n",
      "\n",
      "           0       0.71      0.79      0.75      1081\n",
      "           1       0.64      0.54      0.59       751\n",
      "\n",
      "    accuracy                           0.69      1832\n",
      "   macro avg       0.67      0.66      0.67      1832\n",
      "weighted avg       0.68      0.69      0.68      1832\n",
      "\n"
     ]
    }
   ],
   "source": [
    "print(classification_report(y_test,y_hat))#it will give precision,recall,f1 scores and accuracy "
   ]
  },
  {
   "cell_type": "code",
   "execution_count": 84,
   "metadata": {},
   "outputs": [
    {
     "data": {
      "text/plain": [
       "[Text(0.4613210227272727, 0.9545454545454546, 'X[0] <= 16.504\\nentropy = 0.961\\nsamples = 5496\\nvalue = [3385, 2111]'),\n",
       " Text(0.27095170454545453, 0.8636363636363636, 'X[0] <= 10.603\\nentropy = 0.842\\nsamples = 2712\\nvalue = [1978, 734]'),\n",
       " Text(0.14985795454545456, 0.7727272727272727, 'X[0] <= 1.596\\nentropy = 0.981\\nsamples = 1600\\nvalue = [930, 670]'),\n",
       " Text(0.07130681818181818, 0.6818181818181818, 'X[12] <= 0.692\\nentropy = 0.884\\nsamples = 361\\nvalue = [252, 109]'),\n",
       " Text(0.03102272727272727, 0.5909090909090909, 'X[6] <= 0.04\\nentropy = 0.932\\nsamples = 227\\nvalue = [148, 79]'),\n",
       " Text(0.01090909090909091, 0.5, 'X[2] <= 18.838\\nentropy = 0.994\\nsamples = 33\\nvalue = [15, 18]'),\n",
       " Text(0.00909090909090909, 0.4090909090909091, 'X[7] <= 0.334\\nentropy = 1.0\\nsamples = 30\\nvalue = [15, 15]'),\n",
       " Text(0.007272727272727273, 0.3181818181818182, 'X[7] <= 0.085\\nentropy = 0.991\\nsamples = 27\\nvalue = [12, 15]'),\n",
       " Text(0.0036363636363636364, 0.22727272727272727, 'X[5] <= 4.216\\nentropy = 0.722\\nsamples = 5\\nvalue = [4, 1]'),\n",
       " Text(0.0018181818181818182, 0.13636363636363635, 'entropy = 1.0\\nsamples = 2\\nvalue = [1, 1]'),\n",
       " Text(0.005454545454545455, 0.13636363636363635, 'entropy = 0.0\\nsamples = 3\\nvalue = [3, 0]'),\n",
       " Text(0.01090909090909091, 0.22727272727272727, 'X[2] <= 9.771\\nentropy = 0.946\\nsamples = 22\\nvalue = [8, 14]'),\n",
       " Text(0.00909090909090909, 0.13636363636363635, 'entropy = 0.0\\nsamples = 2\\nvalue = [0, 2]'),\n",
       " Text(0.012727272727272728, 0.13636363636363635, 'X[1] <= 5.87\\nentropy = 0.971\\nsamples = 20\\nvalue = [8, 12]'),\n",
       " Text(0.01090909090909091, 0.045454545454545456, 'entropy = 0.991\\nsamples = 9\\nvalue = [5, 4]'),\n",
       " Text(0.014545454545454545, 0.045454545454545456, 'entropy = 0.845\\nsamples = 11\\nvalue = [3, 8]'),\n",
       " Text(0.01090909090909091, 0.3181818181818182, 'entropy = 0.0\\nsamples = 3\\nvalue = [3, 0]'),\n",
       " Text(0.012727272727272728, 0.4090909090909091, 'entropy = 0.0\\nsamples = 3\\nvalue = [0, 3]'),\n",
       " Text(0.05113636363636364, 0.5, 'X[5] <= 8.072\\nentropy = 0.898\\nsamples = 194\\nvalue = [133, 61]'),\n",
       " Text(0.03272727272727273, 0.4090909090909091, 'X[5] <= 7.743\\nentropy = 0.834\\nsamples = 132\\nvalue = [97, 35]'),\n",
       " Text(0.025454545454545455, 0.3181818181818182, 'X[7] <= 0.287\\nentropy = 0.773\\nsamples = 119\\nvalue = [92, 27]'),\n",
       " Text(0.02181818181818182, 0.22727272727272727, 'X[11] <= 0.628\\nentropy = 0.888\\nsamples = 85\\nvalue = [59, 26]'),\n",
       " Text(0.02, 0.13636363636363635, 'X[7] <= 0.043\\nentropy = 0.901\\nsamples = 82\\nvalue = [56, 26]'),\n",
       " Text(0.01818181818181818, 0.045454545454545456, 'entropy = 0.0\\nsamples = 6\\nvalue = [6, 0]'),\n",
       " Text(0.02181818181818182, 0.045454545454545456, 'entropy = 0.927\\nsamples = 76\\nvalue = [50, 26]'),\n",
       " Text(0.023636363636363636, 0.13636363636363635, 'entropy = 0.0\\nsamples = 3\\nvalue = [3, 0]'),\n",
       " Text(0.02909090909090909, 0.22727272727272727, 'X[6] <= 0.305\\nentropy = 0.191\\nsamples = 34\\nvalue = [33, 1]'),\n",
       " Text(0.02727272727272727, 0.13636363636363635, 'entropy = 0.0\\nsamples = 11\\nvalue = [11, 0]'),\n",
       " Text(0.03090909090909091, 0.13636363636363635, 'X[2] <= 14.834\\nentropy = 0.258\\nsamples = 23\\nvalue = [22, 1]'),\n",
       " Text(0.02909090909090909, 0.045454545454545456, 'entropy = 0.0\\nsamples = 15\\nvalue = [15, 0]'),\n",
       " Text(0.03272727272727273, 0.045454545454545456, 'entropy = 0.544\\nsamples = 8\\nvalue = [7, 1]'),\n",
       " Text(0.04, 0.3181818181818182, 'X[6] <= 0.32\\nentropy = 0.961\\nsamples = 13\\nvalue = [5, 8]'),\n",
       " Text(0.03636363636363636, 0.22727272727272727, 'X[2] <= 16.857\\nentropy = 0.722\\nsamples = 5\\nvalue = [4, 1]'),\n",
       " Text(0.034545454545454546, 0.13636363636363635, 'entropy = 0.0\\nsamples = 3\\nvalue = [3, 0]'),\n",
       " Text(0.038181818181818185, 0.13636363636363635, 'entropy = 1.0\\nsamples = 2\\nvalue = [1, 1]'),\n",
       " Text(0.04363636363636364, 0.22727272727272727, 'X[8] <= 0.298\\nentropy = 0.544\\nsamples = 8\\nvalue = [1, 7]'),\n",
       " Text(0.04181818181818182, 0.13636363636363635, 'entropy = 0.0\\nsamples = 5\\nvalue = [0, 5]'),\n",
       " Text(0.045454545454545456, 0.13636363636363635, 'X[2] <= 16.03\\nentropy = 0.918\\nsamples = 3\\nvalue = [1, 2]'),\n",
       " Text(0.04363636363636364, 0.045454545454545456, 'entropy = 0.0\\nsamples = 2\\nvalue = [0, 2]'),\n",
       " Text(0.04727272727272727, 0.045454545454545456, 'entropy = 0.0\\nsamples = 1\\nvalue = [1, 0]'),\n",
       " Text(0.06954545454545455, 0.4090909090909091, 'X[10] <= 0.413\\nentropy = 0.981\\nsamples = 62\\nvalue = [36, 26]'),\n",
       " Text(0.05909090909090909, 0.3181818181818182, 'X[1] <= 4.12\\nentropy = 0.998\\nsamples = 36\\nvalue = [17, 19]'),\n",
       " Text(0.05454545454545454, 0.22727272727272727, 'X[5] <= 10.824\\nentropy = 0.918\\nsamples = 12\\nvalue = [4, 8]'),\n",
       " Text(0.05272727272727273, 0.13636363636363635, 'X[1] <= 2.35\\nentropy = 0.845\\nsamples = 11\\nvalue = [3, 8]'),\n",
       " Text(0.05090909090909091, 0.045454545454545456, 'entropy = 0.0\\nsamples = 1\\nvalue = [1, 0]'),\n",
       " Text(0.05454545454545454, 0.045454545454545456, 'entropy = 0.722\\nsamples = 10\\nvalue = [2, 8]'),\n",
       " Text(0.056363636363636366, 0.13636363636363635, 'entropy = 0.0\\nsamples = 1\\nvalue = [1, 0]'),\n",
       " Text(0.06363636363636363, 0.22727272727272727, 'X[2] <= 16.906\\nentropy = 0.995\\nsamples = 24\\nvalue = [13, 11]'),\n",
       " Text(0.06, 0.13636363636363635, 'X[6] <= 0.354\\nentropy = 0.998\\nsamples = 19\\nvalue = [9, 10]'),\n",
       " Text(0.05818181818181818, 0.045454545454545456, 'entropy = 0.863\\nsamples = 7\\nvalue = [2, 5]'),\n",
       " Text(0.06181818181818182, 0.045454545454545456, 'entropy = 0.98\\nsamples = 12\\nvalue = [7, 5]'),\n",
       " Text(0.06727272727272728, 0.13636363636363635, 'X[4] <= 10.621\\nentropy = 0.722\\nsamples = 5\\nvalue = [4, 1]'),\n",
       " Text(0.06545454545454546, 0.045454545454545456, 'entropy = 0.0\\nsamples = 2\\nvalue = [2, 0]'),\n",
       " Text(0.06909090909090909, 0.045454545454545456, 'entropy = 0.918\\nsamples = 3\\nvalue = [2, 1]'),\n",
       " Text(0.08, 0.3181818181818182, 'X[5] <= 10.451\\nentropy = 0.84\\nsamples = 26\\nvalue = [19, 7]'),\n",
       " Text(0.07818181818181819, 0.22727272727272727, 'X[1] <= 4.394\\nentropy = 0.795\\nsamples = 25\\nvalue = [19, 6]'),\n",
       " Text(0.07454545454545454, 0.13636363636363635, 'X[6] <= 0.359\\nentropy = 0.918\\nsamples = 3\\nvalue = [1, 2]'),\n",
       " Text(0.07272727272727272, 0.045454545454545456, 'entropy = 0.0\\nsamples = 1\\nvalue = [1, 0]'),\n",
       " Text(0.07636363636363637, 0.045454545454545456, 'entropy = 0.0\\nsamples = 2\\nvalue = [0, 2]'),\n",
       " Text(0.08181818181818182, 0.13636363636363635, 'X[4] <= 8.65\\nentropy = 0.684\\nsamples = 22\\nvalue = [18, 4]'),\n",
       " Text(0.08, 0.045454545454545456, 'entropy = 0.0\\nsamples = 8\\nvalue = [8, 0]'),\n",
       " Text(0.08363636363636363, 0.045454545454545456, 'entropy = 0.863\\nsamples = 14\\nvalue = [10, 4]'),\n",
       " Text(0.08181818181818182, 0.22727272727272727, 'entropy = 0.0\\nsamples = 1\\nvalue = [0, 1]'),\n",
       " Text(0.11159090909090909, 0.5909090909090909, 'X[7] <= 0.3\\nentropy = 0.767\\nsamples = 134\\nvalue = [104, 30]'),\n",
       " Text(0.09863636363636363, 0.5, 'X[7] <= 0.134\\nentropy = 0.918\\nsamples = 69\\nvalue = [46, 23]'),\n",
       " Text(0.09090909090909091, 0.4090909090909091, 'X[2] <= 10.092\\nentropy = 0.74\\nsamples = 43\\nvalue = [34, 9]'),\n",
       " Text(0.0890909090909091, 0.3181818181818182, 'entropy = 0.0\\nsamples = 9\\nvalue = [9, 0]'),\n",
       " Text(0.09272727272727273, 0.3181818181818182, 'X[4] <= 25.892\\nentropy = 0.834\\nsamples = 34\\nvalue = [25, 9]'),\n",
       " Text(0.09090909090909091, 0.22727272727272727, 'X[2] <= 19.265\\nentropy = 0.918\\nsamples = 27\\nvalue = [18, 9]'),\n",
       " Text(0.0890909090909091, 0.13636363636363635, 'X[4] <= 2.681\\nentropy = 0.954\\nsamples = 24\\nvalue = [15, 9]'),\n",
       " Text(0.08727272727272728, 0.045454545454545456, 'entropy = 0.971\\nsamples = 5\\nvalue = [2, 3]'),\n",
       " Text(0.09090909090909091, 0.045454545454545456, 'entropy = 0.9\\nsamples = 19\\nvalue = [13, 6]'),\n",
       " Text(0.09272727272727273, 0.13636363636363635, 'entropy = 0.0\\nsamples = 3\\nvalue = [3, 0]'),\n",
       " Text(0.09454545454545454, 0.22727272727272727, 'entropy = 0.0\\nsamples = 7\\nvalue = [7, 0]'),\n",
       " Text(0.10636363636363637, 0.4090909090909091, 'X[3] <= 37.478\\nentropy = 0.996\\nsamples = 26\\nvalue = [12, 14]'),\n",
       " Text(0.1, 0.3181818181818182, 'X[4] <= 3.516\\nentropy = 0.896\\nsamples = 16\\nvalue = [5, 11]'),\n",
       " Text(0.09818181818181818, 0.22727272727272727, 'entropy = 0.0\\nsamples = 1\\nvalue = [1, 0]'),\n",
       " Text(0.10181818181818182, 0.22727272727272727, 'X[5] <= 7.507\\nentropy = 0.837\\nsamples = 15\\nvalue = [4, 11]'),\n",
       " Text(0.09818181818181818, 0.13636363636363635, 'X[3] <= 24.089\\nentropy = 0.592\\nsamples = 7\\nvalue = [1, 6]'),\n",
       " Text(0.09636363636363636, 0.045454545454545456, 'entropy = 1.0\\nsamples = 2\\nvalue = [1, 1]'),\n",
       " Text(0.1, 0.045454545454545456, 'entropy = 0.0\\nsamples = 5\\nvalue = [0, 5]'),\n",
       " Text(0.10545454545454545, 0.13636363636363635, 'X[3] <= 7.835\\nentropy = 0.954\\nsamples = 8\\nvalue = [3, 5]'),\n",
       " Text(0.10363636363636364, 0.045454545454545456, 'entropy = 0.0\\nsamples = 2\\nvalue = [0, 2]'),\n",
       " Text(0.10727272727272727, 0.045454545454545456, 'entropy = 1.0\\nsamples = 6\\nvalue = [3, 3]'),\n",
       " Text(0.11272727272727273, 0.3181818181818182, 'X[4] <= 25.924\\nentropy = 0.881\\nsamples = 10\\nvalue = [7, 3]'),\n",
       " Text(0.11090909090909092, 0.22727272727272727, 'X[4] <= 8.682\\nentropy = 1.0\\nsamples = 6\\nvalue = [3, 3]'),\n",
       " Text(0.10909090909090909, 0.13636363636363635, 'entropy = 0.0\\nsamples = 2\\nvalue = [2, 0]'),\n",
       " Text(0.11272727272727273, 0.13636363636363635, 'X[2] <= 7.679\\nentropy = 0.811\\nsamples = 4\\nvalue = [1, 3]'),\n",
       " Text(0.11090909090909092, 0.045454545454545456, 'entropy = 1.0\\nsamples = 2\\nvalue = [1, 1]'),\n",
       " Text(0.11454545454545455, 0.045454545454545456, 'entropy = 0.0\\nsamples = 2\\nvalue = [0, 2]'),\n",
       " Text(0.11454545454545455, 0.22727272727272727, 'entropy = 0.0\\nsamples = 4\\nvalue = [4, 0]'),\n",
       " Text(0.12454545454545454, 0.5, 'X[5] <= 5.967\\nentropy = 0.493\\nsamples = 65\\nvalue = [58, 7]'),\n",
       " Text(0.11818181818181818, 0.4090909090909091, 'X[4] <= 3.033\\nentropy = 0.918\\nsamples = 6\\nvalue = [4, 2]'),\n",
       " Text(0.11636363636363636, 0.3181818181818182, 'entropy = 0.0\\nsamples = 2\\nvalue = [2, 0]'),\n",
       " Text(0.12, 0.3181818181818182, 'X[3] <= 30.322\\nentropy = 1.0\\nsamples = 4\\nvalue = [2, 2]'),\n",
       " Text(0.11818181818181818, 0.22727272727272727, 'X[1] <= 9.806\\nentropy = 0.918\\nsamples = 3\\nvalue = [2, 1]'),\n",
       " Text(0.11636363636363636, 0.13636363636363635, 'entropy = 1.0\\nsamples = 2\\nvalue = [1, 1]'),\n",
       " Text(0.12, 0.13636363636363635, 'entropy = 0.0\\nsamples = 1\\nvalue = [1, 0]'),\n",
       " Text(0.12181818181818181, 0.22727272727272727, 'entropy = 0.0\\nsamples = 1\\nvalue = [0, 1]'),\n",
       " Text(0.13090909090909092, 0.4090909090909091, 'X[4] <= 19.519\\nentropy = 0.419\\nsamples = 59\\nvalue = [54, 5]'),\n",
       " Text(0.1290909090909091, 0.3181818181818182, 'X[5] <= 10.328\\nentropy = 0.571\\nsamples = 37\\nvalue = [32, 5]'),\n",
       " Text(0.12545454545454546, 0.22727272727272727, 'X[2] <= 10.136\\nentropy = 0.431\\nsamples = 34\\nvalue = [31, 3]'),\n",
       " Text(0.12363636363636364, 0.13636363636363635, 'entropy = 0.0\\nsamples = 6\\nvalue = [6, 0]'),\n",
       " Text(0.12727272727272726, 0.13636363636363635, 'X[3] <= 22.631\\nentropy = 0.491\\nsamples = 28\\nvalue = [25, 3]'),\n",
       " Text(0.12545454545454546, 0.045454545454545456, 'entropy = 0.65\\nsamples = 12\\nvalue = [10, 2]'),\n",
       " Text(0.1290909090909091, 0.045454545454545456, 'entropy = 0.337\\nsamples = 16\\nvalue = [15, 1]'),\n",
       " Text(0.13272727272727272, 0.22727272727272727, 'X[6] <= 0.311\\nentropy = 0.918\\nsamples = 3\\nvalue = [1, 2]'),\n",
       " Text(0.13090909090909092, 0.13636363636363635, 'entropy = 0.0\\nsamples = 1\\nvalue = [1, 0]'),\n",
       " Text(0.13454545454545455, 0.13636363636363635, 'entropy = 0.0\\nsamples = 2\\nvalue = [0, 2]'),\n",
       " Text(0.13272727272727272, 0.3181818181818182, 'entropy = 0.0\\nsamples = 22\\nvalue = [22, 0]'),\n",
       " Text(0.22840909090909092, 0.6818181818181818, 'X[0] <= 8.263\\nentropy = 0.994\\nsamples = 1239\\nvalue = [678, 561]'),\n",
       " Text(0.1684090909090909, 0.5909090909090909, 'X[1] <= 3.296\\nentropy = 0.906\\nsamples = 364\\nvalue = [247, 117]'),\n",
       " Text(0.14363636363636365, 0.5, 'X[3] <= 16.243\\nentropy = 0.454\\nsamples = 42\\nvalue = [38, 4]'),\n",
       " Text(0.14, 0.4090909090909091, 'X[10] <= 0.38\\nentropy = 0.722\\nsamples = 15\\nvalue = [12, 3]'),\n",
       " Text(0.13818181818181818, 0.3181818181818182, 'X[6] <= 0.065\\nentropy = 0.811\\nsamples = 12\\nvalue = [9, 3]'),\n",
       " Text(0.13636363636363635, 0.22727272727272727, 'entropy = 0.0\\nsamples = 2\\nvalue = [0, 2]'),\n",
       " Text(0.14, 0.22727272727272727, 'X[5] <= 7.42\\nentropy = 0.469\\nsamples = 10\\nvalue = [9, 1]'),\n",
       " Text(0.13818181818181818, 0.13636363636363635, 'X[2] <= 14.527\\nentropy = 0.722\\nsamples = 5\\nvalue = [4, 1]'),\n",
       " Text(0.13636363636363635, 0.045454545454545456, 'entropy = 0.0\\nsamples = 4\\nvalue = [4, 0]'),\n",
       " Text(0.14, 0.045454545454545456, 'entropy = 0.0\\nsamples = 1\\nvalue = [0, 1]'),\n",
       " Text(0.14181818181818182, 0.13636363636363635, 'entropy = 0.0\\nsamples = 5\\nvalue = [5, 0]'),\n",
       " Text(0.14181818181818182, 0.3181818181818182, 'entropy = 0.0\\nsamples = 3\\nvalue = [3, 0]'),\n",
       " Text(0.14727272727272728, 0.4090909090909091, 'X[12] <= 0.332\\nentropy = 0.229\\nsamples = 27\\nvalue = [26, 1]'),\n",
       " Text(0.14545454545454545, 0.3181818181818182, 'entropy = 0.0\\nsamples = 20\\nvalue = [20, 0]'),\n",
       " Text(0.14909090909090908, 0.3181818181818182, 'X[2] <= 16.966\\nentropy = 0.592\\nsamples = 7\\nvalue = [6, 1]'),\n",
       " Text(0.14727272727272728, 0.22727272727272727, 'entropy = 0.0\\nsamples = 5\\nvalue = [5, 0]'),\n",
       " Text(0.1509090909090909, 0.22727272727272727, 'entropy = 1.0\\nsamples = 2\\nvalue = [1, 1]'),\n",
       " Text(0.19318181818181818, 0.5, 'X[6] <= 0.288\\nentropy = 0.935\\nsamples = 322\\nvalue = [209, 113]'),\n",
       " Text(0.16818181818181818, 0.4090909090909091, 'X[6] <= 0.146\\nentropy = 0.997\\nsamples = 103\\nvalue = [55, 48]'),\n",
       " Text(0.15818181818181817, 0.3181818181818182, 'X[7] <= 0.194\\nentropy = 0.773\\nsamples = 22\\nvalue = [5, 17]'),\n",
       " Text(0.15454545454545454, 0.22727272727272727, 'X[1] <= 8.478\\nentropy = 0.971\\nsamples = 5\\nvalue = [3, 2]'),\n",
       " Text(0.15272727272727274, 0.13636363636363635, 'X[2] <= 11.623\\nentropy = 0.918\\nsamples = 3\\nvalue = [1, 2]'),\n",
       " Text(0.1509090909090909, 0.045454545454545456, 'entropy = 0.0\\nsamples = 2\\nvalue = [0, 2]'),\n",
       " Text(0.15454545454545454, 0.045454545454545456, 'entropy = 0.0\\nsamples = 1\\nvalue = [1, 0]'),\n",
       " Text(0.15636363636363637, 0.13636363636363635, 'entropy = 0.0\\nsamples = 2\\nvalue = [2, 0]'),\n",
       " Text(0.1618181818181818, 0.22727272727272727, 'X[3] <= 49.603\\nentropy = 0.523\\nsamples = 17\\nvalue = [2, 15]'),\n",
       " Text(0.16, 0.13636363636363635, 'X[3] <= 24.705\\nentropy = 0.619\\nsamples = 13\\nvalue = [2, 11]'),\n",
       " Text(0.15818181818181817, 0.045454545454545456, 'entropy = 0.863\\nsamples = 7\\nvalue = [2, 5]'),\n",
       " Text(0.1618181818181818, 0.045454545454545456, 'entropy = 0.0\\nsamples = 6\\nvalue = [0, 6]'),\n",
       " Text(0.16363636363636364, 0.13636363636363635, 'entropy = 0.0\\nsamples = 4\\nvalue = [0, 4]'),\n",
       " Text(0.1781818181818182, 0.3181818181818182, 'X[10] <= 0.711\\nentropy = 0.96\\nsamples = 81\\nvalue = [50, 31]'),\n",
       " Text(0.1709090909090909, 0.22727272727272727, 'X[7] <= 0.352\\nentropy = 0.894\\nsamples = 58\\nvalue = [40, 18]'),\n",
       " Text(0.16727272727272727, 0.13636363636363635, 'X[7] <= 0.262\\nentropy = 0.942\\nsamples = 39\\nvalue = [25, 14]'),\n",
       " Text(0.16545454545454547, 0.045454545454545456, 'entropy = 0.998\\nsamples = 17\\nvalue = [9, 8]'),\n",
       " Text(0.1690909090909091, 0.045454545454545456, 'entropy = 0.845\\nsamples = 22\\nvalue = [16, 6]'),\n",
       " Text(0.17454545454545456, 0.13636363636363635, 'X[1] <= 7.146\\nentropy = 0.742\\nsamples = 19\\nvalue = [15, 4]'),\n",
       " Text(0.17272727272727273, 0.045454545454545456, 'entropy = 0.439\\nsamples = 11\\nvalue = [10, 1]'),\n",
       " Text(0.17636363636363636, 0.045454545454545456, 'entropy = 0.954\\nsamples = 8\\nvalue = [5, 3]'),\n",
       " Text(0.18545454545454546, 0.22727272727272727, 'X[3] <= 13.913\\nentropy = 0.988\\nsamples = 23\\nvalue = [10, 13]'),\n",
       " Text(0.18181818181818182, 0.13636363636363635, 'X[5] <= 8.073\\nentropy = 0.722\\nsamples = 5\\nvalue = [4, 1]'),\n",
       " Text(0.18, 0.045454545454545456, 'entropy = 0.0\\nsamples = 1\\nvalue = [0, 1]'),\n",
       " Text(0.18363636363636363, 0.045454545454545456, 'entropy = 0.0\\nsamples = 4\\nvalue = [4, 0]'),\n",
       " Text(0.1890909090909091, 0.13636363636363635, 'X[3] <= 40.899\\nentropy = 0.918\\nsamples = 18\\nvalue = [6, 12]'),\n",
       " Text(0.18727272727272729, 0.045454545454545456, 'entropy = 0.991\\nsamples = 9\\nvalue = [5, 4]'),\n",
       " Text(0.19090909090909092, 0.045454545454545456, 'entropy = 0.503\\nsamples = 9\\nvalue = [1, 8]'),\n",
       " Text(0.21818181818181817, 0.4090909090909091, 'X[7] <= 0.305\\nentropy = 0.877\\nsamples = 219\\nvalue = [154, 65]'),\n",
       " Text(0.20727272727272728, 0.3181818181818182, 'X[6] <= 0.355\\nentropy = 0.918\\nsamples = 183\\nvalue = [122, 61]'),\n",
       " Text(0.2, 0.22727272727272727, 'X[5] <= 8.402\\nentropy = 0.989\\nsamples = 57\\nvalue = [32, 25]'),\n",
       " Text(0.19636363636363635, 0.13636363636363635, 'X[10] <= 0.518\\nentropy = 0.956\\nsamples = 45\\nvalue = [28, 17]'),\n",
       " Text(0.19454545454545455, 0.045454545454545456, 'entropy = 0.987\\nsamples = 37\\nvalue = [21, 16]'),\n",
       " Text(0.19818181818181818, 0.045454545454545456, 'entropy = 0.544\\nsamples = 8\\nvalue = [7, 1]'),\n",
       " Text(0.20363636363636364, 0.13636363636363635, 'X[12] <= 0.461\\nentropy = 0.918\\nsamples = 12\\nvalue = [4, 8]'),\n",
       " Text(0.2018181818181818, 0.045454545454545456, 'entropy = 0.722\\nsamples = 10\\nvalue = [2, 8]'),\n",
       " Text(0.20545454545454545, 0.045454545454545456, 'entropy = 0.0\\nsamples = 2\\nvalue = [2, 0]'),\n",
       " Text(0.21454545454545454, 0.22727272727272727, 'X[5] <= 9.246\\nentropy = 0.863\\nsamples = 126\\nvalue = [90, 36]'),\n",
       " Text(0.2109090909090909, 0.13636363636363635, 'X[4] <= 29.943\\nentropy = 0.829\\nsamples = 111\\nvalue = [82, 29]'),\n",
       " Text(0.20909090909090908, 0.045454545454545456, 'entropy = 0.859\\nsamples = 99\\nvalue = [71, 28]'),\n",
       " Text(0.21272727272727274, 0.045454545454545456, 'entropy = 0.414\\nsamples = 12\\nvalue = [11, 1]'),\n",
       " Text(0.21818181818181817, 0.13636363636363635, 'X[5] <= 10.661\\nentropy = 0.997\\nsamples = 15\\nvalue = [8, 7]'),\n",
       " Text(0.21636363636363637, 0.045454545454545456, 'entropy = 0.918\\nsamples = 12\\nvalue = [8, 4]'),\n",
       " Text(0.22, 0.045454545454545456, 'entropy = 0.0\\nsamples = 3\\nvalue = [0, 3]'),\n",
       " Text(0.2290909090909091, 0.3181818181818182, 'X[6] <= 0.357\\nentropy = 0.503\\nsamples = 36\\nvalue = [32, 4]'),\n",
       " Text(0.22363636363636363, 0.22727272727272727, 'X[1] <= 5.554\\nentropy = 0.863\\nsamples = 7\\nvalue = [5, 2]'),\n",
       " Text(0.22181818181818183, 0.13636363636363635, 'entropy = 0.0\\nsamples = 3\\nvalue = [3, 0]'),\n",
       " Text(0.22545454545454546, 0.13636363636363635, 'X[10] <= 0.566\\nentropy = 1.0\\nsamples = 4\\nvalue = [2, 2]'),\n",
       " Text(0.22363636363636363, 0.045454545454545456, 'entropy = 0.918\\nsamples = 3\\nvalue = [1, 2]'),\n",
       " Text(0.22727272727272727, 0.045454545454545456, 'entropy = 0.0\\nsamples = 1\\nvalue = [1, 0]'),\n",
       " Text(0.23454545454545456, 0.22727272727272727, 'X[1] <= 10.319\\nentropy = 0.362\\nsamples = 29\\nvalue = [27, 2]'),\n",
       " Text(0.23272727272727273, 0.13636363636363635, 'X[2] <= 14.009\\nentropy = 0.469\\nsamples = 20\\nvalue = [18, 2]'),\n",
       " Text(0.2309090909090909, 0.045454545454545456, 'entropy = 0.619\\nsamples = 13\\nvalue = [11, 2]'),\n",
       " Text(0.23454545454545456, 0.045454545454545456, 'entropy = 0.0\\nsamples = 7\\nvalue = [7, 0]'),\n",
       " Text(0.23636363636363636, 0.13636363636363635, 'entropy = 0.0\\nsamples = 9\\nvalue = [9, 0]'),\n",
       " Text(0.2884090909090909, 0.5909090909090909, 'X[7] <= 0.117\\nentropy = 1.0\\nsamples = 875\\nvalue = [431, 444]'),\n",
       " Text(0.2652272727272727, 0.5, 'X[7] <= 0.032\\nentropy = 0.948\\nsamples = 276\\nvalue = [175, 101]'),\n",
       " Text(0.25181818181818183, 0.4090909090909091, 'X[0] <= 9.192\\nentropy = 1.0\\nsamples = 43\\nvalue = [21, 22]'),\n",
       " Text(0.24545454545454545, 0.3181818181818182, 'X[11] <= 0.549\\nentropy = 0.983\\nsamples = 33\\nvalue = [19, 14]'),\n",
       " Text(0.24363636363636362, 0.22727272727272727, 'X[8] <= 0.298\\nentropy = 0.993\\nsamples = 31\\nvalue = [17, 14]'),\n",
       " Text(0.24, 0.13636363636363635, 'X[2] <= 10.342\\nentropy = 1.0\\nsamples = 26\\nvalue = [13, 13]'),\n",
       " Text(0.2381818181818182, 0.045454545454545456, 'entropy = 0.811\\nsamples = 4\\nvalue = [1, 3]'),\n",
       " Text(0.24181818181818182, 0.045454545454545456, 'entropy = 0.994\\nsamples = 22\\nvalue = [12, 10]'),\n",
       " Text(0.24727272727272728, 0.13636363636363635, 'X[5] <= 6.62\\nentropy = 0.722\\nsamples = 5\\nvalue = [4, 1]'),\n",
       " Text(0.24545454545454545, 0.045454545454545456, 'entropy = 0.0\\nsamples = 4\\nvalue = [4, 0]'),\n",
       " Text(0.24909090909090909, 0.045454545454545456, 'entropy = 0.0\\nsamples = 1\\nvalue = [0, 1]'),\n",
       " Text(0.24727272727272728, 0.22727272727272727, 'entropy = 0.0\\nsamples = 2\\nvalue = [2, 0]'),\n",
       " Text(0.2581818181818182, 0.3181818181818182, 'X[7] <= 0.023\\nentropy = 0.722\\nsamples = 10\\nvalue = [2, 8]'),\n",
       " Text(0.25636363636363635, 0.22727272727272727, 'X[1] <= 5.207\\nentropy = 0.971\\nsamples = 5\\nvalue = [2, 3]'),\n",
       " Text(0.2545454545454545, 0.13636363636363635, 'X[6] <= 0.329\\nentropy = 0.918\\nsamples = 3\\nvalue = [2, 1]'),\n",
       " Text(0.25272727272727274, 0.045454545454545456, 'entropy = 0.0\\nsamples = 1\\nvalue = [1, 0]'),\n",
       " Text(0.25636363636363635, 0.045454545454545456, 'entropy = 1.0\\nsamples = 2\\nvalue = [1, 1]'),\n",
       " Text(0.2581818181818182, 0.13636363636363635, 'entropy = 0.0\\nsamples = 2\\nvalue = [0, 2]'),\n",
       " Text(0.26, 0.22727272727272727, 'entropy = 0.0\\nsamples = 5\\nvalue = [0, 5]'),\n",
       " Text(0.2786363636363636, 0.4090909090909091, 'X[1] <= 10.062\\nentropy = 0.924\\nsamples = 233\\nvalue = [154, 79]'),\n",
       " Text(0.2718181818181818, 0.3181818181818182, 'X[11] <= 0.508\\nentropy = 0.962\\nsamples = 187\\nvalue = [115, 72]'),\n",
       " Text(0.26545454545454544, 0.22727272727272727, 'X[1] <= 7.568\\nentropy = 0.952\\nsamples = 175\\nvalue = [110, 65]'),\n",
       " Text(0.26181818181818184, 0.13636363636363635, 'X[7] <= 0.067\\nentropy = 0.929\\nsamples = 151\\nvalue = [99, 52]'),\n",
       " Text(0.26, 0.045454545454545456, 'entropy = 0.875\\nsamples = 95\\nvalue = [67, 28]'),\n",
       " Text(0.2636363636363636, 0.045454545454545456, 'entropy = 0.985\\nsamples = 56\\nvalue = [32, 24]'),\n",
       " Text(0.2690909090909091, 0.13636363636363635, 'X[4] <= 8.661\\nentropy = 0.995\\nsamples = 24\\nvalue = [11, 13]'),\n",
       " Text(0.2672727272727273, 0.045454545454545456, 'entropy = 0.0\\nsamples = 5\\nvalue = [0, 5]'),\n",
       " Text(0.27090909090909093, 0.045454545454545456, 'entropy = 0.982\\nsamples = 19\\nvalue = [11, 8]'),\n",
       " Text(0.2781818181818182, 0.22727272727272727, 'X[5] <= 9.799\\nentropy = 0.98\\nsamples = 12\\nvalue = [5, 7]'),\n",
       " Text(0.27636363636363637, 0.13636363636363635, 'X[6] <= 0.12\\nentropy = 1.0\\nsamples = 10\\nvalue = [5, 5]'),\n",
       " Text(0.27454545454545454, 0.045454545454545456, 'entropy = 0.811\\nsamples = 4\\nvalue = [1, 3]'),\n",
       " Text(0.2781818181818182, 0.045454545454545456, 'entropy = 0.918\\nsamples = 6\\nvalue = [4, 2]'),\n",
       " Text(0.28, 0.13636363636363635, 'entropy = 0.0\\nsamples = 2\\nvalue = [0, 2]'),\n",
       " Text(0.28545454545454546, 0.3181818181818182, 'X[5] <= 4.651\\nentropy = 0.615\\nsamples = 46\\nvalue = [39, 7]'),\n",
       " Text(0.28363636363636363, 0.22727272727272727, 'entropy = 0.0\\nsamples = 1\\nvalue = [0, 1]'),\n",
       " Text(0.2872727272727273, 0.22727272727272727, 'X[6] <= 0.243\\nentropy = 0.567\\nsamples = 45\\nvalue = [39, 6]'),\n",
       " Text(0.28363636363636363, 0.13636363636363635, 'X[0] <= 9.013\\nentropy = 0.954\\nsamples = 8\\nvalue = [5, 3]'),\n",
       " Text(0.2818181818181818, 0.045454545454545456, 'entropy = 0.722\\nsamples = 5\\nvalue = [4, 1]'),\n",
       " Text(0.28545454545454546, 0.045454545454545456, 'entropy = 0.918\\nsamples = 3\\nvalue = [1, 2]'),\n",
       " Text(0.2909090909090909, 0.13636363636363635, 'X[4] <= 4.392\\nentropy = 0.406\\nsamples = 37\\nvalue = [34, 3]'),\n",
       " Text(0.28909090909090907, 0.045454545454545456, 'entropy = 0.0\\nsamples = 7\\nvalue = [7, 0]'),\n",
       " Text(0.2927272727272727, 0.045454545454545456, 'entropy = 0.469\\nsamples = 30\\nvalue = [27, 3]'),\n",
       " Text(0.3115909090909091, 0.5, 'X[6] <= 0.179\\nentropy = 0.985\\nsamples = 599\\nvalue = [256, 343]'),\n",
       " Text(0.2927272727272727, 0.4090909090909091, 'X[2] <= 12.568\\nentropy = 0.255\\nsamples = 70\\nvalue = [3, 67]'),\n",
       " Text(0.2909090909090909, 0.3181818181818182, 'entropy = 0.0\\nsamples = 22\\nvalue = [0, 22]'),\n",
       " Text(0.29454545454545455, 0.3181818181818182, 'X[1] <= 7.41\\nentropy = 0.337\\nsamples = 48\\nvalue = [3, 45]'),\n",
       " Text(0.2927272727272727, 0.22727272727272727, 'entropy = 0.0\\nsamples = 31\\nvalue = [0, 31]'),\n",
       " Text(0.2963636363636364, 0.22727272727272727, 'X[1] <= 8.351\\nentropy = 0.672\\nsamples = 17\\nvalue = [3, 14]'),\n",
       " Text(0.29454545454545455, 0.13636363636363635, 'entropy = 0.0\\nsamples = 1\\nvalue = [1, 0]'),\n",
       " Text(0.29818181818181816, 0.13636363636363635, 'X[2] <= 15.401\\nentropy = 0.544\\nsamples = 16\\nvalue = [2, 14]'),\n",
       " Text(0.2963636363636364, 0.045454545454545456, 'entropy = 0.0\\nsamples = 7\\nvalue = [0, 7]'),\n",
       " Text(0.3, 0.045454545454545456, 'entropy = 0.764\\nsamples = 9\\nvalue = [2, 7]'),\n",
       " Text(0.33045454545454545, 0.4090909090909091, 'X[10] <= 0.128\\nentropy = 0.999\\nsamples = 529\\nvalue = [253, 276]'),\n",
       " Text(0.31636363636363635, 0.3181818181818182, 'X[5] <= 7.136\\nentropy = 0.994\\nsamples = 430\\nvalue = [196, 234]'),\n",
       " Text(0.3090909090909091, 0.22727272727272727, 'X[7] <= 0.302\\nentropy = 0.995\\nsamples = 227\\nvalue = [123, 104]'),\n",
       " Text(0.3054545454545455, 0.13636363636363635, 'X[11] <= 0.43\\nentropy = 0.997\\nsamples = 168\\nvalue = [79, 89]'),\n",
       " Text(0.30363636363636365, 0.045454545454545456, 'entropy = 1.0\\nsamples = 160\\nvalue = [78, 82]'),\n",
       " Text(0.30727272727272725, 0.045454545454545456, 'entropy = 0.544\\nsamples = 8\\nvalue = [1, 7]'),\n",
       " Text(0.31272727272727274, 0.13636363636363635, 'X[12] <= 0.021\\nentropy = 0.818\\nsamples = 59\\nvalue = [44, 15]'),\n",
       " Text(0.3109090909090909, 0.045454545454545456, 'entropy = 0.672\\nsamples = 34\\nvalue = [28, 6]'),\n",
       " Text(0.3145454545454546, 0.045454545454545456, 'entropy = 0.943\\nsamples = 25\\nvalue = [16, 9]'),\n",
       " Text(0.3236363636363636, 0.22727272727272727, 'X[7] <= 0.348\\nentropy = 0.942\\nsamples = 203\\nvalue = [73, 130]'),\n",
       " Text(0.32, 0.13636363636363635, 'X[1] <= 8.739\\nentropy = 0.882\\nsamples = 163\\nvalue = [49, 114]'),\n",
       " Text(0.3181818181818182, 0.045454545454545456, 'entropy = 0.973\\nsamples = 94\\nvalue = [38, 56]'),\n",
       " Text(0.32181818181818184, 0.045454545454545456, 'entropy = 0.633\\nsamples = 69\\nvalue = [11, 58]'),\n",
       " Text(0.32727272727272727, 0.13636363636363635, 'X[5] <= 9.959\\nentropy = 0.971\\nsamples = 40\\nvalue = [24, 16]'),\n",
       " Text(0.32545454545454544, 0.045454545454545456, 'entropy = 0.85\\nsamples = 29\\nvalue = [21, 8]'),\n",
       " Text(0.3290909090909091, 0.045454545454545456, 'entropy = 0.845\\nsamples = 11\\nvalue = [3, 8]'),\n",
       " Text(0.34454545454545454, 0.3181818181818182, 'X[2] <= 17.343\\nentropy = 0.983\\nsamples = 99\\nvalue = [57, 42]'),\n",
       " Text(0.3381818181818182, 0.22727272727272727, 'X[4] <= 22.509\\nentropy = 0.997\\nsamples = 83\\nvalue = [44, 39]'),\n",
       " Text(0.33454545454545453, 0.13636363636363635, 'X[4] <= 1.27\\nentropy = 0.979\\nsamples = 53\\nvalue = [31, 22]'),\n",
       " Text(0.3327272727272727, 0.045454545454545456, 'entropy = 0.0\\nsamples = 4\\nvalue = [4, 0]'),\n",
       " Text(0.33636363636363636, 0.045454545454545456, 'entropy = 0.992\\nsamples = 49\\nvalue = [27, 22]'),\n",
       " Text(0.3418181818181818, 0.13636363636363635, 'X[2] <= 6.237\\nentropy = 0.987\\nsamples = 30\\nvalue = [13, 17]'),\n",
       " Text(0.34, 0.045454545454545456, 'entropy = 0.0\\nsamples = 2\\nvalue = [0, 2]'),\n",
       " Text(0.34363636363636363, 0.045454545454545456, 'entropy = 0.996\\nsamples = 28\\nvalue = [13, 15]'),\n",
       " Text(0.3509090909090909, 0.22727272727272727, 'X[0] <= 9.334\\nentropy = 0.696\\nsamples = 16\\nvalue = [13, 3]'),\n",
       " Text(0.3490909090909091, 0.13636363636363635, 'X[2] <= 18.15\\nentropy = 0.567\\nsamples = 15\\nvalue = [13, 2]'),\n",
       " Text(0.3472727272727273, 0.045454545454545456, 'entropy = 0.863\\nsamples = 7\\nvalue = [5, 2]'),\n",
       " Text(0.3509090909090909, 0.045454545454545456, 'entropy = 0.0\\nsamples = 8\\nvalue = [8, 0]'),\n",
       " Text(0.3527272727272727, 0.13636363636363635, 'entropy = 0.0\\nsamples = 1\\nvalue = [0, 1]'),\n",
       " Text(0.39204545454545453, 0.7727272727272727, 'X[1] <= 5.655\\nentropy = 0.318\\nsamples = 1112\\nvalue = [1048, 64]'),\n",
       " Text(0.3690909090909091, 0.6818181818181818, 'X[8] <= 0.904\\nentropy = 0.095\\nsamples = 575\\nvalue = [568, 7]'),\n",
       " Text(0.36727272727272725, 0.5909090909090909, 'X[5] <= 10.136\\nentropy = 0.101\\nsamples = 534\\nvalue = [527, 7]'),\n",
       " Text(0.36, 0.5, 'X[1] <= 2.273\\nentropy = 0.079\\nsamples = 512\\nvalue = [507, 5]'),\n",
       " Text(0.35454545454545455, 0.4090909090909091, 'X[4] <= 12.185\\nentropy = 0.196\\nsamples = 33\\nvalue = [32, 1]'),\n",
       " Text(0.3527272727272727, 0.3181818181818182, 'entropy = 0.0\\nsamples = 13\\nvalue = [13, 0]'),\n",
       " Text(0.3563636363636364, 0.3181818181818182, 'X[3] <= 36.686\\nentropy = 0.286\\nsamples = 20\\nvalue = [19, 1]'),\n",
       " Text(0.35454545454545455, 0.22727272727272727, 'entropy = 0.0\\nsamples = 12\\nvalue = [12, 0]'),\n",
       " Text(0.35818181818181816, 0.22727272727272727, 'X[5] <= 7.508\\nentropy = 0.544\\nsamples = 8\\nvalue = [7, 1]'),\n",
       " Text(0.3563636363636364, 0.13636363636363635, 'entropy = 0.0\\nsamples = 4\\nvalue = [4, 0]'),\n",
       " Text(0.36, 0.13636363636363635, 'X[7] <= 0.351\\nentropy = 0.811\\nsamples = 4\\nvalue = [3, 1]'),\n",
       " Text(0.35818181818181816, 0.045454545454545456, 'entropy = 0.0\\nsamples = 2\\nvalue = [2, 0]'),\n",
       " Text(0.3618181818181818, 0.045454545454545456, 'entropy = 1.0\\nsamples = 2\\nvalue = [1, 1]'),\n",
       " Text(0.3654545454545455, 0.4090909090909091, 'X[5] <= 7.954\\nentropy = 0.07\\nsamples = 479\\nvalue = [475, 4]'),\n",
       " Text(0.36363636363636365, 0.3181818181818182, 'entropy = 0.0\\nsamples = 239\\nvalue = [239, 0]'),\n",
       " Text(0.36727272727272725, 0.3181818181818182, 'X[6] <= 0.266\\nentropy = 0.122\\nsamples = 240\\nvalue = [236, 4]'),\n",
       " Text(0.3654545454545455, 0.22727272727272727, 'entropy = 0.0\\nsamples = 70\\nvalue = [70, 0]'),\n",
       " Text(0.3690909090909091, 0.22727272727272727, 'X[5] <= 9.516\\nentropy = 0.161\\nsamples = 170\\nvalue = [166, 4]'),\n",
       " Text(0.36727272727272725, 0.13636363636363635, 'X[1] <= 4.156\\nentropy = 0.21\\nsamples = 121\\nvalue = [117, 4]'),\n",
       " Text(0.3654545454545455, 0.045454545454545456, 'entropy = 0.29\\nsamples = 59\\nvalue = [56, 3]'),\n",
       " Text(0.3690909090909091, 0.045454545454545456, 'entropy = 0.119\\nsamples = 62\\nvalue = [61, 1]'),\n",
       " Text(0.3709090909090909, 0.13636363636363635, 'entropy = 0.0\\nsamples = 49\\nvalue = [49, 0]'),\n",
       " Text(0.37454545454545457, 0.5, 'X[3] <= 3.29\\nentropy = 0.439\\nsamples = 22\\nvalue = [20, 2]'),\n",
       " Text(0.37272727272727274, 0.4090909090909091, 'entropy = 0.0\\nsamples = 1\\nvalue = [0, 1]'),\n",
       " Text(0.37636363636363634, 0.4090909090909091, 'X[4] <= 4.781\\nentropy = 0.276\\nsamples = 21\\nvalue = [20, 1]'),\n",
       " Text(0.37454545454545457, 0.3181818181818182, 'X[3] <= 24.145\\nentropy = 0.65\\nsamples = 6\\nvalue = [5, 1]'),\n",
       " Text(0.37272727272727274, 0.22727272727272727, 'entropy = 1.0\\nsamples = 2\\nvalue = [1, 1]'),\n",
       " Text(0.37636363636363634, 0.22727272727272727, 'entropy = 0.0\\nsamples = 4\\nvalue = [4, 0]'),\n",
       " Text(0.3781818181818182, 0.3181818181818182, 'entropy = 0.0\\nsamples = 15\\nvalue = [15, 0]'),\n",
       " Text(0.3709090909090909, 0.5909090909090909, 'entropy = 0.0\\nsamples = 41\\nvalue = [41, 0]'),\n",
       " Text(0.415, 0.6818181818181818, 'X[5] <= 5.509\\nentropy = 0.488\\nsamples = 537\\nvalue = [480, 57]'),\n",
       " Text(0.39, 0.5909090909090909, 'X[5] <= 4.557\\nentropy = 0.221\\nsamples = 113\\nvalue = [109, 4]'),\n",
       " Text(0.38545454545454544, 0.5, 'X[6] <= 0.338\\nentropy = 0.469\\nsamples = 10\\nvalue = [9, 1]'),\n",
       " Text(0.3836363636363636, 0.4090909090909091, 'X[3] <= 24.292\\nentropy = 0.722\\nsamples = 5\\nvalue = [4, 1]'),\n",
       " Text(0.38181818181818183, 0.3181818181818182, 'entropy = 0.0\\nsamples = 1\\nvalue = [0, 1]'),\n",
       " Text(0.38545454545454544, 0.3181818181818182, 'entropy = 0.0\\nsamples = 4\\nvalue = [4, 0]'),\n",
       " Text(0.38727272727272727, 0.4090909090909091, 'entropy = 0.0\\nsamples = 5\\nvalue = [5, 0]'),\n",
       " Text(0.39454545454545453, 0.5, 'X[7] <= 0.278\\nentropy = 0.19\\nsamples = 103\\nvalue = [100, 3]'),\n",
       " Text(0.39090909090909093, 0.4090909090909091, 'X[4] <= 2.349\\nentropy = 0.811\\nsamples = 4\\nvalue = [3, 1]'),\n",
       " Text(0.3890909090909091, 0.3181818181818182, 'entropy = 0.0\\nsamples = 1\\nvalue = [0, 1]'),\n",
       " Text(0.3927272727272727, 0.3181818181818182, 'entropy = 0.0\\nsamples = 3\\nvalue = [3, 0]'),\n",
       " Text(0.3981818181818182, 0.4090909090909091, 'X[1] <= 10.073\\nentropy = 0.143\\nsamples = 99\\nvalue = [97, 2]'),\n",
       " Text(0.39636363636363636, 0.3181818181818182, 'X[3] <= 18.455\\nentropy = 0.232\\nsamples = 53\\nvalue = [51, 2]'),\n",
       " Text(0.39454545454545453, 0.22727272727272727, 'entropy = 0.0\\nsamples = 17\\nvalue = [17, 0]'),\n",
       " Text(0.3981818181818182, 0.22727272727272727, 'X[1] <= 7.901\\nentropy = 0.31\\nsamples = 36\\nvalue = [34, 2]'),\n",
       " Text(0.39636363636363636, 0.13636363636363635, 'entropy = 0.0\\nsamples = 20\\nvalue = [20, 0]'),\n",
       " Text(0.4, 0.13636363636363635, 'X[1] <= 8.031\\nentropy = 0.544\\nsamples = 16\\nvalue = [14, 2]'),\n",
       " Text(0.3981818181818182, 0.045454545454545456, 'entropy = 0.0\\nsamples = 1\\nvalue = [0, 1]'),\n",
       " Text(0.4018181818181818, 0.045454545454545456, 'entropy = 0.353\\nsamples = 15\\nvalue = [14, 1]'),\n",
       " Text(0.4, 0.3181818181818182, 'entropy = 0.0\\nsamples = 46\\nvalue = [46, 0]'),\n",
       " Text(0.44, 0.5909090909090909, 'X[5] <= 7.759\\nentropy = 0.544\\nsamples = 424\\nvalue = [371, 53]'),\n",
       " Text(0.41954545454545455, 0.5, 'X[8] <= 0.774\\nentropy = 0.323\\nsamples = 153\\nvalue = [144, 9]'),\n",
       " Text(0.4177272727272727, 0.4090909090909091, 'X[4] <= 21.049\\nentropy = 0.373\\nsamples = 125\\nvalue = [116, 9]'),\n",
       " Text(0.4090909090909091, 0.3181818181818182, 'X[6] <= 0.295\\nentropy = 0.229\\nsamples = 81\\nvalue = [78, 3]'),\n",
       " Text(0.4072727272727273, 0.22727272727272727, 'entropy = 0.0\\nsamples = 26\\nvalue = [26, 0]'),\n",
       " Text(0.4109090909090909, 0.22727272727272727, 'X[4] <= 15.549\\nentropy = 0.305\\nsamples = 55\\nvalue = [52, 3]'),\n",
       " Text(0.4072727272727273, 0.13636363636363635, 'X[5] <= 6.678\\nentropy = 0.176\\nsamples = 38\\nvalue = [37, 1]'),\n",
       " Text(0.40545454545454546, 0.045454545454545456, 'entropy = 0.0\\nsamples = 26\\nvalue = [26, 0]'),\n",
       " Text(0.4090909090909091, 0.045454545454545456, 'entropy = 0.414\\nsamples = 12\\nvalue = [11, 1]'),\n",
       " Text(0.41454545454545455, 0.13636363636363635, 'X[4] <= 18.64\\nentropy = 0.523\\nsamples = 17\\nvalue = [15, 2]'),\n",
       " Text(0.4127272727272727, 0.045454545454545456, 'entropy = 0.811\\nsamples = 8\\nvalue = [6, 2]'),\n",
       " Text(0.4163636363636364, 0.045454545454545456, 'entropy = 0.0\\nsamples = 9\\nvalue = [9, 0]'),\n",
       " Text(0.4263636363636364, 0.3181818181818182, 'X[2] <= 9.342\\nentropy = 0.575\\nsamples = 44\\nvalue = [38, 6]'),\n",
       " Text(0.42, 0.22727272727272727, 'X[1] <= 8.762\\nentropy = 1.0\\nsamples = 4\\nvalue = [2, 2]'),\n",
       " Text(0.41818181818181815, 0.13636363636363635, 'entropy = 0.0\\nsamples = 1\\nvalue = [0, 1]'),\n",
       " Text(0.4218181818181818, 0.13636363636363635, 'X[3] <= 32.541\\nentropy = 0.918\\nsamples = 3\\nvalue = [2, 1]'),\n",
       " Text(0.42, 0.045454545454545456, 'entropy = 0.0\\nsamples = 1\\nvalue = [0, 1]'),\n",
       " Text(0.42363636363636364, 0.045454545454545456, 'entropy = 0.0\\nsamples = 2\\nvalue = [2, 0]'),\n",
       " Text(0.43272727272727274, 0.22727272727272727, 'X[4] <= 29.577\\nentropy = 0.469\\nsamples = 40\\nvalue = [36, 4]'),\n",
       " Text(0.4290909090909091, 0.13636363636363635, 'X[5] <= 6.263\\nentropy = 0.345\\nsamples = 31\\nvalue = [29, 2]'),\n",
       " Text(0.42727272727272725, 0.045454545454545456, 'entropy = 0.567\\nsamples = 15\\nvalue = [13, 2]'),\n",
       " Text(0.4309090909090909, 0.045454545454545456, 'entropy = 0.0\\nsamples = 16\\nvalue = [16, 0]'),\n",
       " Text(0.43636363636363634, 0.13636363636363635, 'X[7] <= 0.33\\nentropy = 0.764\\nsamples = 9\\nvalue = [7, 2]'),\n",
       " Text(0.43454545454545457, 0.045454545454545456, 'entropy = 1.0\\nsamples = 2\\nvalue = [1, 1]'),\n",
       " Text(0.4381818181818182, 0.045454545454545456, 'entropy = 0.592\\nsamples = 7\\nvalue = [6, 1]'),\n",
       " Text(0.4213636363636364, 0.4090909090909091, 'entropy = 0.0\\nsamples = 28\\nvalue = [28, 0]'),\n",
       " Text(0.46045454545454545, 0.5, 'X[6] <= 0.277\\nentropy = 0.64\\nsamples = 271\\nvalue = [227, 44]'),\n",
       " Text(0.44727272727272727, 0.4090909090909091, 'X[5] <= 8.462\\nentropy = 0.396\\nsamples = 64\\nvalue = [59, 5]'),\n",
       " Text(0.44545454545454544, 0.3181818181818182, 'entropy = 0.0\\nsamples = 29\\nvalue = [29, 0]'),\n",
       " Text(0.4490909090909091, 0.3181818181818182, 'X[7] <= 0.33\\nentropy = 0.592\\nsamples = 35\\nvalue = [30, 5]'),\n",
       " Text(0.44545454545454544, 0.22727272727272727, 'X[8] <= 0.97\\nentropy = 0.845\\nsamples = 11\\nvalue = [8, 3]'),\n",
       " Text(0.44363636363636366, 0.13636363636363635, 'X[2] <= 11.334\\nentropy = 0.985\\nsamples = 7\\nvalue = [4, 3]'),\n",
       " Text(0.44181818181818183, 0.045454545454545456, 'entropy = 0.811\\nsamples = 4\\nvalue = [1, 3]'),\n",
       " Text(0.44545454545454544, 0.045454545454545456, 'entropy = 0.0\\nsamples = 3\\nvalue = [3, 0]'),\n",
       " Text(0.44727272727272727, 0.13636363636363635, 'entropy = 0.0\\nsamples = 4\\nvalue = [4, 0]'),\n",
       " Text(0.4527272727272727, 0.22727272727272727, 'X[4] <= 13.729\\nentropy = 0.414\\nsamples = 24\\nvalue = [22, 2]'),\n",
       " Text(0.4509090909090909, 0.13636363636363635, 'entropy = 0.0\\nsamples = 12\\nvalue = [12, 0]'),\n",
       " Text(0.45454545454545453, 0.13636363636363635, 'X[3] <= 37.623\\nentropy = 0.65\\nsamples = 12\\nvalue = [10, 2]'),\n",
       " Text(0.4527272727272727, 0.045454545454545456, 'entropy = 0.0\\nsamples = 5\\nvalue = [5, 0]'),\n",
       " Text(0.45636363636363636, 0.045454545454545456, 'entropy = 0.863\\nsamples = 7\\nvalue = [5, 2]'),\n",
       " Text(0.47363636363636363, 0.4090909090909091, 'X[5] <= 10.501\\nentropy = 0.698\\nsamples = 207\\nvalue = [168, 39]'),\n",
       " Text(0.4672727272727273, 0.3181818181818182, 'X[1] <= 7.355\\nentropy = 0.749\\nsamples = 173\\nvalue = [136, 37]'),\n",
       " Text(0.4636363636363636, 0.22727272727272727, 'X[5] <= 9.284\\nentropy = 0.337\\nsamples = 32\\nvalue = [30, 2]'),\n",
       " Text(0.4618181818181818, 0.13636363636363635, 'X[6] <= 0.351\\nentropy = 0.592\\nsamples = 14\\nvalue = [12, 2]'),\n",
       " Text(0.46, 0.045454545454545456, 'entropy = 0.684\\nsamples = 11\\nvalue = [9, 2]'),\n",
       " Text(0.4636363636363636, 0.045454545454545456, 'entropy = 0.0\\nsamples = 3\\nvalue = [3, 0]'),\n",
       " Text(0.46545454545454545, 0.13636363636363635, 'entropy = 0.0\\nsamples = 18\\nvalue = [18, 0]'),\n",
       " Text(0.4709090909090909, 0.22727272727272727, 'X[12] <= 0.483\\nentropy = 0.808\\nsamples = 141\\nvalue = [106, 35]'),\n",
       " Text(0.4690909090909091, 0.13636363636363635, 'entropy = 0.0\\nsamples = 6\\nvalue = [6, 0]'),\n",
       " Text(0.4727272727272727, 0.13636363636363635, 'X[4] <= 20.545\\nentropy = 0.826\\nsamples = 135\\nvalue = [100, 35]'),\n",
       " Text(0.4709090909090909, 0.045454545454545456, 'entropy = 0.878\\nsamples = 74\\nvalue = [52, 22]'),\n",
       " Text(0.47454545454545455, 0.045454545454545456, 'entropy = 0.747\\nsamples = 61\\nvalue = [48, 13]'),\n",
       " Text(0.48, 0.3181818181818182, 'X[4] <= 5.897\\nentropy = 0.323\\nsamples = 34\\nvalue = [32, 2]'),\n",
       " Text(0.4781818181818182, 0.22727272727272727, 'entropy = 0.0\\nsamples = 12\\nvalue = [12, 0]'),\n",
       " Text(0.4818181818181818, 0.22727272727272727, 'X[3] <= 14.41\\nentropy = 0.439\\nsamples = 22\\nvalue = [20, 2]'),\n",
       " Text(0.48, 0.13636363636363635, 'X[4] <= 9.105\\nentropy = 0.811\\nsamples = 8\\nvalue = [6, 2]'),\n",
       " Text(0.4781818181818182, 0.045454545454545456, 'entropy = 0.0\\nsamples = 3\\nvalue = [3, 0]'),\n",
       " Text(0.4818181818181818, 0.045454545454545456, 'entropy = 0.971\\nsamples = 5\\nvalue = [3, 2]'),\n",
       " Text(0.48363636363636364, 0.13636363636363635, 'entropy = 0.0\\nsamples = 14\\nvalue = [14, 0]'),\n",
       " Text(0.651690340909091, 0.8636363636363636, 'X[6] <= 0.232\\nentropy = 1.0\\nsamples = 2784\\nvalue = [1407, 1377]'),\n",
       " Text(0.5181818181818182, 0.7727272727272727, 'X[12] <= 0.076\\nentropy = 0.568\\nsamples = 157\\nvalue = [21, 136]'),\n",
       " Text(0.509090909090909, 0.6818181818181818, 'X[5] <= 8.132\\nentropy = 0.489\\nsamples = 141\\nvalue = [15, 126]'),\n",
       " Text(0.5072727272727273, 0.5909090909090909, 'X[1] <= 5.131\\nentropy = 0.552\\nsamples = 117\\nvalue = [15, 102]'),\n",
       " Text(0.49636363636363634, 0.5, 'X[2] <= 11.525\\nentropy = 0.706\\nsamples = 52\\nvalue = [10, 42]'),\n",
       " Text(0.4890909090909091, 0.4090909090909091, 'X[0] <= 21.545\\nentropy = 0.985\\nsamples = 14\\nvalue = [6, 8]'),\n",
       " Text(0.48727272727272725, 0.3181818181818182, 'X[0] <= 18.454\\nentropy = 0.971\\nsamples = 10\\nvalue = [6, 4]'),\n",
       " Text(0.48545454545454547, 0.22727272727272727, 'entropy = 0.0\\nsamples = 4\\nvalue = [4, 0]'),\n",
       " Text(0.4890909090909091, 0.22727272727272727, 'X[1] <= 3.698\\nentropy = 0.918\\nsamples = 6\\nvalue = [2, 4]'),\n",
       " Text(0.48727272727272725, 0.13636363636363635, 'entropy = 0.0\\nsamples = 2\\nvalue = [0, 2]'),\n",
       " Text(0.4909090909090909, 0.13636363636363635, 'X[4] <= 24.065\\nentropy = 1.0\\nsamples = 4\\nvalue = [2, 2]'),\n",
       " Text(0.4890909090909091, 0.045454545454545456, 'entropy = 0.918\\nsamples = 3\\nvalue = [2, 1]'),\n",
       " Text(0.49272727272727274, 0.045454545454545456, 'entropy = 0.0\\nsamples = 1\\nvalue = [0, 1]'),\n",
       " Text(0.4909090909090909, 0.3181818181818182, 'entropy = 0.0\\nsamples = 4\\nvalue = [0, 4]'),\n",
       " Text(0.5036363636363637, 0.4090909090909091, 'X[2] <= 16.997\\nentropy = 0.485\\nsamples = 38\\nvalue = [4, 34]'),\n",
       " Text(0.5018181818181818, 0.3181818181818182, 'X[0] <= 23.178\\nentropy = 0.567\\nsamples = 30\\nvalue = [4, 26]'),\n",
       " Text(0.49636363636363634, 0.22727272727272727, 'X[10] <= 0.083\\nentropy = 0.297\\nsamples = 19\\nvalue = [1, 18]'),\n",
       " Text(0.49454545454545457, 0.13636363636363635, 'entropy = 0.0\\nsamples = 11\\nvalue = [0, 11]'),\n",
       " Text(0.49818181818181817, 0.13636363636363635, 'X[1] <= 2.434\\nentropy = 0.544\\nsamples = 8\\nvalue = [1, 7]'),\n",
       " Text(0.49636363636363634, 0.045454545454545456, 'entropy = 0.0\\nsamples = 1\\nvalue = [1, 0]'),\n",
       " Text(0.5, 0.045454545454545456, 'entropy = 0.0\\nsamples = 7\\nvalue = [0, 7]'),\n",
       " Text(0.5072727272727273, 0.22727272727272727, 'X[2] <= 15.269\\nentropy = 0.845\\nsamples = 11\\nvalue = [3, 8]'),\n",
       " Text(0.5054545454545455, 0.13636363636363635, 'X[6] <= 0.019\\nentropy = 0.954\\nsamples = 8\\nvalue = [3, 5]'),\n",
       " Text(0.5036363636363637, 0.045454545454545456, 'entropy = 0.0\\nsamples = 1\\nvalue = [1, 0]'),\n",
       " Text(0.5072727272727273, 0.045454545454545456, 'entropy = 0.863\\nsamples = 7\\nvalue = [2, 5]'),\n",
       " Text(0.509090909090909, 0.13636363636363635, 'entropy = 0.0\\nsamples = 3\\nvalue = [0, 3]'),\n",
       " Text(0.5054545454545455, 0.3181818181818182, 'entropy = 0.0\\nsamples = 8\\nvalue = [0, 8]'),\n",
       " Text(0.5181818181818182, 0.5, 'X[5] <= 5.627\\nentropy = 0.391\\nsamples = 65\\nvalue = [5, 60]'),\n",
       " Text(0.5163636363636364, 0.4090909090909091, 'X[3] <= 38.266\\nentropy = 0.663\\nsamples = 29\\nvalue = [5, 24]'),\n",
       " Text(0.5145454545454545, 0.3181818181818182, 'X[4] <= 12.771\\nentropy = 0.831\\nsamples = 19\\nvalue = [5, 14]'),\n",
       " Text(0.5127272727272727, 0.22727272727272727, 'entropy = 0.0\\nsamples = 1\\nvalue = [1, 0]'),\n",
       " Text(0.5163636363636364, 0.22727272727272727, 'X[3] <= 22.852\\nentropy = 0.764\\nsamples = 18\\nvalue = [4, 14]'),\n",
       " Text(0.5127272727272727, 0.13636363636363635, 'X[2] <= 17.477\\nentropy = 0.503\\nsamples = 9\\nvalue = [1, 8]'),\n",
       " Text(0.5109090909090909, 0.045454545454545456, 'entropy = 0.0\\nsamples = 8\\nvalue = [0, 8]'),\n",
       " Text(0.5145454545454545, 0.045454545454545456, 'entropy = 0.0\\nsamples = 1\\nvalue = [1, 0]'),\n",
       " Text(0.52, 0.13636363636363635, 'X[2] <= 16.503\\nentropy = 0.918\\nsamples = 9\\nvalue = [3, 6]'),\n",
       " Text(0.5181818181818182, 0.045454545454545456, 'entropy = 0.985\\nsamples = 7\\nvalue = [3, 4]'),\n",
       " Text(0.5218181818181818, 0.045454545454545456, 'entropy = 0.0\\nsamples = 2\\nvalue = [0, 2]'),\n",
       " Text(0.5181818181818182, 0.3181818181818182, 'entropy = 0.0\\nsamples = 10\\nvalue = [0, 10]'),\n",
       " Text(0.52, 0.4090909090909091, 'entropy = 0.0\\nsamples = 36\\nvalue = [0, 36]'),\n",
       " Text(0.5109090909090909, 0.5909090909090909, 'entropy = 0.0\\nsamples = 24\\nvalue = [0, 24]'),\n",
       " Text(0.5272727272727272, 0.6818181818181818, 'X[6] <= 0.028\\nentropy = 0.954\\nsamples = 16\\nvalue = [6, 10]'),\n",
       " Text(0.5236363636363637, 0.5909090909090909, 'X[4] <= 26.497\\nentropy = 0.722\\nsamples = 5\\nvalue = [4, 1]'),\n",
       " Text(0.5218181818181818, 0.5, 'entropy = 0.0\\nsamples = 4\\nvalue = [4, 0]'),\n",
       " Text(0.5254545454545455, 0.5, 'entropy = 0.0\\nsamples = 1\\nvalue = [0, 1]'),\n",
       " Text(0.5309090909090909, 0.5909090909090909, 'X[4] <= 11.278\\nentropy = 0.684\\nsamples = 11\\nvalue = [2, 9]'),\n",
       " Text(0.5290909090909091, 0.5, 'X[4] <= 7.494\\nentropy = 0.918\\nsamples = 3\\nvalue = [2, 1]'),\n",
       " Text(0.5272727272727272, 0.4090909090909091, 'entropy = 0.0\\nsamples = 1\\nvalue = [0, 1]'),\n",
       " Text(0.5309090909090909, 0.4090909090909091, 'entropy = 0.0\\nsamples = 2\\nvalue = [2, 0]'),\n",
       " Text(0.5327272727272727, 0.5, 'entropy = 0.0\\nsamples = 8\\nvalue = [0, 8]'),\n",
       " Text(0.7851988636363636, 0.7727272727272727, 'X[1] <= 6.347\\nentropy = 0.998\\nsamples = 2627\\nvalue = [1386, 1241]'),\n",
       " Text(0.6592045454545454, 0.6818181818181818, 'X[12] <= 0.817\\nentropy = 0.984\\nsamples = 1478\\nvalue = [850, 628]'),\n",
       " Text(0.5864772727272727, 0.5909090909090909, 'X[5] <= 6.179\\nentropy = 0.996\\nsamples = 1061\\nvalue = [568, 493]'),\n",
       " Text(0.555, 0.5, 'X[1] <= 5.385\\nentropy = 0.969\\nsamples = 423\\nvalue = [255, 168]'),\n",
       " Text(0.5409090909090909, 0.4090909090909091, 'X[0] <= 19.539\\nentropy = 0.964\\nsamples = 409\\nvalue = [250, 159]'),\n",
       " Text(0.5290909090909091, 0.3181818181818182, 'X[5] <= 4.468\\nentropy = 0.939\\nsamples = 301\\nvalue = [194, 107]'),\n",
       " Text(0.5272727272727272, 0.22727272727272727, 'entropy = 0.0\\nsamples = 10\\nvalue = [10, 0]'),\n",
       " Text(0.5309090909090909, 0.22727272727272727, 'X[5] <= 5.267\\nentropy = 0.949\\nsamples = 291\\nvalue = [184, 107]'),\n",
       " Text(0.5272727272727272, 0.13636363636363635, 'X[3] <= 49.598\\nentropy = 0.916\\nsamples = 175\\nvalue = [117, 58]'),\n",
       " Text(0.5254545454545455, 0.045454545454545456, 'entropy = 0.889\\nsamples = 150\\nvalue = [104, 46]'),\n",
       " Text(0.5290909090909091, 0.045454545454545456, 'entropy = 0.999\\nsamples = 25\\nvalue = [13, 12]'),\n",
       " Text(0.5345454545454545, 0.13636363636363635, 'X[1] <= 3.586\\nentropy = 0.983\\nsamples = 116\\nvalue = [67, 49]'),\n",
       " Text(0.5327272727272727, 0.045454545454545456, 'entropy = 0.98\\nsamples = 36\\nvalue = [15, 21]'),\n",
       " Text(0.5363636363636364, 0.045454545454545456, 'entropy = 0.934\\nsamples = 80\\nvalue = [52, 28]'),\n",
       " Text(0.5527272727272727, 0.3181818181818182, 'X[6] <= 0.275\\nentropy = 0.999\\nsamples = 108\\nvalue = [56, 52]'),\n",
       " Text(0.5454545454545454, 0.22727272727272727, 'X[4] <= 7.067\\nentropy = 0.927\\nsamples = 38\\nvalue = [25, 13]'),\n",
       " Text(0.5418181818181819, 0.13636363636363635, 'X[4] <= 5.228\\nentropy = 0.391\\nsamples = 13\\nvalue = [12, 1]'),\n",
       " Text(0.54, 0.045454545454545456, 'entropy = 0.0\\nsamples = 8\\nvalue = [8, 0]'),\n",
       " Text(0.5436363636363636, 0.045454545454545456, 'entropy = 0.722\\nsamples = 5\\nvalue = [4, 1]'),\n",
       " Text(0.5490909090909091, 0.13636363636363635, 'X[7] <= 0.341\\nentropy = 0.999\\nsamples = 25\\nvalue = [13, 12]'),\n",
       " Text(0.5472727272727272, 0.045454545454545456, 'entropy = 0.964\\nsamples = 18\\nvalue = [11, 7]'),\n",
       " Text(0.5509090909090909, 0.045454545454545456, 'entropy = 0.863\\nsamples = 7\\nvalue = [2, 5]'),\n",
       " Text(0.56, 0.22727272727272727, 'X[1] <= 4.707\\nentropy = 0.991\\nsamples = 70\\nvalue = [31, 39]'),\n",
       " Text(0.5563636363636364, 0.13636363636363635, 'X[4] <= 21.852\\nentropy = 0.811\\nsamples = 24\\nvalue = [6, 18]'),\n",
       " Text(0.5545454545454546, 0.045454545454545456, 'entropy = 0.9\\nsamples = 19\\nvalue = [6, 13]'),\n",
       " Text(0.5581818181818182, 0.045454545454545456, 'entropy = 0.0\\nsamples = 5\\nvalue = [0, 5]'),\n",
       " Text(0.5636363636363636, 0.13636363636363635, 'X[5] <= 5.916\\nentropy = 0.995\\nsamples = 46\\nvalue = [25, 21]'),\n",
       " Text(0.5618181818181818, 0.045454545454545456, 'entropy = 0.943\\nsamples = 25\\nvalue = [9, 16]'),\n",
       " Text(0.5654545454545454, 0.045454545454545456, 'entropy = 0.792\\nsamples = 21\\nvalue = [16, 5]'),\n",
       " Text(0.5690909090909091, 0.4090909090909091, 'X[6] <= 0.343\\nentropy = 0.94\\nsamples = 14\\nvalue = [5, 9]'),\n",
       " Text(0.5672727272727273, 0.3181818181818182, 'entropy = 0.0\\nsamples = 3\\nvalue = [0, 3]'),\n",
       " Text(0.5709090909090909, 0.3181818181818182, 'X[2] <= 11.009\\nentropy = 0.994\\nsamples = 11\\nvalue = [5, 6]'),\n",
       " Text(0.5690909090909091, 0.22727272727272727, 'entropy = 0.0\\nsamples = 2\\nvalue = [0, 2]'),\n",
       " Text(0.5727272727272728, 0.22727272727272727, 'X[0] <= 22.179\\nentropy = 0.991\\nsamples = 9\\nvalue = [5, 4]'),\n",
       " Text(0.5709090909090909, 0.13636363636363635, 'X[5] <= 5.196\\nentropy = 0.954\\nsamples = 8\\nvalue = [5, 3]'),\n",
       " Text(0.5690909090909091, 0.045454545454545456, 'entropy = 0.918\\nsamples = 3\\nvalue = [1, 2]'),\n",
       " Text(0.5727272727272728, 0.045454545454545456, 'entropy = 0.722\\nsamples = 5\\nvalue = [4, 1]'),\n",
       " Text(0.5745454545454546, 0.13636363636363635, 'entropy = 0.0\\nsamples = 1\\nvalue = [0, 1]'),\n",
       " Text(0.6179545454545454, 0.5, 'X[10] <= 0.462\\nentropy = 1.0\\nsamples = 638\\nvalue = [313, 325]'),\n",
       " Text(0.5922727272727273, 0.4090909090909091, 'X[0] <= 19.855\\nentropy = 0.958\\nsamples = 234\\nvalue = [89, 145]'),\n",
       " Text(0.5836363636363636, 0.3181818181818182, 'X[1] <= 2.771\\nentropy = 0.913\\nsamples = 183\\nvalue = [60, 123]'),\n",
       " Text(0.58, 0.22727272727272727, 'X[2] <= 20.416\\nentropy = 0.575\\nsamples = 22\\nvalue = [3, 19]'),\n",
       " Text(0.5781818181818181, 0.13636363636363635, 'X[6] <= 0.327\\nentropy = 0.454\\nsamples = 21\\nvalue = [2, 19]'),\n",
       " Text(0.5763636363636364, 0.045454545454545456, 'entropy = 0.918\\nsamples = 3\\nvalue = [1, 2]'),\n",
       " Text(0.58, 0.045454545454545456, 'entropy = 0.31\\nsamples = 18\\nvalue = [1, 17]'),\n",
       " Text(0.5818181818181818, 0.13636363636363635, 'entropy = 0.0\\nsamples = 1\\nvalue = [1, 0]'),\n",
       " Text(0.5872727272727273, 0.22727272727272727, 'X[8] <= 0.025\\nentropy = 0.938\\nsamples = 161\\nvalue = [57, 104]'),\n",
       " Text(0.5854545454545454, 0.13636363636363635, 'entropy = 0.0\\nsamples = 4\\nvalue = [0, 4]'),\n",
       " Text(0.5890909090909091, 0.13636363636363635, 'X[2] <= 15.073\\nentropy = 0.945\\nsamples = 157\\nvalue = [57, 100]'),\n",
       " Text(0.5872727272727273, 0.045454545454545456, 'entropy = 0.979\\nsamples = 111\\nvalue = [46, 65]'),\n",
       " Text(0.5909090909090909, 0.045454545454545456, 'entropy = 0.794\\nsamples = 46\\nvalue = [11, 35]'),\n",
       " Text(0.600909090909091, 0.3181818181818182, 'X[1] <= 2.593\\nentropy = 0.986\\nsamples = 51\\nvalue = [29, 22]'),\n",
       " Text(0.5945454545454546, 0.22727272727272727, 'X[6] <= 0.286\\nentropy = 0.918\\nsamples = 9\\nvalue = [3, 6]'),\n",
       " Text(0.5927272727272728, 0.13636363636363635, 'entropy = 0.0\\nsamples = 1\\nvalue = [1, 0]'),\n",
       " Text(0.5963636363636363, 0.13636363636363635, 'X[6] <= 0.356\\nentropy = 0.811\\nsamples = 8\\nvalue = [2, 6]'),\n",
       " Text(0.5945454545454546, 0.045454545454545456, 'entropy = 0.0\\nsamples = 2\\nvalue = [0, 2]'),\n",
       " Text(0.5981818181818181, 0.045454545454545456, 'entropy = 0.918\\nsamples = 6\\nvalue = [2, 4]'),\n",
       " Text(0.6072727272727273, 0.22727272727272727, 'X[7] <= 0.148\\nentropy = 0.959\\nsamples = 42\\nvalue = [26, 16]'),\n",
       " Text(0.6036363636363636, 0.13636363636363635, 'X[7] <= 0.093\\nentropy = 0.65\\nsamples = 12\\nvalue = [10, 2]'),\n",
       " Text(0.6018181818181818, 0.045454545454545456, 'entropy = 0.918\\nsamples = 6\\nvalue = [4, 2]'),\n",
       " Text(0.6054545454545455, 0.045454545454545456, 'entropy = 0.0\\nsamples = 6\\nvalue = [6, 0]'),\n",
       " Text(0.610909090909091, 0.13636363636363635, 'X[1] <= 3.086\\nentropy = 0.997\\nsamples = 30\\nvalue = [16, 14]'),\n",
       " Text(0.6090909090909091, 0.045454545454545456, 'entropy = 0.937\\nsamples = 17\\nvalue = [11, 6]'),\n",
       " Text(0.6127272727272727, 0.045454545454545456, 'entropy = 0.961\\nsamples = 13\\nvalue = [5, 8]'),\n",
       " Text(0.6436363636363637, 0.4090909090909091, 'X[1] <= 3.741\\nentropy = 0.991\\nsamples = 404\\nvalue = [224, 180]'),\n",
       " Text(0.6290909090909091, 0.3181818181818182, 'X[7] <= 0.128\\nentropy = 0.94\\nsamples = 84\\nvalue = [54, 30]'),\n",
       " Text(0.6218181818181818, 0.22727272727272727, 'X[1] <= 2.493\\nentropy = 0.811\\nsamples = 40\\nvalue = [30, 10]'),\n",
       " Text(0.6181818181818182, 0.13636363636363635, 'X[3] <= 15.414\\nentropy = 0.469\\nsamples = 10\\nvalue = [9, 1]'),\n",
       " Text(0.6163636363636363, 0.045454545454545456, 'entropy = 0.918\\nsamples = 3\\nvalue = [2, 1]'),\n",
       " Text(0.62, 0.045454545454545456, 'entropy = 0.0\\nsamples = 7\\nvalue = [7, 0]'),\n",
       " Text(0.6254545454545455, 0.13636363636363635, 'X[6] <= 0.359\\nentropy = 0.881\\nsamples = 30\\nvalue = [21, 9]'),\n",
       " Text(0.6236363636363637, 0.045454545454545456, 'entropy = 0.65\\nsamples = 12\\nvalue = [10, 2]'),\n",
       " Text(0.6272727272727273, 0.045454545454545456, 'entropy = 0.964\\nsamples = 18\\nvalue = [11, 7]'),\n",
       " Text(0.6363636363636364, 0.22727272727272727, 'X[3] <= 28.844\\nentropy = 0.994\\nsamples = 44\\nvalue = [24, 20]'),\n",
       " Text(0.6327272727272727, 0.13636363636363635, 'X[1] <= 2.462\\nentropy = 0.918\\nsamples = 21\\nvalue = [7, 14]'),\n",
       " Text(0.6309090909090909, 0.045454545454545456, 'entropy = 0.985\\nsamples = 7\\nvalue = [4, 3]'),\n",
       " Text(0.6345454545454545, 0.045454545454545456, 'entropy = 0.75\\nsamples = 14\\nvalue = [3, 11]'),\n",
       " Text(0.64, 0.13636363636363635, 'X[2] <= 9.171\\nentropy = 0.828\\nsamples = 23\\nvalue = [17, 6]'),\n",
       " Text(0.6381818181818182, 0.045454545454545456, 'entropy = 0.0\\nsamples = 3\\nvalue = [3, 0]'),\n",
       " Text(0.6418181818181818, 0.045454545454545456, 'entropy = 0.881\\nsamples = 20\\nvalue = [14, 6]'),\n",
       " Text(0.6581818181818182, 0.3181818181818182, 'X[1] <= 4.685\\nentropy = 0.997\\nsamples = 320\\nvalue = [170, 150]'),\n",
       " Text(0.6509090909090909, 0.22727272727272727, 'X[6] <= 0.274\\nentropy = 0.982\\nsamples = 147\\nvalue = [62, 85]'),\n",
       " Text(0.6472727272727272, 0.13636363636363635, 'X[2] <= 10.285\\nentropy = 0.9\\nsamples = 38\\nvalue = [12, 26]'),\n",
       " Text(0.6454545454545455, 0.045454545454545456, 'entropy = 0.985\\nsamples = 7\\nvalue = [4, 3]'),\n",
       " Text(0.649090909090909, 0.045454545454545456, 'entropy = 0.824\\nsamples = 31\\nvalue = [8, 23]'),\n",
       " Text(0.6545454545454545, 0.13636363636363635, 'X[7] <= 0.263\\nentropy = 0.995\\nsamples = 109\\nvalue = [50, 59]'),\n",
       " Text(0.6527272727272727, 0.045454545454545456, 'entropy = 0.999\\nsamples = 75\\nvalue = [39, 36]'),\n",
       " Text(0.6563636363636364, 0.045454545454545456, 'entropy = 0.908\\nsamples = 34\\nvalue = [11, 23]'),\n",
       " Text(0.6654545454545454, 0.22727272727272727, 'X[5] <= 8.207\\nentropy = 0.955\\nsamples = 173\\nvalue = [108, 65]'),\n",
       " Text(0.6618181818181819, 0.13636363636363635, 'X[3] <= 1.974\\nentropy = 0.98\\nsamples = 120\\nvalue = [70, 50]'),\n",
       " Text(0.66, 0.045454545454545456, 'entropy = 0.0\\nsamples = 3\\nvalue = [3, 0]'),\n",
       " Text(0.6636363636363637, 0.045454545454545456, 'entropy = 0.985\\nsamples = 117\\nvalue = [67, 50]'),\n",
       " Text(0.6690909090909091, 0.13636363636363635, 'X[5] <= 9.541\\nentropy = 0.86\\nsamples = 53\\nvalue = [38, 15]'),\n",
       " Text(0.6672727272727272, 0.045454545454545456, 'entropy = 0.764\\nsamples = 45\\nvalue = [35, 10]'),\n",
       " Text(0.6709090909090909, 0.045454545454545456, 'entropy = 0.954\\nsamples = 8\\nvalue = [3, 5]'),\n",
       " Text(0.7319318181818182, 0.5909090909090909, 'X[0] <= 19.06\\nentropy = 0.908\\nsamples = 417\\nvalue = [282, 135]'),\n",
       " Text(0.701590909090909, 0.5, 'X[5] <= 7.906\\nentropy = 0.88\\nsamples = 321\\nvalue = [225, 96]'),\n",
       " Text(0.6804545454545454, 0.4090909090909091, 'X[1] <= 2.663\\nentropy = 0.722\\nsamples = 175\\nvalue = [140, 35]'),\n",
       " Text(0.6727272727272727, 0.3181818181818182, 'X[4] <= 10.891\\nentropy = 0.989\\nsamples = 16\\nvalue = [9, 7]'),\n",
       " Text(0.6709090909090909, 0.22727272727272727, 'entropy = 0.0\\nsamples = 2\\nvalue = [2, 0]'),\n",
       " Text(0.6745454545454546, 0.22727272727272727, 'X[7] <= 0.024\\nentropy = 1.0\\nsamples = 14\\nvalue = [7, 7]'),\n",
       " Text(0.6727272727272727, 0.13636363636363635, 'entropy = 0.0\\nsamples = 1\\nvalue = [0, 1]'),\n",
       " Text(0.6763636363636364, 0.13636363636363635, 'X[5] <= 5.898\\nentropy = 0.996\\nsamples = 13\\nvalue = [7, 6]'),\n",
       " Text(0.6745454545454546, 0.045454545454545456, 'entropy = 0.811\\nsamples = 4\\nvalue = [3, 1]'),\n",
       " Text(0.6781818181818182, 0.045454545454545456, 'entropy = 0.991\\nsamples = 9\\nvalue = [4, 5]'),\n",
       " Text(0.6881818181818182, 0.3181818181818182, 'X[3] <= 27.625\\nentropy = 0.671\\nsamples = 159\\nvalue = [131, 28]'),\n",
       " Text(0.6818181818181818, 0.22727272727272727, 'X[4] <= 10.185\\nentropy = 0.49\\nsamples = 75\\nvalue = [67, 8]'),\n",
       " Text(0.68, 0.13636363636363635, 'entropy = 0.0\\nsamples = 14\\nvalue = [14, 0]'),\n",
       " Text(0.6836363636363636, 0.13636363636363635, 'X[7] <= 0.148\\nentropy = 0.561\\nsamples = 61\\nvalue = [53, 8]'),\n",
       " Text(0.6818181818181818, 0.045454545454545456, 'entropy = 0.391\\nsamples = 39\\nvalue = [36, 3]'),\n",
       " Text(0.6854545454545454, 0.045454545454545456, 'entropy = 0.773\\nsamples = 22\\nvalue = [17, 5]'),\n",
       " Text(0.6945454545454546, 0.22727272727272727, 'X[4] <= 18.387\\nentropy = 0.792\\nsamples = 84\\nvalue = [64, 20]'),\n",
       " Text(0.6909090909090909, 0.13636363636363635, 'X[1] <= 3.163\\nentropy = 0.881\\nsamples = 40\\nvalue = [28, 12]'),\n",
       " Text(0.6890909090909091, 0.045454545454545456, 'entropy = 0.0\\nsamples = 3\\nvalue = [3, 0]'),\n",
       " Text(0.6927272727272727, 0.045454545454545456, 'entropy = 0.909\\nsamples = 37\\nvalue = [25, 12]'),\n",
       " Text(0.6981818181818182, 0.13636363636363635, 'X[5] <= 5.157\\nentropy = 0.684\\nsamples = 44\\nvalue = [36, 8]'),\n",
       " Text(0.6963636363636364, 0.045454545454545456, 'entropy = 0.0\\nsamples = 1\\nvalue = [0, 1]'),\n",
       " Text(0.7, 0.045454545454545456, 'entropy = 0.641\\nsamples = 43\\nvalue = [36, 7]'),\n",
       " Text(0.7227272727272728, 0.4090909090909091, 'X[4] <= 19.229\\nentropy = 0.98\\nsamples = 146\\nvalue = [85, 61]'),\n",
       " Text(0.71, 0.3181818181818182, 'X[2] <= 11.884\\nentropy = 0.932\\nsamples = 92\\nvalue = [60, 32]'),\n",
       " Text(0.7036363636363636, 0.22727272727272727, 'X[1] <= 2.747\\nentropy = 0.992\\nsamples = 29\\nvalue = [16, 13]'),\n",
       " Text(0.7018181818181818, 0.13636363636363635, 'entropy = 0.0\\nsamples = 2\\nvalue = [0, 2]'),\n",
       " Text(0.7054545454545454, 0.13636363636363635, 'X[0] <= 18.844\\nentropy = 0.975\\nsamples = 27\\nvalue = [16, 11]'),\n",
       " Text(0.7036363636363636, 0.045454545454545456, 'entropy = 1.0\\nsamples = 20\\nvalue = [10, 10]'),\n",
       " Text(0.7072727272727273, 0.045454545454545456, 'entropy = 0.592\\nsamples = 7\\nvalue = [6, 1]'),\n",
       " Text(0.7163636363636363, 0.22727272727272727, 'X[1] <= 4.04\\nentropy = 0.883\\nsamples = 63\\nvalue = [44, 19]'),\n",
       " Text(0.7127272727272728, 0.13636363636363635, 'X[1] <= 2.291\\nentropy = 0.937\\nsamples = 51\\nvalue = [33, 18]'),\n",
       " Text(0.7109090909090909, 0.045454545454545456, 'entropy = 0.722\\nsamples = 5\\nvalue = [1, 4]'),\n",
       " Text(0.7145454545454546, 0.045454545454545456, 'entropy = 0.887\\nsamples = 46\\nvalue = [32, 14]'),\n",
       " Text(0.72, 0.13636363636363635, 'X[2] <= 14.674\\nentropy = 0.414\\nsamples = 12\\nvalue = [11, 1]'),\n",
       " Text(0.7181818181818181, 0.045454545454545456, 'entropy = 0.811\\nsamples = 4\\nvalue = [3, 1]'),\n",
       " Text(0.7218181818181818, 0.045454545454545456, 'entropy = 0.0\\nsamples = 8\\nvalue = [8, 0]'),\n",
       " Text(0.7354545454545455, 0.3181818181818182, 'X[0] <= 18.439\\nentropy = 0.996\\nsamples = 54\\nvalue = [25, 29]'),\n",
       " Text(0.730909090909091, 0.22727272727272727, 'X[4] <= 22.671\\nentropy = 0.968\\nsamples = 43\\nvalue = [17, 26]'),\n",
       " Text(0.7272727272727273, 0.13636363636363635, 'X[2] <= 1.747\\nentropy = 0.918\\nsamples = 12\\nvalue = [8, 4]'),\n",
       " Text(0.7254545454545455, 0.045454545454545456, 'entropy = 0.0\\nsamples = 1\\nvalue = [1, 0]'),\n",
       " Text(0.7290909090909091, 0.045454545454545456, 'entropy = 0.946\\nsamples = 11\\nvalue = [7, 4]'),\n",
       " Text(0.7345454545454545, 0.13636363636363635, 'X[3] <= 56.319\\nentropy = 0.869\\nsamples = 31\\nvalue = [9, 22]'),\n",
       " Text(0.7327272727272728, 0.045454545454545456, 'entropy = 0.837\\nsamples = 30\\nvalue = [8, 22]'),\n",
       " Text(0.7363636363636363, 0.045454545454545456, 'entropy = 0.0\\nsamples = 1\\nvalue = [1, 0]'),\n",
       " Text(0.74, 0.22727272727272727, 'X[2] <= 2.474\\nentropy = 0.845\\nsamples = 11\\nvalue = [8, 3]'),\n",
       " Text(0.7381818181818182, 0.13636363636363635, 'entropy = 0.0\\nsamples = 1\\nvalue = [0, 1]'),\n",
       " Text(0.7418181818181818, 0.13636363636363635, 'X[6] <= 0.325\\nentropy = 0.722\\nsamples = 10\\nvalue = [8, 2]'),\n",
       " Text(0.74, 0.045454545454545456, 'entropy = 0.0\\nsamples = 4\\nvalue = [4, 0]'),\n",
       " Text(0.7436363636363637, 0.045454545454545456, 'entropy = 0.918\\nsamples = 6\\nvalue = [4, 2]'),\n",
       " Text(0.7622727272727273, 0.5, 'X[7] <= 0.189\\nentropy = 0.974\\nsamples = 96\\nvalue = [57, 39]'),\n",
       " Text(0.7509090909090909, 0.4090909090909091, 'X[1] <= 3.331\\nentropy = 1.0\\nsamples = 46\\nvalue = [23, 23]'),\n",
       " Text(0.7490909090909091, 0.3181818181818182, 'entropy = 0.0\\nsamples = 4\\nvalue = [4, 0]'),\n",
       " Text(0.7527272727272727, 0.3181818181818182, 'X[1] <= 4.073\\nentropy = 0.993\\nsamples = 42\\nvalue = [19, 23]'),\n",
       " Text(0.7472727272727273, 0.22727272727272727, 'X[6] <= 0.321\\nentropy = 0.907\\nsamples = 31\\nvalue = [10, 21]'),\n",
       " Text(0.7454545454545455, 0.13636363636363635, 'entropy = 0.0\\nsamples = 4\\nvalue = [0, 4]'),\n",
       " Text(0.7490909090909091, 0.13636363636363635, 'X[2] <= 15.396\\nentropy = 0.951\\nsamples = 27\\nvalue = [10, 17]'),\n",
       " Text(0.7472727272727273, 0.045454545454545456, 'entropy = 0.993\\nsamples = 20\\nvalue = [9, 11]'),\n",
       " Text(0.7509090909090909, 0.045454545454545456, 'entropy = 0.592\\nsamples = 7\\nvalue = [1, 6]'),\n",
       " Text(0.7581818181818182, 0.22727272727272727, 'X[4] <= 24.123\\nentropy = 0.684\\nsamples = 11\\nvalue = [9, 2]'),\n",
       " Text(0.7563636363636363, 0.13636363636363635, 'X[2] <= 6.887\\nentropy = 0.469\\nsamples = 10\\nvalue = [9, 1]'),\n",
       " Text(0.7545454545454545, 0.045454545454545456, 'entropy = 1.0\\nsamples = 2\\nvalue = [1, 1]'),\n",
       " Text(0.7581818181818182, 0.045454545454545456, 'entropy = 0.0\\nsamples = 8\\nvalue = [8, 0]'),\n",
       " Text(0.76, 0.13636363636363635, 'entropy = 0.0\\nsamples = 1\\nvalue = [0, 1]'),\n",
       " Text(0.7736363636363637, 0.4090909090909091, 'X[7] <= 0.333\\nentropy = 0.904\\nsamples = 50\\nvalue = [34, 16]'),\n",
       " Text(0.7654545454545455, 0.3181818181818182, 'X[1] <= 2.292\\nentropy = 0.998\\nsamples = 17\\nvalue = [8, 9]'),\n",
       " Text(0.7636363636363637, 0.22727272727272727, 'entropy = 0.0\\nsamples = 4\\nvalue = [0, 4]'),\n",
       " Text(0.7672727272727272, 0.22727272727272727, 'X[1] <= 3.251\\nentropy = 0.961\\nsamples = 13\\nvalue = [8, 5]'),\n",
       " Text(0.7636363636363637, 0.13636363636363635, 'X[5] <= 8.086\\nentropy = 0.592\\nsamples = 7\\nvalue = [6, 1]'),\n",
       " Text(0.7618181818181818, 0.045454545454545456, 'entropy = 0.0\\nsamples = 5\\nvalue = [5, 0]'),\n",
       " Text(0.7654545454545455, 0.045454545454545456, 'entropy = 1.0\\nsamples = 2\\nvalue = [1, 1]'),\n",
       " Text(0.7709090909090909, 0.13636363636363635, 'X[5] <= 5.49\\nentropy = 0.918\\nsamples = 6\\nvalue = [2, 4]'),\n",
       " Text(0.769090909090909, 0.045454545454545456, 'entropy = 0.0\\nsamples = 2\\nvalue = [2, 0]'),\n",
       " Text(0.7727272727272727, 0.045454545454545456, 'entropy = 0.0\\nsamples = 4\\nvalue = [0, 4]'),\n",
       " Text(0.7818181818181819, 0.3181818181818182, 'X[1] <= 4.532\\nentropy = 0.746\\nsamples = 33\\nvalue = [26, 7]'),\n",
       " Text(0.7763636363636364, 0.22727272727272727, 'X[0] <= 26.081\\nentropy = 0.863\\nsamples = 21\\nvalue = [15, 6]'),\n",
       " Text(0.7745454545454545, 0.13636363636363635, 'entropy = 0.0\\nsamples = 2\\nvalue = [2, 0]'),\n",
       " Text(0.7781818181818182, 0.13636363636363635, 'X[3] <= 26.812\\nentropy = 0.9\\nsamples = 19\\nvalue = [13, 6]'),\n",
       " Text(0.7763636363636364, 0.045454545454545456, 'entropy = 0.779\\nsamples = 13\\nvalue = [10, 3]'),\n",
       " Text(0.78, 0.045454545454545456, 'entropy = 1.0\\nsamples = 6\\nvalue = [3, 3]'),\n",
       " Text(0.7872727272727272, 0.22727272727272727, 'X[6] <= 0.262\\nentropy = 0.414\\nsamples = 12\\nvalue = [11, 1]'),\n",
       " Text(0.7854545454545454, 0.13636363636363635, 'X[2] <= 19.982\\nentropy = 0.918\\nsamples = 3\\nvalue = [2, 1]'),\n",
       " Text(0.7836363636363637, 0.045454545454545456, 'entropy = 0.0\\nsamples = 2\\nvalue = [2, 0]'),\n",
       " Text(0.7872727272727272, 0.045454545454545456, 'entropy = 0.0\\nsamples = 1\\nvalue = [0, 1]'),\n",
       " Text(0.7890909090909091, 0.13636363636363635, 'entropy = 0.0\\nsamples = 9\\nvalue = [9, 0]'),\n",
       " Text(0.9111931818181818, 0.6818181818181818, 'X[7] <= 0.29\\nentropy = 0.997\\nsamples = 1149\\nvalue = [536, 613]'),\n",
       " Text(0.8653409090909091, 0.5909090909090909, 'X[1] <= 11.644\\nentropy = 0.978\\nsamples = 926\\nvalue = [382, 544]'),\n",
       " Text(0.8325, 0.5, 'X[7] <= 0.172\\nentropy = 0.964\\nsamples = 847\\nvalue = [329, 518]'),\n",
       " Text(0.8127272727272727, 0.4090909090909091, 'X[1] <= 9.96\\nentropy = 0.995\\nsamples = 475\\nvalue = [218, 257]'),\n",
       " Text(0.8027272727272727, 0.3181818181818182, 'X[7] <= 0.121\\nentropy = 0.95\\nsamples = 187\\nvalue = [69, 118]'),\n",
       " Text(0.7963636363636364, 0.22727272727272727, 'X[12] <= 0.743\\nentropy = 0.996\\nsamples = 117\\nvalue = [54, 63]'),\n",
       " Text(0.7927272727272727, 0.13636363636363635, 'X[5] <= 5.216\\nentropy = 0.974\\nsamples = 101\\nvalue = [41, 60]'),\n",
       " Text(0.7909090909090909, 0.045454545454545456, 'entropy = 0.983\\nsamples = 26\\nvalue = [15, 11]'),\n",
       " Text(0.7945454545454546, 0.045454545454545456, 'entropy = 0.931\\nsamples = 75\\nvalue = [26, 49]'),\n",
       " Text(0.8, 0.13636363636363635, 'X[1] <= 7.854\\nentropy = 0.696\\nsamples = 16\\nvalue = [13, 3]'),\n",
       " Text(0.7981818181818182, 0.045454545454545456, 'entropy = 0.0\\nsamples = 4\\nvalue = [4, 0]'),\n",
       " Text(0.8018181818181818, 0.045454545454545456, 'entropy = 0.811\\nsamples = 12\\nvalue = [9, 3]'),\n",
       " Text(0.8090909090909091, 0.22727272727272727, 'X[12] <= 0.995\\nentropy = 0.75\\nsamples = 70\\nvalue = [15, 55]'),\n",
       " Text(0.8072727272727273, 0.13636363636363635, 'X[3] <= 16.728\\nentropy = 0.831\\nsamples = 57\\nvalue = [15, 42]'),\n",
       " Text(0.8054545454545454, 0.045454545454545456, 'entropy = 0.954\\nsamples = 16\\nvalue = [6, 10]'),\n",
       " Text(0.8090909090909091, 0.045454545454545456, 'entropy = 0.759\\nsamples = 41\\nvalue = [9, 32]'),\n",
       " Text(0.8109090909090909, 0.13636363636363635, 'entropy = 0.0\\nsamples = 13\\nvalue = [0, 13]'),\n",
       " Text(0.8227272727272728, 0.3181818181818182, 'X[5] <= 10.692\\nentropy = 0.999\\nsamples = 288\\nvalue = [149, 139]'),\n",
       " Text(0.8181818181818182, 0.22727272727272727, 'X[7] <= 0.055\\nentropy = 0.997\\nsamples = 278\\nvalue = [148, 130]'),\n",
       " Text(0.8145454545454546, 0.13636363636363635, 'X[6] <= 0.311\\nentropy = 0.942\\nsamples = 78\\nvalue = [50, 28]'),\n",
       " Text(0.8127272727272727, 0.045454545454545456, 'entropy = 0.999\\nsamples = 23\\nvalue = [12, 11]'),\n",
       " Text(0.8163636363636364, 0.045454545454545456, 'entropy = 0.892\\nsamples = 55\\nvalue = [38, 17]'),\n",
       " Text(0.8218181818181818, 0.13636363636363635, 'X[7] <= 0.113\\nentropy = 1.0\\nsamples = 200\\nvalue = [98, 102]'),\n",
       " Text(0.82, 0.045454545454545456, 'entropy = 0.977\\nsamples = 100\\nvalue = [59, 41]'),\n",
       " Text(0.8236363636363636, 0.045454545454545456, 'entropy = 0.965\\nsamples = 100\\nvalue = [39, 61]'),\n",
       " Text(0.8272727272727273, 0.22727272727272727, 'X[2] <= 12.348\\nentropy = 0.469\\nsamples = 10\\nvalue = [1, 9]'),\n",
       " Text(0.8254545454545454, 0.13636363636363635, 'entropy = 0.0\\nsamples = 1\\nvalue = [1, 0]'),\n",
       " Text(0.8290909090909091, 0.13636363636363635, 'entropy = 0.0\\nsamples = 9\\nvalue = [0, 9]'),\n",
       " Text(0.8522727272727273, 0.4090909090909091, 'X[0] <= 22.398\\nentropy = 0.879\\nsamples = 372\\nvalue = [111, 261]'),\n",
       " Text(0.8390909090909091, 0.3181818181818182, 'X[1] <= 8.386\\nentropy = 0.858\\nsamples = 316\\nvalue = [89, 227]'),\n",
       " Text(0.8345454545454546, 0.22727272727272727, 'X[10] <= 0.614\\nentropy = 0.969\\nsamples = 106\\nvalue = [42, 64]'),\n",
       " Text(0.8327272727272728, 0.13636363636363635, 'X[12] <= 0.191\\nentropy = 0.973\\nsamples = 104\\nvalue = [42, 62]'),\n",
       " Text(0.8309090909090909, 0.045454545454545456, 'entropy = 0.96\\nsamples = 94\\nvalue = [36, 58]'),\n",
       " Text(0.8345454545454546, 0.045454545454545456, 'entropy = 0.971\\nsamples = 10\\nvalue = [6, 4]'),\n",
       " Text(0.8363636363636363, 0.13636363636363635, 'entropy = 0.0\\nsamples = 2\\nvalue = [0, 2]'),\n",
       " Text(0.8436363636363636, 0.22727272727272727, 'X[6] <= 0.325\\nentropy = 0.767\\nsamples = 210\\nvalue = [47, 163]'),\n",
       " Text(0.84, 0.13636363636363635, 'X[8] <= 0.095\\nentropy = 0.535\\nsamples = 41\\nvalue = [5, 36]'),\n",
       " Text(0.8381818181818181, 0.045454545454545456, 'entropy = 0.0\\nsamples = 17\\nvalue = [0, 17]'),\n",
       " Text(0.8418181818181818, 0.045454545454545456, 'entropy = 0.738\\nsamples = 24\\nvalue = [5, 19]'),\n",
       " Text(0.8472727272727273, 0.13636363636363635, 'X[6] <= 0.347\\nentropy = 0.809\\nsamples = 169\\nvalue = [42, 127]'),\n",
       " Text(0.8454545454545455, 0.045454545454545456, 'entropy = 0.642\\nsamples = 92\\nvalue = [15, 77]'),\n",
       " Text(0.8490909090909091, 0.045454545454545456, 'entropy = 0.935\\nsamples = 77\\nvalue = [27, 50]'),\n",
       " Text(0.8654545454545455, 0.3181818181818182, 'X[8] <= 0.25\\nentropy = 0.967\\nsamples = 56\\nvalue = [22, 34]'),\n",
       " Text(0.8581818181818182, 0.22727272727272727, 'X[4] <= 12.734\\nentropy = 0.971\\nsamples = 15\\nvalue = [9, 6]'),\n",
       " Text(0.8545454545454545, 0.13636363636363635, 'X[3] <= 52.592\\nentropy = 0.722\\nsamples = 5\\nvalue = [4, 1]'),\n",
       " Text(0.8527272727272728, 0.045454545454545456, 'entropy = 0.0\\nsamples = 4\\nvalue = [4, 0]'),\n",
       " Text(0.8563636363636363, 0.045454545454545456, 'entropy = 0.0\\nsamples = 1\\nvalue = [0, 1]'),\n",
       " Text(0.8618181818181818, 0.13636363636363635, 'X[4] <= 16.139\\nentropy = 1.0\\nsamples = 10\\nvalue = [5, 5]'),\n",
       " Text(0.86, 0.045454545454545456, 'entropy = 0.0\\nsamples = 1\\nvalue = [0, 1]'),\n",
       " Text(0.8636363636363636, 0.045454545454545456, 'entropy = 0.991\\nsamples = 9\\nvalue = [5, 4]'),\n",
       " Text(0.8727272727272727, 0.22727272727272727, 'X[4] <= 18.181\\nentropy = 0.901\\nsamples = 41\\nvalue = [13, 28]'),\n",
       " Text(0.8690909090909091, 0.13636363636363635, 'X[4] <= 4.466\\nentropy = 0.982\\nsamples = 19\\nvalue = [8, 11]'),\n",
       " Text(0.8672727272727273, 0.045454545454545456, 'entropy = 0.0\\nsamples = 6\\nvalue = [0, 6]'),\n",
       " Text(0.8709090909090909, 0.045454545454545456, 'entropy = 0.961\\nsamples = 13\\nvalue = [8, 5]'),\n",
       " Text(0.8763636363636363, 0.13636363636363635, 'X[6] <= 0.307\\nentropy = 0.773\\nsamples = 22\\nvalue = [5, 17]'),\n",
       " Text(0.8745454545454545, 0.045454545454545456, 'entropy = 0.0\\nsamples = 3\\nvalue = [0, 3]'),\n",
       " Text(0.8781818181818182, 0.045454545454545456, 'entropy = 0.831\\nsamples = 19\\nvalue = [5, 14]'),\n",
       " Text(0.8981818181818182, 0.5, 'X[11] <= 0.252\\nentropy = 0.914\\nsamples = 79\\nvalue = [53, 26]'),\n",
       " Text(0.8963636363636364, 0.4090909090909091, 'X[7] <= 0.207\\nentropy = 0.895\\nsamples = 77\\nvalue = [53, 24]'),\n",
       " Text(0.889090909090909, 0.3181818181818182, 'X[6] <= 0.359\\nentropy = 0.579\\nsamples = 29\\nvalue = [25, 4]'),\n",
       " Text(0.8854545454545455, 0.22727272727272727, 'X[5] <= 7.539\\nentropy = 0.75\\nsamples = 14\\nvalue = [11, 3]'),\n",
       " Text(0.8836363636363637, 0.13636363636363635, 'X[5] <= 5.167\\nentropy = 0.811\\nsamples = 12\\nvalue = [9, 3]'),\n",
       " Text(0.8818181818181818, 0.045454545454545456, 'entropy = 0.881\\nsamples = 10\\nvalue = [7, 3]'),\n",
       " Text(0.8854545454545455, 0.045454545454545456, 'entropy = 0.0\\nsamples = 2\\nvalue = [2, 0]'),\n",
       " Text(0.8872727272727273, 0.13636363636363635, 'entropy = 0.0\\nsamples = 2\\nvalue = [2, 0]'),\n",
       " Text(0.8927272727272727, 0.22727272727272727, 'X[3] <= 52.953\\nentropy = 0.353\\nsamples = 15\\nvalue = [14, 1]'),\n",
       " Text(0.8909090909090909, 0.13636363636363635, 'entropy = 0.0\\nsamples = 14\\nvalue = [14, 0]'),\n",
       " Text(0.8945454545454545, 0.13636363636363635, 'entropy = 0.0\\nsamples = 1\\nvalue = [0, 1]'),\n",
       " Text(0.9036363636363637, 0.3181818181818182, 'X[4] <= 11.932\\nentropy = 0.98\\nsamples = 48\\nvalue = [28, 20]'),\n",
       " Text(0.9, 0.22727272727272727, 'X[4] <= 10.992\\nentropy = 0.991\\nsamples = 18\\nvalue = [8, 10]'),\n",
       " Text(0.8981818181818182, 0.13636363636363635, 'X[8] <= 0.27\\nentropy = 0.998\\nsamples = 17\\nvalue = [8, 9]'),\n",
       " Text(0.8963636363636364, 0.045454545454545456, 'entropy = 0.0\\nsamples = 2\\nvalue = [2, 0]'),\n",
       " Text(0.9, 0.045454545454545456, 'entropy = 0.971\\nsamples = 15\\nvalue = [6, 9]'),\n",
       " Text(0.9018181818181819, 0.13636363636363635, 'entropy = 0.0\\nsamples = 1\\nvalue = [0, 1]'),\n",
       " Text(0.9072727272727272, 0.22727272727272727, 'X[3] <= 53.265\\nentropy = 0.918\\nsamples = 30\\nvalue = [20, 10]'),\n",
       " Text(0.9054545454545454, 0.13636363636363635, 'X[3] <= 49.773\\nentropy = 0.94\\nsamples = 28\\nvalue = [18, 10]'),\n",
       " Text(0.9036363636363637, 0.045454545454545456, 'entropy = 0.89\\nsamples = 26\\nvalue = [18, 8]'),\n",
       " Text(0.9072727272727272, 0.045454545454545456, 'entropy = 0.0\\nsamples = 2\\nvalue = [0, 2]'),\n",
       " Text(0.9090909090909091, 0.13636363636363635, 'entropy = 0.0\\nsamples = 2\\nvalue = [2, 0]'),\n",
       " Text(0.9, 0.4090909090909091, 'entropy = 0.0\\nsamples = 2\\nvalue = [0, 2]'),\n",
       " Text(0.9570454545454545, 0.5909090909090909, 'X[6] <= 0.248\\nentropy = 0.892\\nsamples = 223\\nvalue = [154, 69]'),\n",
       " Text(0.9368181818181818, 0.5, 'X[8] <= 0.444\\nentropy = 0.684\\nsamples = 77\\nvalue = [63, 14]'),\n",
       " Text(0.9254545454545454, 0.4090909090909091, 'X[0] <= 21.93\\nentropy = 0.57\\nsamples = 52\\nvalue = [45, 7]'),\n",
       " Text(0.9181818181818182, 0.3181818181818182, 'X[0] <= 18.267\\nentropy = 0.469\\nsamples = 40\\nvalue = [36, 4]'),\n",
       " Text(0.9145454545454546, 0.22727272727272727, 'X[4] <= 13.354\\nentropy = 0.242\\nsamples = 25\\nvalue = [24, 1]'),\n",
       " Text(0.9127272727272727, 0.13636363636363635, 'X[10] <= 0.081\\nentropy = 0.469\\nsamples = 10\\nvalue = [9, 1]'),\n",
       " Text(0.9109090909090909, 0.045454545454545456, 'entropy = 0.918\\nsamples = 3\\nvalue = [2, 1]'),\n",
       " Text(0.9145454545454546, 0.045454545454545456, 'entropy = 0.0\\nsamples = 7\\nvalue = [7, 0]'),\n",
       " Text(0.9163636363636364, 0.13636363636363635, 'entropy = 0.0\\nsamples = 15\\nvalue = [15, 0]'),\n",
       " Text(0.9218181818181819, 0.22727272727272727, 'X[2] <= 1.392\\nentropy = 0.722\\nsamples = 15\\nvalue = [12, 3]'),\n",
       " Text(0.92, 0.13636363636363635, 'entropy = 0.0\\nsamples = 1\\nvalue = [0, 1]'),\n",
       " Text(0.9236363636363636, 0.13636363636363635, 'X[4] <= 22.947\\nentropy = 0.592\\nsamples = 14\\nvalue = [12, 2]'),\n",
       " Text(0.9218181818181819, 0.045454545454545456, 'entropy = 0.684\\nsamples = 11\\nvalue = [9, 2]'),\n",
       " Text(0.9254545454545454, 0.045454545454545456, 'entropy = 0.0\\nsamples = 3\\nvalue = [3, 0]'),\n",
       " Text(0.9327272727272727, 0.3181818181818182, 'X[1] <= 9.561\\nentropy = 0.811\\nsamples = 12\\nvalue = [9, 3]'),\n",
       " Text(0.9290909090909091, 0.22727272727272727, 'X[5] <= 9.708\\nentropy = 0.918\\nsamples = 3\\nvalue = [1, 2]'),\n",
       " Text(0.9272727272727272, 0.13636363636363635, 'entropy = 0.0\\nsamples = 1\\nvalue = [1, 0]'),\n",
       " Text(0.9309090909090909, 0.13636363636363635, 'entropy = 0.0\\nsamples = 2\\nvalue = [0, 2]'),\n",
       " Text(0.9363636363636364, 0.22727272727272727, 'X[12] <= 0.583\\nentropy = 0.503\\nsamples = 9\\nvalue = [8, 1]'),\n",
       " Text(0.9345454545454546, 0.13636363636363635, 'X[2] <= 3.687\\nentropy = 0.918\\nsamples = 3\\nvalue = [2, 1]'),\n",
       " Text(0.9327272727272727, 0.045454545454545456, 'entropy = 0.0\\nsamples = 1\\nvalue = [0, 1]'),\n",
       " Text(0.9363636363636364, 0.045454545454545456, 'entropy = 0.0\\nsamples = 2\\nvalue = [2, 0]'),\n",
       " Text(0.9381818181818182, 0.13636363636363635, 'entropy = 0.0\\nsamples = 6\\nvalue = [6, 0]'),\n",
       " Text(0.9481818181818182, 0.4090909090909091, 'X[5] <= 6.76\\nentropy = 0.855\\nsamples = 25\\nvalue = [18, 7]'),\n",
       " Text(0.9418181818181818, 0.3181818181818182, 'X[1] <= 10.018\\nentropy = 0.592\\nsamples = 14\\nvalue = [12, 2]'),\n",
       " Text(0.94, 0.22727272727272727, 'entropy = 0.0\\nsamples = 6\\nvalue = [6, 0]'),\n",
       " Text(0.9436363636363636, 0.22727272727272727, 'X[4] <= 13.834\\nentropy = 0.811\\nsamples = 8\\nvalue = [6, 2]'),\n",
       " Text(0.9418181818181818, 0.13636363636363635, 'X[3] <= 34.728\\nentropy = 0.971\\nsamples = 5\\nvalue = [3, 2]'),\n",
       " Text(0.94, 0.045454545454545456, 'entropy = 0.0\\nsamples = 1\\nvalue = [0, 1]'),\n",
       " Text(0.9436363636363636, 0.045454545454545456, 'entropy = 0.811\\nsamples = 4\\nvalue = [3, 1]'),\n",
       " Text(0.9454545454545454, 0.13636363636363635, 'entropy = 0.0\\nsamples = 3\\nvalue = [3, 0]'),\n",
       " Text(0.9545454545454546, 0.3181818181818182, 'X[2] <= 17.313\\nentropy = 0.994\\nsamples = 11\\nvalue = [6, 5]'),\n",
       " Text(0.9527272727272728, 0.22727272727272727, 'X[2] <= 14.233\\nentropy = 0.971\\nsamples = 10\\nvalue = [6, 4]'),\n",
       " Text(0.9490909090909091, 0.13636363636363635, 'X[0] <= 18.129\\nentropy = 0.863\\nsamples = 7\\nvalue = [5, 2]'),\n",
       " Text(0.9472727272727273, 0.045454545454545456, 'entropy = 0.971\\nsamples = 5\\nvalue = [3, 2]'),\n",
       " Text(0.9509090909090909, 0.045454545454545456, 'entropy = 0.0\\nsamples = 2\\nvalue = [2, 0]'),\n",
       " Text(0.9563636363636364, 0.13636363636363635, 'X[3] <= 35.262\\nentropy = 0.918\\nsamples = 3\\nvalue = [1, 2]'),\n",
       " Text(0.9545454545454546, 0.045454545454545456, 'entropy = 0.0\\nsamples = 2\\nvalue = [0, 2]'),\n",
       " Text(0.9581818181818181, 0.045454545454545456, 'entropy = 0.0\\nsamples = 1\\nvalue = [1, 0]'),\n",
       " Text(0.9563636363636364, 0.22727272727272727, 'entropy = 0.0\\nsamples = 1\\nvalue = [0, 1]'),\n",
       " Text(0.9772727272727273, 0.5, 'X[1] <= 7.313\\nentropy = 0.956\\nsamples = 146\\nvalue = [91, 55]'),\n",
       " Text(0.9672727272727273, 0.4090909090909091, 'X[0] <= 20.489\\nentropy = 0.996\\nsamples = 28\\nvalue = [13, 15]'),\n",
       " Text(0.9654545454545455, 0.3181818181818182, 'X[10] <= 0.318\\nentropy = 0.971\\nsamples = 25\\nvalue = [10, 15]'),\n",
       " Text(0.9618181818181818, 0.22727272727272727, 'X[6] <= 0.355\\nentropy = 0.544\\nsamples = 8\\nvalue = [1, 7]'),\n",
       " Text(0.96, 0.13636363636363635, 'entropy = 1.0\\nsamples = 2\\nvalue = [1, 1]'),\n",
       " Text(0.9636363636363636, 0.13636363636363635, 'entropy = 0.0\\nsamples = 6\\nvalue = [0, 6]'),\n",
       " Text(0.9690909090909091, 0.22727272727272727, 'X[5] <= 10.876\\nentropy = 0.998\\nsamples = 17\\nvalue = [9, 8]'),\n",
       " Text(0.9672727272727273, 0.13636363636363635, 'X[5] <= 9.233\\nentropy = 0.971\\nsamples = 15\\nvalue = [9, 6]'),\n",
       " Text(0.9654545454545455, 0.045454545454545456, 'entropy = 0.863\\nsamples = 7\\nvalue = [2, 5]'),\n",
       " Text(0.9690909090909091, 0.045454545454545456, 'entropy = 0.544\\nsamples = 8\\nvalue = [7, 1]'),\n",
       " Text(0.9709090909090909, 0.13636363636363635, 'entropy = 0.0\\nsamples = 2\\nvalue = [0, 2]'),\n",
       " Text(0.9690909090909091, 0.3181818181818182, 'entropy = 0.0\\nsamples = 3\\nvalue = [3, 0]'),\n",
       " Text(0.9872727272727273, 0.4090909090909091, 'X[8] <= 0.581\\nentropy = 0.924\\nsamples = 118\\nvalue = [78, 40]'),\n",
       " Text(0.98, 0.3181818181818182, 'X[11] <= 0.228\\nentropy = 0.975\\nsamples = 86\\nvalue = [51, 35]'),\n",
       " Text(0.9781818181818182, 0.22727272727272727, 'X[5] <= 8.475\\nentropy = 0.971\\nsamples = 85\\nvalue = [51, 34]'),\n",
       " Text(0.9745454545454545, 0.13636363636363635, 'X[1] <= 8.344\\nentropy = 0.987\\nsamples = 53\\nvalue = [30, 23]'),\n",
       " Text(0.9727272727272728, 0.045454545454545456, 'entropy = 0.0\\nsamples = 3\\nvalue = [0, 3]'),\n",
       " Text(0.9763636363636363, 0.045454545454545456, 'entropy = 0.971\\nsamples = 50\\nvalue = [30, 20]'),\n",
       " Text(0.9818181818181818, 0.13636363636363635, 'X[5] <= 9.19\\nentropy = 0.928\\nsamples = 32\\nvalue = [21, 11]'),\n",
       " Text(0.98, 0.045454545454545456, 'entropy = 0.722\\nsamples = 15\\nvalue = [12, 3]'),\n",
       " Text(0.9836363636363636, 0.045454545454545456, 'entropy = 0.998\\nsamples = 17\\nvalue = [9, 8]'),\n",
       " Text(0.9818181818181818, 0.22727272727272727, 'entropy = 0.0\\nsamples = 1\\nvalue = [0, 1]'),\n",
       " Text(0.9945454545454545, 0.3181818181818182, 'X[1] <= 11.032\\nentropy = 0.625\\nsamples = 32\\nvalue = [27, 5]'),\n",
       " Text(0.9927272727272727, 0.22727272727272727, 'X[3] <= 23.968\\nentropy = 0.773\\nsamples = 22\\nvalue = [17, 5]'),\n",
       " Text(0.9890909090909091, 0.13636363636363635, 'X[2] <= 12.274\\nentropy = 0.971\\nsamples = 10\\nvalue = [6, 4]'),\n",
       " Text(0.9872727272727273, 0.045454545454545456, 'entropy = 0.0\\nsamples = 1\\nvalue = [0, 1]'),\n",
       " Text(0.990909090909091, 0.045454545454545456, 'entropy = 0.918\\nsamples = 9\\nvalue = [6, 3]'),\n",
       " Text(0.9963636363636363, 0.13636363636363635, 'X[0] <= 24.922\\nentropy = 0.414\\nsamples = 12\\nvalue = [11, 1]'),\n",
       " Text(0.9945454545454545, 0.045454545454545456, 'entropy = 0.0\\nsamples = 10\\nvalue = [10, 0]'),\n",
       " Text(0.9981818181818182, 0.045454545454545456, 'entropy = 1.0\\nsamples = 2\\nvalue = [1, 1]'),\n",
       " Text(0.9963636363636363, 0.22727272727272727, 'entropy = 0.0\\nsamples = 10\\nvalue = [10, 0]')]"
      ]
     },
     "execution_count": 84,
     "metadata": {},
     "output_type": "execute_result"
    },
    {
     "data": {
      "image/png": "[encoded data removed]",
      "text/plain": [
       "<Figure size 1728x1008 with 1 Axes>"
      ]
     },
     "metadata": {
      "needs_background": "light"
     },
     "output_type": "display_data"
    }
   ],
   "source": [
    "import matplotlib.pyplot as plt\n",
    "%matplotlib inline\n",
    "from sklearn.tree import plot_tree\n",
    "\n",
    "plt.figure(figsize=(24,14))\n",
    "plot_tree(dt, filled=True)"
   ]
  },
  {
   "cell_type": "markdown",
   "metadata": {},
   "source": [
    "# **Using Random Forest Classifier**"
   ]
  },
  {
   "cell_type": "code",
   "execution_count": 85,
   "metadata": {},
   "outputs": [
    {
     "data": {
      "text/html": [
       "<style>#sk-container-id-4 {color: black;background-color: white;}#sk-container-id-4 pre{padding: 0;}#sk-container-id-4 div.sk-toggleable {background-color: white;}#sk-container-id-4 label.sk-toggleable__label {cursor: pointer;display: block;width: 100%;margin-bottom: 0;padding: 0.3em;box-sizing: border-box;text-align: center;}#sk-container-id-4 label.sk-toggleable__label-arrow:before {content: \"▸\";float: left;margin-right: 0.25em;color: #696969;}#sk-container-id-4 label.sk-toggleable__label-arrow:hover:before {color: black;}#sk-container-id-4 div.sk-estimator:hover label.sk-toggleable__label-arrow:before {color: black;}#sk-container-id-4 div.sk-toggleable__content {max-height: 0;max-width: 0;overflow: hidden;text-align: left;background-color: #f0f8ff;}#sk-container-id-4 div.sk-toggleable__content pre {margin: 0.2em;color: black;border-radius: 0.25em;background-color: #f0f8ff;}#sk-container-id-4 input.sk-toggleable__control:checked~div.sk-toggleable__content {max-height: 200px;max-width: 100%;overflow: auto;}#sk-container-id-4 input.sk-toggleable__control:checked~label.sk-toggleable__label-arrow:before {content: \"▾\";}#sk-container-id-4 div.sk-estimator input.sk-toggleable__control:checked~label.sk-toggleable__label {background-color: #d4ebff;}#sk-container-id-4 div.sk-label input.sk-toggleable__control:checked~label.sk-toggleable__label {background-color: #d4ebff;}#sk-container-id-4 input.sk-hidden--visually {border: 0;clip: rect(1px 1px 1px 1px);clip: rect(1px, 1px, 1px, 1px);height: 1px;margin: -1px;overflow: hidden;padding: 0;position: absolute;width: 1px;}#sk-container-id-4 div.sk-estimator {font-family: monospace;background-color: #f0f8ff;border: 1px dotted black;border-radius: 0.25em;box-sizing: border-box;margin-bottom: 0.5em;}#sk-container-id-4 div.sk-estimator:hover {background-color: #d4ebff;}#sk-container-id-4 div.sk-parallel-item::after {content: \"\";width: 100%;border-bottom: 1px solid gray;flex-grow: 1;}#sk-container-id-4 div.sk-label:hover label.sk-toggleable__label {background-color: #d4ebff;}#sk-container-id-4 div.sk-serial::before {content: \"\";position: absolute;border-left: 1px solid gray;box-sizing: border-box;top: 0;bottom: 0;left: 50%;z-index: 0;}#sk-container-id-4 div.sk-serial {display: flex;flex-direction: column;align-items: center;background-color: white;padding-right: 0.2em;padding-left: 0.2em;position: relative;}#sk-container-id-4 div.sk-item {position: relative;z-index: 1;}#sk-container-id-4 div.sk-parallel {display: flex;align-items: stretch;justify-content: center;background-color: white;position: relative;}#sk-container-id-4 div.sk-item::before, #sk-container-id-4 div.sk-parallel-item::before {content: \"\";position: absolute;border-left: 1px solid gray;box-sizing: border-box;top: 0;bottom: 0;left: 50%;z-index: -1;}#sk-container-id-4 div.sk-parallel-item {display: flex;flex-direction: column;z-index: 1;position: relative;background-color: white;}#sk-container-id-4 div.sk-parallel-item:first-child::after {align-self: flex-end;width: 50%;}#sk-container-id-4 div.sk-parallel-item:last-child::after {align-self: flex-start;width: 50%;}#sk-container-id-4 div.sk-parallel-item:only-child::after {width: 0;}#sk-container-id-4 div.sk-dashed-wrapped {border: 1px dashed gray;margin: 0 0.4em 0.5em 0.4em;box-sizing: border-box;padding-bottom: 0.4em;background-color: white;}#sk-container-id-4 div.sk-label label {font-family: monospace;font-weight: bold;display: inline-block;line-height: 1.2em;}#sk-container-id-4 div.sk-label-container {text-align: center;}#sk-container-id-4 div.sk-container {/* jupyter's `normalize.less` sets `[hidden] { display: none; }` but bootstrap.min.css set `[hidden] { display: none !important; }` so we also need the `!important` here to be able to override the default hidden behavior on the sphinx rendered scikit-learn.org. See: https://github.com/scikit-learn/scikit-learn/issues/21755 */display: inline-block !important;position: relative;}#sk-container-id-4 div.sk-text-repr-fallback {display: none;}</style><div id=\"sk-container-id-4\" class=\"sk-top-container\"><div class=\"sk-text-repr-fallback\"><pre>RandomForestClassifier()</pre><b>In a Jupyter environment, please rerun this cell to show the HTML representation or trust the notebook. <br />On GitHub, the HTML representation is unable to render, please try loading this page with nbviewer.org.</b></div><div class=\"sk-container\" hidden><div class=\"sk-item\"><div class=\"sk-estimator sk-toggleable\"><input class=\"sk-toggleable__control sk-hidden--visually\" id=\"sk-estimator-id-4\" type=\"checkbox\" checked><label for=\"sk-estimator-id-4\" class=\"sk-toggleable__label sk-toggleable__label-arrow\">RandomForestClassifier</label><div class=\"sk-toggleable__content\"><pre>RandomForestClassifier()</pre></div></div></div></div></div>"
      ],
      "text/plain": [
       "RandomForestClassifier()"
      ]
     },
     "execution_count": 85,
     "metadata": {},
     "output_type": "execute_result"
    }
   ],
   "source": [
    "from sklearn.ensemble import RandomForestClassifier\n",
    "rf_clf = RandomForestClassifier(n_estimators=100)\n",
    "rf_clf.fit(x_train,y_train)"
   ]
  },
  {
   "cell_type": "code",
   "execution_count": 86,
   "metadata": {},
   "outputs": [],
   "source": [
    "y_pred3=rf_clf.predict(x_test)"
   ]
  },
  {
   "cell_type": "code",
   "execution_count": 87,
   "metadata": {},
   "outputs": [
    {
     "name": "stdout",
     "output_type": "stream",
     "text": [
      "              precision    recall  f1-score   support\n",
      "\n",
      "           0       0.72      0.83      0.77      1081\n",
      "           1       0.68      0.53      0.60       751\n",
      "\n",
      "    accuracy                           0.71      1832\n",
      "   macro avg       0.70      0.68      0.68      1832\n",
      "weighted avg       0.70      0.71      0.70      1832\n",
      "\n"
     ]
    }
   ],
   "source": [
    "print(classification_report(y_test,y_pred3))"
   ]
  },
  {
   "cell_type": "code",
   "execution_count": 88,
   "metadata": {},
   "outputs": [
    {
     "data": {
      "text/plain": [
       "0.679670399381152"
      ]
     },
     "execution_count": 88,
     "metadata": {},
     "output_type": "execute_result"
    }
   ],
   "source": [
    "score=roc_auc_score(y_test,y_pred3)\n",
    "score"
   ]
  },
  {
   "cell_type": "code",
   "execution_count": 89,
   "metadata": {},
   "outputs": [
    {
     "name": "stdout",
     "output_type": "stream",
     "text": [
      "[0.72634061 0.45863992 0.50971805 0.641812   0.67336177]\n",
      "Cross validation Score: 0.601974468737458\n",
      "Std : 0.10119896571229234\n"
     ]
    }
   ],
   "source": [
    "scores = cross_val_score(rf_clf,x,y,cv=5,scoring='roc_auc')\n",
    "print(scores)\n",
    "print(\"Cross validation Score:\",scores.mean())\n",
    "print(\"Std :\",scores.std())"
   ]
  },
  {
   "cell_type": "markdown",
   "metadata": {},
   "source": [
    "# **Hyperparameter tuning for Random Forest Classifer**"
   ]
  },
  {
   "cell_type": "code",
   "execution_count": 90,
   "metadata": {},
   "outputs": [
    {
     "name": "stdout",
     "output_type": "stream",
     "text": [
      "Fitting 3 folds for each of 100 candidates, totalling 300 fits\n",
      "Best paramters: {'n_estimators': 1600, 'min_samples_split': 5, 'min_samples_leaf': 2, 'max_features': 'sqrt', 'max_depth': 10, 'bootstrap': False})\n"
     ]
    }
   ],
   "source": [
    "from sklearn.model_selection import RandomizedSearchCV\n",
    "\n",
    "n_estimators = [int(x) for x in np.linspace(start=200, stop=2000, num=10)]\n",
    "max_features = ['auto', 'sqrt']\n",
    "max_depth = [int(x) for x in np.linspace(10, 110, num=11)]\n",
    "max_depth.append(None)\n",
    "min_samples_split = [2, 5, 10]\n",
    "min_samples_leaf = [1, 2, 4]\n",
    "bootstrap = [True, False]\n",
    "\n",
    "random_grid = {'n_estimators': n_estimators, 'max_features': max_features,\n",
    "               'max_depth': max_depth, 'min_samples_split': min_samples_split,\n",
    "               'min_samples_leaf': min_samples_leaf, 'bootstrap': bootstrap}\n",
    "\n",
    "rf_clf1 = RandomForestClassifier(random_state=42)\n",
    "\n",
    "rf_cv = RandomizedSearchCV(estimator=rf_clf1, scoring='f1',param_distributions=random_grid, n_iter=100, cv=3, \n",
    "                               verbose=2, random_state=42, n_jobs=-1)\n",
    "\n",
    "rf_cv.fit(x_train, y_train)\n",
    "rf_best_params = rf_cv.best_params_\n",
    "print(f\"Best paramters: {rf_best_params})\")"
   ]
  },
  {
   "cell_type": "code",
   "execution_count": 91,
   "metadata": {},
   "outputs": [],
   "source": [
    "rf_clf2 = RandomForestClassifier(**rf_best_params)\n",
    "rf_clf2.fit(x_train, y_train)\n",
    "y_predict=rf_clf2.predict(x_test)"
   ]
  },
  {
   "cell_type": "code",
   "execution_count": 92,
   "metadata": {},
   "outputs": [
    {
     "name": "stdout",
     "output_type": "stream",
     "text": [
      "              precision    recall  f1-score   support\n",
      "\n",
      "           0       0.71      0.85      0.77      1081\n",
      "           1       0.69      0.50      0.58       751\n",
      "\n",
      "    accuracy                           0.71      1832\n",
      "   macro avg       0.70      0.67      0.68      1832\n",
      "weighted avg       0.70      0.71      0.69      1832\n",
      "\n"
     ]
    }
   ],
   "source": [
    "print(classification_report(y_test,y_predict))"
   ]
  },
  {
   "cell_type": "code",
   "execution_count": 93,
   "metadata": {},
   "outputs": [
    {
     "data": {
      "text/plain": [
       "0.6744211541564685"
      ]
     },
     "execution_count": 93,
     "metadata": {},
     "output_type": "execute_result"
    }
   ],
   "source": [
    "score=roc_auc_score(y_test,y_predict)\n",
    "score"
   ]
  },
  {
   "cell_type": "code",
   "execution_count": 94,
   "metadata": {},
   "outputs": [
    {
     "name": "stdout",
     "output_type": "stream",
     "text": [
      "[0.74309004 0.51775786 0.54039166 0.6589617  0.69640326]\n",
      "Cross validation Score: 0.6313209025913984\n",
      "Std : 0.0879281077390906\n"
     ]
    }
   ],
   "source": [
    "scores = cross_val_score(rf_clf2,x,y,cv=5,scoring='roc_auc')\n",
    "print(scores)\n",
    "print(\"Cross validation Score:\",scores.mean())\n",
    "print(\"Std :\",scores.std())"
   ]
  },
  {
   "cell_type": "markdown",
   "metadata": {},
   "source": [
    "# **Using Support Vector Machines**"
   ]
  },
  {
   "cell_type": "code",
   "execution_count": 95,
   "metadata": {},
   "outputs": [],
   "source": [
    "from sklearn.svm import SVC\n",
    "svc= SVC()\n",
    "svc.fit(x_train,y_train)\n",
    "y_pred2 = svc.predict(x_test)"
   ]
  },
  {
   "cell_type": "code",
   "execution_count": 96,
   "metadata": {},
   "outputs": [
    {
     "name": "stdout",
     "output_type": "stream",
     "text": [
      "              precision    recall  f1-score   support\n",
      "\n",
      "           0       0.59      1.00      0.74      1081\n",
      "           1       0.00      0.00      0.00       751\n",
      "\n",
      "    accuracy                           0.59      1832\n",
      "   macro avg       0.30      0.50      0.37      1832\n",
      "weighted avg       0.35      0.59      0.44      1832\n",
      "\n"
     ]
    }
   ],
   "source": [
    "print(classification_report(y_test,y_pred2))"
   ]
  },
  {
   "cell_type": "code",
   "execution_count": 97,
   "metadata": {},
   "outputs": [
    {
     "data": {
      "text/plain": [
       "0.5"
      ]
     },
     "execution_count": 97,
     "metadata": {},
     "output_type": "execute_result"
    }
   ],
   "source": [
    "score=roc_auc_score(y_test,y_pred2)\n",
    "score"
   ]
  },
  {
   "cell_type": "code",
   "execution_count": 98,
   "metadata": {},
   "outputs": [
    {
     "name": "stdout",
     "output_type": "stream",
     "text": [
      "[0.63898384 0.6874371  0.65523263 0.65112491 0.54605753]\n",
      "Cross validation Score: 0.6357671998384191\n",
      "Std : 0.047629219535246105\n"
     ]
    }
   ],
   "source": [
    "scores = cross_val_score(svc,x,y,cv=5,scoring='roc_auc')\n",
    "print(scores)\n",
    "print(\"Cross validation Score:\",scores.mean())\n",
    "print(\"Std :\",scores.std())"
   ]
  },
  {
   "cell_type": "markdown",
   "metadata": {},
   "source": [
    "# **Using Artificial Neural Network (ANN)**"
   ]
  },
  {
   "cell_type": "code",
   "execution_count": 99,
   "metadata": {},
   "outputs": [
    {
     "data": {
      "text/plain": [
       "array([[0.62919177, 0.37080823],\n",
       "       [0.59222187, 0.40777813],\n",
       "       [0.7207892 , 0.2792108 ],\n",
       "       ...,\n",
       "       [0.67000952, 0.32999048],\n",
       "       [0.61051108, 0.38948892],\n",
       "       [0.74823157, 0.25176843]])"
      ]
     },
     "execution_count": 99,
     "metadata": {},
     "output_type": "execute_result"
    }
   ],
   "source": [
    "from sklearn.neural_network import MLPClassifier\n",
    "model = MLPClassifier( hidden_layer_sizes=(50,3), # 1st hidden layer with 50units and 2nd hidden layer will have 3unitslearning_rate_init=0.1, # The initial learning rate used. It controls the step-size in updating the weights.  \n",
    "                       max_iter=100, # Maximum number of iterations. default=200. This is called as stopping criteria.\n",
    "                       random_state=2) \n",
    "\n",
    "model.fit(x_train,y_train) ## training the data\n",
    "\n",
    "y_predict_proba = model.predict_proba(x_test) ## predicting the probability of class\n",
    "y_predict_proba"
   ]
  },
  {
   "cell_type": "code",
   "execution_count": 100,
   "metadata": {},
   "outputs": [],
   "source": [
    "y_predict = model.predict(x_test) # Predicting for X_test\n",
    "\n",
    "y_train_predict = model.predict(x_train) # predicting for X_train"
   ]
  },
  {
   "cell_type": "code",
   "execution_count": 101,
   "metadata": {},
   "outputs": [
    {
     "name": "stdout",
     "output_type": "stream",
     "text": [
      "Train accuracy : 0.6761280931586608\n",
      "Test accuracy : 0.6468340611353712\n"
     ]
    }
   ],
   "source": [
    "## Evaluating the model created\n",
    "from sklearn.metrics import accuracy_score,confusion_matrix\n",
    "\n",
    "print(\"Train accuracy :\",accuracy_score(y_train,y_train_predict))\n",
    "print(\"Test accuracy :\",accuracy_score(y_test,y_predict))"
   ]
  },
  {
   "cell_type": "code",
   "execution_count": 102,
   "metadata": {},
   "outputs": [
    {
     "name": "stdout",
     "output_type": "stream",
     "text": [
      "              precision    recall  f1-score   support\n",
      "\n",
      "           0       0.67      0.80      0.73      1081\n",
      "           1       0.60      0.42      0.49       751\n",
      "\n",
      "    accuracy                           0.65      1832\n",
      "   macro avg       0.63      0.61      0.61      1832\n",
      "weighted avg       0.64      0.65      0.63      1832\n",
      "\n"
     ]
    }
   ],
   "source": [
    "## getting classification report\n",
    "from sklearn.metrics import classification_report\n",
    "print(classification_report(y_test,y_predict))"
   ]
  },
  {
   "cell_type": "markdown",
   "metadata": {},
   "source": [
    "# **Using Naive Bayes Bernoulli**"
   ]
  },
  {
   "cell_type": "code",
   "execution_count": 103,
   "metadata": {},
   "outputs": [],
   "source": [
    "## Model creation\n",
    "from sklearn.naive_bayes import BernoulliNB\n",
    "\n",
    "## model object creation\n",
    "nb=BernoulliNB(alpha=0.01) #alpha is a regularization parameter # Avoid overfitting.\n",
    "\n",
    "## fitting the model\n",
    "nb.fit(x_train,y_train)\n",
    "\n",
    "## getting the prediction\n",
    "y_hat=nb.predict(x_test) "
   ]
  },
  {
   "cell_type": "code",
   "execution_count": 104,
   "metadata": {},
   "outputs": [
    {
     "data": {
      "text/plain": [
       "array([0, 0, 0, ..., 1, 0, 0], dtype=int64)"
      ]
     },
     "execution_count": 104,
     "metadata": {},
     "output_type": "execute_result"
    }
   ],
   "source": [
    "y_hat"
   ]
  },
  {
   "cell_type": "code",
   "execution_count": 105,
   "metadata": {},
   "outputs": [],
   "source": [
    "## Evaluating the model\n",
    "from sklearn.metrics import classification_report,confusion_matrix"
   ]
  },
  {
   "cell_type": "code",
   "execution_count": 106,
   "metadata": {},
   "outputs": [
    {
     "name": "stdout",
     "output_type": "stream",
     "text": [
      "              precision    recall  f1-score   support\n",
      "\n",
      "           0       0.67      0.72      0.70      1081\n",
      "           1       0.55      0.50      0.53       751\n",
      "\n",
      "    accuracy                           0.63      1832\n",
      "   macro avg       0.61      0.61      0.61      1832\n",
      "weighted avg       0.62      0.63      0.63      1832\n",
      "\n"
     ]
    }
   ],
   "source": [
    "print(classification_report(y_test,y_hat))"
   ]
  },
  {
   "cell_type": "markdown",
   "metadata": {},
   "source": [
    "# **CONCLUSION**"
   ]
  },
  {
   "cell_type": "markdown",
   "metadata": {},
   "source": [
    "**Data Analysis**\n",
    "\n",
    "  The data is supervised and categorical. The predictor variables are nominal. The target variable 'Status' is nominal as  well.\n",
    "\n",
    "  Most of the columns had a lot of different labels, so we compressed and merged the labels such that only the main ones were     included and then used Label Encoding. The predictor variable was categorized into two types 'Good Lead' and 'Bad Lead'.\n",
    "\n",
    " \n",
    "  SMOTE is used ajdusting the sampling data. For training the data and predicting the target, algorithms used are Logistic       .Regression, Support Vector Machine, Decision Tree, Random Forest, Naive Bayes and  Artificial Neural Network \n",
    " "
   ]
  },
  {
   "cell_type": "markdown",
   "metadata": {},
   "source": [
    " **Summary**\n",
    "    \n",
    "The project is done with the purpose of finding out the Lead Quality, whether the lead should be followed or not. The company motive is to invest in the right prospects. So therefore we divided the Lead as 'Good' or 'Bad'. This resulted in increase of accuracy drastically. \n",
    "     \n",
    "After considering the performance of all the models on the basis of Accuracy, f1 Score, ruc score and cross-validation it is concluded that **Random Forest should be selected as our final model**.\n",
    " \n",
    " "
   ]
  },
  {
   "cell_type": "code",
   "execution_count": null,
   "metadata": {},
   "outputs": [],
   "source": []
  }
 ],
 "metadata": {
  "colab": {
   "collapsed_sections": [],
   "name": "database_connection.ipynb",
   "provenance": []
  },
  "kernelspec": {
   "display_name": "Python 3 (ipykernel)",
   "language": "python",
   "name": "python3"
  },
  "language_info": {
   "codemirror_mode": {
    "name": "ipython",
    "version": 3
   },
   "file_extension": ".py",
   "mimetype": "text/x-python",
   "name": "python",
   "nbconvert_exporter": "python",
   "pygments_lexer": "ipython3",
   "version": "3.9.7"
  }
 },
 "nbformat": 4,
 "nbformat_minor": 1
}
